{
 "cells": [
  {
   "cell_type": "markdown",
   "metadata": {
    "id": "VIyt45CPBuRA"
   },
   "source": [
    "# Телеком"
   ]
  },
  {
   "cell_type": "markdown",
   "metadata": {
    "id": "Nmdjb-dkBuRA"
   },
   "source": [
    "Оператор связи **«Ниединогоразрыва.ком»** хочет научиться прогнозировать отток клиентов. Если выяснится, что пользователь планирует уйти, ему будут предложены промокоды и специальные условия. Команда оператора собрала персональные данные о некоторых клиентах, информацию об их тарифах и договорах.\n",
    "\n",
    "**Описание услуг**\n",
    "\n",
    "Оператор предоставляет два основных типа услуг: \n",
    "\n",
    "1. Стационарную телефонную связь. Возможно подключение телефонного аппарата к нескольким линиям одновременно.\n",
    "2. Интернет. Подключение может быть двух типов: через телефонную линию (DSL*,* от англ. *digital subscriber line*, «цифровая абонентская линия») или оптоволоконный кабель (*Fiber optic*).  \n",
    "\n",
    "Также доступны такие услуги:\n",
    "\n",
    "- Интернет-безопасность: антивирус (*DeviceProtection*) и блокировка небезопасных сайтов (*OnlineSecurity*);\n",
    "- Выделенная линия технической поддержки (*TechSupport*);\n",
    "- Облачное хранилище файлов для резервного копирования данных (*OnlineBackup*);\n",
    "- Стриминговое телевидение (*StreamingTV*) и каталог фильмов (*StreamingMovies*).\n",
    "\n",
    "За услуги клиенты могут платить каждый месяц или заключить договор на 1–2 года. Доступны различные способы расчёта и возможность получения электронного чека.\n",
    "\n",
    "**Описание данных**\n",
    "\n",
    "Данные состоят из файлов, полученных из разных источников:\n",
    "\n",
    "- `contract.csv` — информация о договоре;\n",
    "- `personal.csv` — персональные данные клиента;\n",
    "- `internet.csv` — информация об интернет-услугах;\n",
    "- `phone.csv` — информация об услугах телефонии.\n",
    "\n",
    "Во всех файлах столбец `customerID` содержит код клиента.\n",
    "\n",
    "Информация о договорах актуальна на 1 февраля 2020."
   ]
  },
  {
   "cell_type": "markdown",
   "metadata": {
    "id": "Wxya4XBDBuRB"
   },
   "source": [
    "### Импорт библиотек, настройки, константы"
   ]
  },
  {
   "cell_type": "code",
   "execution_count": null,
   "metadata": {
    "id": "aPMT1HLwBuRB"
   },
   "outputs": [],
   "source": [
    "import pandas as pd\n",
    "from datetime import datetime\n",
    "import re\n",
    "import numpy as np\n",
    "import warnings\n",
    "import seaborn as sns\n",
    "from matplotlib import pyplot as plt\n",
    "\n",
    "\n",
    "from sklearn.model_selection import train_test_split, StratifiedKFold, GridSearchCV, cross_val_score\n",
    "from sklearn.metrics import roc_auc_score, accuracy_score, roc_curve, confusion_matrix, precision_score, recall_score\n",
    "from sklearn.feature_selection import GenericUnivariateSelect, mutual_info_classif\n",
    "from sklearn.pipeline import Pipeline\n",
    "from sklearn.preprocessing import PowerTransformer\n",
    "from sklearn.linear_model import LogisticRegression\n",
    "from sklearn.ensemble import RandomForestClassifier\n",
    "from sklearn.dummy import DummyClassifier\n",
    "\n",
    "\n",
    "from catboost import CatBoostClassifier, cv, Pool\n",
    "\n",
    "warnings.filterwarnings(\"ignore\",category=FutureWarning)\n",
    "\n",
    "sns.set(style='whitegrid', palette='pastel', color_codes=True)\n",
    "sns.mpl.rc('figure', figsize=(10,6))\n",
    "%matplotlib inline\n",
    "\n",
    "pd.set_option('display.max_columns', None)\n",
    "\n",
    "\n",
    "TODAY_DATE = datetime.strptime('2020-02-01', '%Y-%m-%d')\n",
    "DAYS_IN_MONTH = 30.44\n",
    "RANDOM_STATE = 12345"
   ]
  },
  {
   "cell_type": "markdown",
   "metadata": {
    "id": "dJdJ0-BiBuRC"
   },
   "source": [
    "## Исследовательский анализ данных"
   ]
  },
  {
   "cell_type": "code",
   "execution_count": null,
   "metadata": {
    "id": "UNRHC_ucBuRC"
   },
   "outputs": [],
   "source": [
    "#Загрузим датасеты.\n",
    "df_contract = pd.read_csv('/datasets/final_provider/contract.csv')\n",
    "df_personal = pd.read_csv('/datasets/final_provider/personal.csv')\n",
    "df_internet = pd.read_csv('/datasets/final_provider/internet.csv')\n",
    "df_phone = pd.read_csv('/datasets/final_provider/phone.csv')"
   ]
  },
  {
   "cell_type": "markdown",
   "metadata": {
    "id": "fCRwpYyEBuRD"
   },
   "source": [
    "### Пропуски и дубликаты"
   ]
  },
  {
   "cell_type": "code",
   "execution_count": null,
   "metadata": {
    "id": "6PlZwTSHBuRD",
    "outputId": "c132f69d-337c-46ba-a09a-4de28cba3190"
   },
   "outputs": [
    {
     "name": "stdout",
     "output_type": "stream",
     "text": [
      "\n",
      "Количество пропусков в датафрейме df_contract: 0\n",
      "Количество дубликатов в датафрейме df_contract: 0\n",
      "\n",
      "Количество пропусков в датафрейме df_personal: 0\n",
      "Количество дубликатов в датафрейме df_personal: 0\n",
      "\n",
      "Количество пропусков в датафрейме df_internet: 0\n",
      "Количество дубликатов в датафрейме df_internet: 0\n",
      "\n",
      "Количество пропусков в датафрейме df_phone: 0\n",
      "Количество дубликатов в датафрейме df_phone: 0\n"
     ]
    }
   ],
   "source": [
    "##Проверим на пропуски и дубликаты\n",
    "dfs = {'df_contract': df_contract, 'df_personal': df_personal, 'df_internet': df_internet, 'df_phone': df_phone}\n",
    "for key in dfs.keys():\n",
    "    print('\\nКоличество пропусков в датафрейме {}:'.format(key), dfs[key].isna().sum().sum())\n",
    "    print('Количество дубликатов в датафрейме {}:'.format(key), dfs[key].duplicated().sum())"
   ]
  },
  {
   "cell_type": "code",
   "execution_count": null,
   "metadata": {
    "id": "oTLpPNKsBuRE"
   },
   "outputs": [],
   "source": [
    "#Смёржим данные по коду клиента (outer).\n",
    "df = df_contract.merge(df_personal, how = 'outer', on = 'customerID').merge(\n",
    "    df_internet, how = 'outer', on = 'customerID').merge(df_phone, how = 'outer', on = 'customerID')"
   ]
  },
  {
   "cell_type": "code",
   "execution_count": null,
   "metadata": {
    "id": "kUpdU7lFBuRE",
    "outputId": "6ae6cc32-7137-489e-c5ea-ce2d93fce5ad"
   },
   "outputs": [
    {
     "data": {
      "text/plain": [
       "InternetService     1526\n",
       "OnlineSecurity      1526\n",
       "OnlineBackup        1526\n",
       "DeviceProtection    1526\n",
       "TechSupport         1526\n",
       "StreamingTV         1526\n",
       "StreamingMovies     1526\n",
       "MultipleLines        682\n",
       "dtype: int64"
      ]
     },
     "execution_count": 5,
     "metadata": {},
     "output_type": "execute_result"
    }
   ],
   "source": [
    "df.isna().sum()[12:20]"
   ]
  },
  {
   "cell_type": "markdown",
   "metadata": {
    "id": "4E_NO9zjBuRE"
   },
   "source": [
    "Появившиеся пропуски связаны с тем, что не все клиенты из датафреймов df_contract и df_personal пользуются одновременно и мультилинией и интернетом. Заменим все пропущенные значения на 'No'."
   ]
  },
  {
   "cell_type": "code",
   "execution_count": null,
   "metadata": {
    "id": "Lw28p1InBuRE"
   },
   "outputs": [],
   "source": [
    "df = df.fillna('No')"
   ]
  },
  {
   "cell_type": "code",
   "execution_count": null,
   "metadata": {
    "id": "NtcKNQnBBuRF",
    "outputId": "360dff37-d0de-43a7-e499-9b8dc217531a"
   },
   "outputs": [
    {
     "data": {
      "text/html": [
       "<div>\n",
       "<style scoped>\n",
       "    .dataframe tbody tr th:only-of-type {\n",
       "        vertical-align: middle;\n",
       "    }\n",
       "\n",
       "    .dataframe tbody tr th {\n",
       "        vertical-align: top;\n",
       "    }\n",
       "\n",
       "    .dataframe thead th {\n",
       "        text-align: right;\n",
       "    }\n",
       "</style>\n",
       "<table border=\"1\" class=\"dataframe\">\n",
       "  <thead>\n",
       "    <tr style=\"text-align: right;\">\n",
       "      <th></th>\n",
       "      <th>customerID</th>\n",
       "      <th>BeginDate</th>\n",
       "      <th>EndDate</th>\n",
       "      <th>Type</th>\n",
       "      <th>PaperlessBilling</th>\n",
       "      <th>PaymentMethod</th>\n",
       "      <th>MonthlyCharges</th>\n",
       "      <th>TotalCharges</th>\n",
       "      <th>gender</th>\n",
       "      <th>SeniorCitizen</th>\n",
       "      <th>Partner</th>\n",
       "      <th>Dependents</th>\n",
       "      <th>InternetService</th>\n",
       "      <th>OnlineSecurity</th>\n",
       "      <th>OnlineBackup</th>\n",
       "      <th>DeviceProtection</th>\n",
       "      <th>TechSupport</th>\n",
       "      <th>StreamingTV</th>\n",
       "      <th>StreamingMovies</th>\n",
       "      <th>MultipleLines</th>\n",
       "    </tr>\n",
       "  </thead>\n",
       "  <tbody>\n",
       "    <tr>\n",
       "      <td>6559</td>\n",
       "      <td>1427-VERSM</td>\n",
       "      <td>2015-06-01</td>\n",
       "      <td>No</td>\n",
       "      <td>Month-to-month</td>\n",
       "      <td>Yes</td>\n",
       "      <td>Electronic check</td>\n",
       "      <td>98.70</td>\n",
       "      <td>5669.5</td>\n",
       "      <td>Female</td>\n",
       "      <td>0</td>\n",
       "      <td>Yes</td>\n",
       "      <td>No</td>\n",
       "      <td>Fiber optic</td>\n",
       "      <td>No</td>\n",
       "      <td>No</td>\n",
       "      <td>Yes</td>\n",
       "      <td>Yes</td>\n",
       "      <td>Yes</td>\n",
       "      <td>Yes</td>\n",
       "      <td>No</td>\n",
       "    </tr>\n",
       "    <tr>\n",
       "      <td>232</td>\n",
       "      <td>8937-RDTHP</td>\n",
       "      <td>2019-10-01</td>\n",
       "      <td>2019-11-01 00:00:00</td>\n",
       "      <td>Month-to-month</td>\n",
       "      <td>Yes</td>\n",
       "      <td>Mailed check</td>\n",
       "      <td>84.60</td>\n",
       "      <td>84.6</td>\n",
       "      <td>Male</td>\n",
       "      <td>0</td>\n",
       "      <td>No</td>\n",
       "      <td>No</td>\n",
       "      <td>Fiber optic</td>\n",
       "      <td>Yes</td>\n",
       "      <td>No</td>\n",
       "      <td>No</td>\n",
       "      <td>No</td>\n",
       "      <td>No</td>\n",
       "      <td>Yes</td>\n",
       "      <td>No</td>\n",
       "    </tr>\n",
       "    <tr>\n",
       "      <td>586</td>\n",
       "      <td>4568-KNYWR</td>\n",
       "      <td>2015-10-01</td>\n",
       "      <td>No</td>\n",
       "      <td>Two year</td>\n",
       "      <td>Yes</td>\n",
       "      <td>Credit card (automatic)</td>\n",
       "      <td>63.25</td>\n",
       "      <td>3342.45</td>\n",
       "      <td>Male</td>\n",
       "      <td>0</td>\n",
       "      <td>No</td>\n",
       "      <td>No</td>\n",
       "      <td>DSL</td>\n",
       "      <td>Yes</td>\n",
       "      <td>Yes</td>\n",
       "      <td>No</td>\n",
       "      <td>No</td>\n",
       "      <td>Yes</td>\n",
       "      <td>No</td>\n",
       "      <td>No</td>\n",
       "    </tr>\n",
       "    <tr>\n",
       "      <td>1355</td>\n",
       "      <td>5624-RYAMH</td>\n",
       "      <td>2019-05-01</td>\n",
       "      <td>No</td>\n",
       "      <td>Month-to-month</td>\n",
       "      <td>Yes</td>\n",
       "      <td>Electronic check</td>\n",
       "      <td>19.50</td>\n",
       "      <td>178.85</td>\n",
       "      <td>Female</td>\n",
       "      <td>0</td>\n",
       "      <td>No</td>\n",
       "      <td>No</td>\n",
       "      <td>No</td>\n",
       "      <td>No</td>\n",
       "      <td>No</td>\n",
       "      <td>No</td>\n",
       "      <td>No</td>\n",
       "      <td>No</td>\n",
       "      <td>No</td>\n",
       "      <td>No</td>\n",
       "    </tr>\n",
       "    <tr>\n",
       "      <td>6187</td>\n",
       "      <td>0224-NIJLP</td>\n",
       "      <td>2019-06-01</td>\n",
       "      <td>No</td>\n",
       "      <td>Two year</td>\n",
       "      <td>No</td>\n",
       "      <td>Mailed check</td>\n",
       "      <td>20.15</td>\n",
       "      <td>165.5</td>\n",
       "      <td>Male</td>\n",
       "      <td>0</td>\n",
       "      <td>Yes</td>\n",
       "      <td>Yes</td>\n",
       "      <td>No</td>\n",
       "      <td>No</td>\n",
       "      <td>No</td>\n",
       "      <td>No</td>\n",
       "      <td>No</td>\n",
       "      <td>No</td>\n",
       "      <td>No</td>\n",
       "      <td>No</td>\n",
       "    </tr>\n",
       "  </tbody>\n",
       "</table>\n",
       "</div>"
      ],
      "text/plain": [
       "      customerID   BeginDate              EndDate            Type  \\\n",
       "6559  1427-VERSM  2015-06-01                   No  Month-to-month   \n",
       "232   8937-RDTHP  2019-10-01  2019-11-01 00:00:00  Month-to-month   \n",
       "586   4568-KNYWR  2015-10-01                   No        Two year   \n",
       "1355  5624-RYAMH  2019-05-01                   No  Month-to-month   \n",
       "6187  0224-NIJLP  2019-06-01                   No        Two year   \n",
       "\n",
       "     PaperlessBilling            PaymentMethod  MonthlyCharges TotalCharges  \\\n",
       "6559              Yes         Electronic check           98.70       5669.5   \n",
       "232               Yes             Mailed check           84.60         84.6   \n",
       "586               Yes  Credit card (automatic)           63.25      3342.45   \n",
       "1355              Yes         Electronic check           19.50       178.85   \n",
       "6187               No             Mailed check           20.15        165.5   \n",
       "\n",
       "      gender  SeniorCitizen Partner Dependents InternetService OnlineSecurity  \\\n",
       "6559  Female              0     Yes         No     Fiber optic             No   \n",
       "232     Male              0      No         No     Fiber optic            Yes   \n",
       "586     Male              0      No         No             DSL            Yes   \n",
       "1355  Female              0      No         No              No             No   \n",
       "6187    Male              0     Yes        Yes              No             No   \n",
       "\n",
       "     OnlineBackup DeviceProtection TechSupport StreamingTV StreamingMovies  \\\n",
       "6559           No              Yes         Yes         Yes             Yes   \n",
       "232            No               No          No          No             Yes   \n",
       "586           Yes               No          No         Yes              No   \n",
       "1355           No               No          No          No              No   \n",
       "6187           No               No          No          No              No   \n",
       "\n",
       "     MultipleLines  \n",
       "6559            No  \n",
       "232             No  \n",
       "586             No  \n",
       "1355            No  \n",
       "6187            No  "
      ]
     },
     "execution_count": 7,
     "metadata": {},
     "output_type": "execute_result"
    }
   ],
   "source": [
    "df.sample(5)"
   ]
  },
  {
   "cell_type": "markdown",
   "metadata": {
    "id": "tCUJx5MGBuRF"
   },
   "source": [
    "+ Мы объеденили данные (outer) в один датафрейм, заполнили недостающие значения значением 'No'."
   ]
  },
  {
   "cell_type": "markdown",
   "metadata": {
    "id": "p38XpxS8BuRF"
   },
   "source": [
    "### Замена имён столбцов."
   ]
  },
  {
   "cell_type": "code",
   "execution_count": null,
   "metadata": {
    "id": "pulvrzyzBuRF",
    "outputId": "0f615539-4955-422d-ddbc-89b27aeda538"
   },
   "outputs": [
    {
     "data": {
      "text/plain": [
       "Index(['id', 'begin_date', 'end_date', 'type', 'paperless_billing',\n",
       "       'payment_method', 'monthly_charges', 'total_charges', 'gender',\n",
       "       'senior_citizen', 'partner', 'dependents', 'internet_service',\n",
       "       'online_security', 'online_backup', 'device_protection', 'tech_support',\n",
       "       'streaming_tv', 'streaming_movies', 'multiple_lines'],\n",
       "      dtype='object')"
      ]
     },
     "execution_count": 8,
     "metadata": {},
     "output_type": "execute_result"
    }
   ],
   "source": [
    "df = df.rename(columns = {'customerID': 'СustomerId', 'gender': 'Gender'}) \n",
    "df = df.rename(columns = lambda x: '_'.join(re.findall('([A-Z][a-z]+)', x)).lower())\n",
    "df = df.rename(columns = {'streaming': 'streaming_tv'}) \n",
    "df.columns"
   ]
  },
  {
   "cell_type": "markdown",
   "metadata": {
    "id": "AuHeqs4gBuRF"
   },
   "source": [
    "+ Перевили названия столбцов в нижний регистр, добавили подчёрквание."
   ]
  },
  {
   "cell_type": "markdown",
   "metadata": {
    "id": "Jjz-CTzCBuRG"
   },
   "source": [
    "## Описание данных"
   ]
  },
  {
   "cell_type": "markdown",
   "metadata": {
    "id": "ciUNEoXGBuRG"
   },
   "source": [
    "+ `id` - уникальный идентификатор клиента\n",
    "+ `begin_date` - дата начала действия договора с клиентом\n",
    "+ `end_date` -  дата окончания действия договора с клиентом\n",
    "+ `type` - вид оплаты (ежемесячно, раз в год, раз в два года)\n",
    "+ `paperless_billing` - бумажный или электронный чек\n",
    "+ `payment_method` - способ оплаты\n",
    "+ `monthly_charges` - ежемесячная плата за услуги\n",
    "+ `total_charges` - сумма оплаты за все время \n",
    "+ `gender` - пол клиента\n",
    "+ `senior_citizen` - флаг пожилого клиента\n",
    "+ `partner` - наличие партнера\n",
    "+ `dependents` - наличие детей\n",
    "+ `internet_service` - вид интернет связи\n",
    "+ `online_security` - онлайн безопасность\n",
    "+ `online_backup` - онлайн резервная копия\n",
    "+ `device_protection` - защита устройства\n",
    "+ `tech_support` - техническая поддержка\n",
    "+ `streaming`  - просмотр Тв\n",
    "+ `streaming_movies` - просмотр кино\n",
    "+ `multiple_lines` - телефонные мультилинии"
   ]
  },
  {
   "cell_type": "markdown",
   "metadata": {
    "id": "hgFKQPwSBuRG"
   },
   "source": [
    "### Приведение к подходящим типам данных"
   ]
  },
  {
   "cell_type": "code",
   "execution_count": null,
   "metadata": {
    "id": "wiPSPQeZBuRG",
    "outputId": "a6baeb00-cd60-4c90-adae-d2a4ca6c3915"
   },
   "outputs": [
    {
     "name": "stdout",
     "output_type": "stream",
     "text": [
      "<class 'pandas.core.frame.DataFrame'>\n",
      "Int64Index: 7043 entries, 0 to 7042\n",
      "Data columns (total 20 columns):\n",
      "id                   7043 non-null object\n",
      "begin_date           7043 non-null datetime64[ns]\n",
      "end_date             7043 non-null object\n",
      "type                 7043 non-null category\n",
      "paperless_billing    7043 non-null category\n",
      "payment_method       7043 non-null category\n",
      "monthly_charges      7043 non-null float64\n",
      "total_charges        7032 non-null float64\n",
      "gender               7043 non-null category\n",
      "senior_citizen       7043 non-null category\n",
      "partner              7043 non-null category\n",
      "dependents           7043 non-null category\n",
      "internet_service     7043 non-null category\n",
      "online_security      7043 non-null category\n",
      "online_backup        7043 non-null category\n",
      "device_protection    7043 non-null category\n",
      "tech_support         7043 non-null category\n",
      "streaming_tv         7043 non-null category\n",
      "streaming_movies     7043 non-null category\n",
      "multiple_lines       7043 non-null category\n",
      "dtypes: category(15), datetime64[ns](1), float64(2), object(2)\n",
      "memory usage: 434.8+ KB\n"
     ]
    }
   ],
   "source": [
    "df['begin_date'] = pd.to_datetime(df['begin_date'], format = '%Y-%m-%d')\n",
    "\n",
    "cat_cols = ['type', 'paperless_billing',\n",
    "       'payment_method','gender', 'senior_citizen', 'partner', 'dependents', 'internet_service',\n",
    "       'online_security', 'online_backup', 'device_protection', 'tech_support',\n",
    "       'streaming_tv', 'streaming_movies', 'multiple_lines']\n",
    "float_cols = ['monthly_charges', 'total_charges']    \n",
    "\n",
    "for col in cat_cols:\n",
    "    df[col] = df[col].astype('category')\n",
    "\n",
    "for col in float_cols:\n",
    "    df[col] = pd.to_numeric(df[col], errors = 'coerce')\n",
    "\n",
    "df.info()"
   ]
  },
  {
   "cell_type": "markdown",
   "metadata": {
    "id": "JaNcFxgZBuRH"
   },
   "source": [
    "В колонке `total_charges` появились незаполненные значения, т.к. там был пропуск вместо числа. А пропуск из-за того, что `begin_date` - 1 февраля 2020, эти пользователи только подключились. Заплним эти пропуски нулями."
   ]
  },
  {
   "cell_type": "code",
   "execution_count": null,
   "metadata": {
    "id": "jKWwVpsUBuRH",
    "outputId": "76c1f99e-e1b7-410c-f2bd-6acf9b8f7f25"
   },
   "outputs": [
    {
     "data": {
      "text/plain": [
       "array(['2020-02-01T00:00:00.000000000'], dtype='datetime64[ns]')"
      ]
     },
     "execution_count": 10,
     "metadata": {},
     "output_type": "execute_result"
    }
   ],
   "source": [
    "df[df['total_charges'].isna()]['begin_date'].unique()"
   ]
  },
  {
   "cell_type": "code",
   "execution_count": null,
   "metadata": {
    "id": "pi5A8RZhBuRH"
   },
   "outputs": [],
   "source": [
    "df['total_charges'] = df['total_charges'].fillna(0.0)"
   ]
  },
  {
   "cell_type": "markdown",
   "metadata": {
    "id": "oO5gKywEBuRH"
   },
   "source": [
    "### Анализ признаков"
   ]
  },
  {
   "cell_type": "code",
   "execution_count": null,
   "metadata": {
    "id": "HuaYj5lVBuRH"
   },
   "outputs": [],
   "source": [
    "def distplot(Series, bins = None, ylabel = 'density', title = None):\n",
    "    ax = sns.distplot(Series, bins = bins)\n",
    "    ax.set(xlabel = Series.name, ylabel = ylabel, title = title)\n",
    "    plt.show()"
   ]
  },
  {
   "cell_type": "markdown",
   "metadata": {
    "id": "gVTrFWzzBuRI"
   },
   "source": [
    "#### Даты"
   ]
  },
  {
   "cell_type": "markdown",
   "metadata": {
    "id": "d1holXCKBuRI"
   },
   "source": [
    "+ Добавим признак `exited` - признак, который будует показывать факт ухода клиента. (1 - ушёл, 0 - текущий клиент).\n",
    "+ Трансформируем признак `end_date` - вместо 'No' поставим текущую дату.\n",
    "+ Добавим новый признак `tenure` - количество дней, с момента подключения. "
   ]
  },
  {
   "cell_type": "code",
   "execution_count": null,
   "metadata": {
    "id": "eKwrkR7bBuRI"
   },
   "outputs": [],
   "source": [
    "df['exited'] = pd.Series(np.where(df['end_date'].values == 'No', 0, 1), df.index)\n",
    "\n",
    "df.loc[df['end_date'] == 'No','end_date'] = TODAY_DATE\n",
    "df['end_date'] = pd.to_datetime(df['end_date'], format = '%Y-%m-%d')\n",
    "\n",
    "df['tenure'] = (df['end_date'] - df['begin_date']).dt.days"
   ]
  },
  {
   "cell_type": "markdown",
   "metadata": {
    "id": "d_mWxqT-BuRI"
   },
   "source": [
    "Мы не будем использовать признаки `end_date` и `begin_date`, а так же мы не будем использовать признак `total_charges`, т.к. он имеет сильную корреляцию с `tenure`."
   ]
  },
  {
   "cell_type": "code",
   "execution_count": null,
   "metadata": {
    "id": "H4pISxZoBuRI",
    "outputId": "c0e4419e-cbe1-4c0a-917b-ac9a1a228b66"
   },
   "outputs": [
    {
     "data": {
      "image/png": "[encoded data removed]",
      "text/plain": [
       "<Figure size 432x288 with 1 Axes>"
      ]
     },
     "metadata": {
      "needs_background": "light"
     },
     "output_type": "display_data"
    }
   ],
   "source": [
    "distplot(df[df['end_date'] != TODAY_DATE]['end_date'].dt.year, bins = 5, title = 'End date density plot')"
   ]
  },
  {
   "cell_type": "markdown",
   "metadata": {
    "id": "ogUM5IV3BuRJ"
   },
   "source": [
    "+ На графике выше мы видим, что действительно от нас начали уходить клиенты в последнее время. "
   ]
  },
  {
   "cell_type": "code",
   "execution_count": null,
   "metadata": {
    "id": "OvXWH_LHBuRJ",
    "outputId": "0b419cf7-ecb8-4a95-e2a6-c4728e200384"
   },
   "outputs": [
    {
     "data": {
      "image/png": "[encoded data removed]",
      "text/plain": [
       "<Figure size 432x288 with 1 Axes>"
      ]
     },
     "metadata": {
      "needs_background": "light"
     },
     "output_type": "display_data"
    }
   ],
   "source": [
    "distplot(df['begin_date'].dt.year, title = 'Begin date density plot')"
   ]
  },
  {
   "cell_type": "markdown",
   "metadata": {
    "id": "La9Pbv3QBuRJ"
   },
   "source": [
    "+ В 2019 году видим рекордный прирост клиентов, не смотря на это в конце этого же года, начале следующего клиенты стали уходить.\n",
    "+ Возможно **«Ниединогоразрыва.ком»** пообещали что-то клиентам в рекламной компании и не сдержали обещание."
   ]
  },
  {
   "cell_type": "markdown",
   "metadata": {
    "id": "3tNxC6IBBuRJ"
   },
   "source": [
    "### Числовые показатели"
   ]
  },
  {
   "cell_type": "code",
   "execution_count": null,
   "metadata": {
    "id": "99yCmTVzBuRJ",
    "outputId": "10618e88-5663-4713-df6d-3371889058e3"
   },
   "outputs": [
    {
     "data": {
      "image/png": "[encoded data removed]",
      "text/plain": [
       "<Figure size 432x288 with 1 Axes>"
      ]
     },
     "metadata": {
      "needs_background": "light"
     },
     "output_type": "display_data"
    },
    {
     "data": {
      "image/png": "[encoded data removed]",
      "text/plain": [
       "<Figure size 432x288 with 1 Axes>"
      ]
     },
     "metadata": {
      "needs_background": "light"
     },
     "output_type": "display_data"
    }
   ],
   "source": [
    "for col in float_cols:\n",
    "    distplot(df[col], title = 'Begin date density plot')"
   ]
  },
  {
   "cell_type": "markdown",
   "metadata": {
    "id": "nu5IJK91BuRJ"
   },
   "source": [
    "+ На графике `monthly_charges` видим би-модальное распределение. Вероятно это связано с различием в пакетах услуг.\n",
    "+ График `total_charges` выглядит нормально, учитывая различие в пакетах услуг."
   ]
  },
  {
   "cell_type": "markdown",
   "metadata": {
    "id": "0w5k_xNNBuRK"
   },
   "source": [
    "### Соотношения в категориальных признаках"
   ]
  },
  {
   "cell_type": "markdown",
   "metadata": {
    "id": "2HbSJXCTBuRK"
   },
   "source": [
    "#### Бинарные признаки"
   ]
  },
  {
   "cell_type": "code",
   "execution_count": null,
   "metadata": {
    "id": "sKXSPd0lBuRK"
   },
   "outputs": [],
   "source": [
    "binary_cols = ['paperless_billing', 'gender','senior_citizen', 'partner', 'dependents', 'online_security', 'online_backup', 'device_protection', 'tech_support', 'streaming_tv', 'streaming_movies', 'multiple_lines']"
   ]
  },
  {
   "cell_type": "code",
   "execution_count": null,
   "metadata": {
    "id": "qcz10WGyBuRK"
   },
   "outputs": [],
   "source": [
    "def plot_pie(df, col):\n",
    "    grouped = df.groupby(col)[col].count()\n",
    "    data = grouped.values\n",
    "    labels = grouped.index\n",
    "\n",
    "    colors = sns.color_palette('pastel')[0:len(grouped)]\n",
    "\n",
    "    plt.pie(data, labels = labels, colors = colors, autopct='%.0f%%')\n",
    "    plt.title(col + ' pie plot')\n",
    "    plt.show()"
   ]
  },
  {
   "cell_type": "code",
   "execution_count": null,
   "metadata": {
    "id": "qFCvwiXUBuRL",
    "outputId": "c4380a36-7eb7-45ec-a7f9-2102faa0b92d",
    "scrolled": false
   },
   "outputs": [
    {
     "data": {
      "image/png": "[encoded data removed]",
      "text/plain": [
       "<Figure size 432x288 with 1 Axes>"
      ]
     },
     "metadata": {},
     "output_type": "display_data"
    },
    {
     "data": {
      "image/png": "[encoded data removed]",
      "text/plain": [
       "<Figure size 432x288 with 1 Axes>"
      ]
     },
     "metadata": {},
     "output_type": "display_data"
    },
    {
     "data": {
      "image/png": "[encoded data removed]",
      "text/plain": [
       "<Figure size 432x288 with 1 Axes>"
      ]
     },
     "metadata": {},
     "output_type": "display_data"
    },
    {
     "data": {
      "image/png": "[encoded data removed]",
      "text/plain": [
       "<Figure size 432x288 with 1 Axes>"
      ]
     },
     "metadata": {},
     "output_type": "display_data"
    },
    {
     "data": {
      "image/png": "[encoded data removed]",
      "text/plain": [
       "<Figure size 432x288 with 1 Axes>"
      ]
     },
     "metadata": {},
     "output_type": "display_data"
    },
    {
     "data": {
      "image/png": "[encoded data removed]",
      "text/plain": [
       "<Figure size 432x288 with 1 Axes>"
      ]
     },
     "metadata": {},
     "output_type": "display_data"
    },
    {
     "data": {
      "image/png": "[encoded data removed]",
      "text/plain": [
       "<Figure size 432x288 with 1 Axes>"
      ]
     },
     "metadata": {},
     "output_type": "display_data"
    },
    {
     "data": {
      "image/png": "[encoded data removed]",
      "text/plain": [
       "<Figure size 432x288 with 1 Axes>"
      ]
     },
     "metadata": {},
     "output_type": "display_data"
    },
    {
     "data": {
      "image/png": "[encoded data removed]",
      "text/plain": [
       "<Figure size 432x288 with 1 Axes>"
      ]
     },
     "metadata": {},
     "output_type": "display_data"
    },
    {
     "data": {
      "image/png": "[encoded data removed]",
      "text/plain": [
       "<Figure size 432x288 with 1 Axes>"
      ]
     },
     "metadata": {},
     "output_type": "display_data"
    },
    {
     "data": {
      "image/png": "[encoded data removed]",
      "text/plain": [
       "<Figure size 432x288 with 1 Axes>"
      ]
     },
     "metadata": {},
     "output_type": "display_data"
    },
    {
     "data": {
      "image/png": "[encoded data removed]",
      "text/plain": [
       "<Figure size 432x288 with 1 Axes>"
      ]
     },
     "metadata": {},
     "output_type": "display_data"
    }
   ],
   "source": [
    "for col in binary_cols:\n",
    "    plot_pie(df, col)"
   ]
  },
  {
   "cell_type": "markdown",
   "metadata": {
    "id": "uYKdI-jNBuRL"
   },
   "source": [
    "+ Для бинарных признаков сильного дисбаланса/несоответствия не выявлено.\n",
    "+ Сильный дисбаланс только в количестве пенсионеров, но это и понятно."
   ]
  },
  {
   "cell_type": "markdown",
   "metadata": {
    "id": "z4i01APlBuRL"
   },
   "source": [
    "#### Признаки с несколькими категориями"
   ]
  },
  {
   "cell_type": "code",
   "execution_count": null,
   "metadata": {
    "id": "_xgJdwjHBuRL",
    "outputId": "a93a92ba-361c-4a01-d56f-6a4983e22ea0"
   },
   "outputs": [
    {
     "data": {
      "image/png": "[encoded data removed]",
      "text/plain": [
       "<Figure size 432x288 with 1 Axes>"
      ]
     },
     "metadata": {},
     "output_type": "display_data"
    },
    {
     "data": {
      "image/png": "[encoded data removed]",
      "text/plain": [
       "<Figure size 432x288 with 1 Axes>"
      ]
     },
     "metadata": {},
     "output_type": "display_data"
    },
    {
     "data": {
      "image/png": "[encoded data removed]",
      "text/plain": [
       "<Figure size 432x288 with 1 Axes>"
      ]
     },
     "metadata": {},
     "output_type": "display_data"
    }
   ],
   "source": [
    "multy_cat_cols = ['type', 'payment_method', 'internet_service']\n",
    "for col in multy_cat_cols:\n",
    "    plot_pie(df, col)"
   ]
  },
  {
   "cell_type": "markdown",
   "metadata": {
    "id": "RT-dTuuuBuRL"
   },
   "source": [
    "+ Большинство пользователей предпочитает помесячную оплату.\n",
    "+ Способы оплаты распределены примерно равномерно, выделяется `Электронный платёж`.\n",
    "+ Из интернета пользователи предпочитают `Оптоволокно` `Цифровой линии`."
   ]
  },
  {
   "cell_type": "markdown",
   "metadata": {
    "id": "-9_Ki7hABuRL"
   },
   "source": [
    "#### Целевой признак"
   ]
  },
  {
   "cell_type": "code",
   "execution_count": null,
   "metadata": {
    "id": "kj_mlpdvBuRM",
    "outputId": "522d13e0-93f2-4752-ce71-72193bab868e"
   },
   "outputs": [
    {
     "data": {
      "text/plain": [
       "0    5174\n",
       "1    1869\n",
       "Name: exited, dtype: int64"
      ]
     },
     "execution_count": 21,
     "metadata": {},
     "output_type": "execute_result"
    }
   ],
   "source": [
    "df['exited'].value_counts()"
   ]
  },
  {
   "cell_type": "code",
   "execution_count": null,
   "metadata": {
    "id": "iyHDpOf7BuRM",
    "outputId": "2cd15670-ad9f-4ec5-98e4-f3cc212014d1"
   },
   "outputs": [
    {
     "data": {
      "image/png": "[encoded data removed]",
      "text/plain": [
       "<Figure size 432x288 with 1 Axes>"
      ]
     },
     "metadata": {},
     "output_type": "display_data"
    }
   ],
   "source": [
    "plot_pie(df, 'exited')"
   ]
  },
  {
   "cell_type": "markdown",
   "metadata": {
    "id": "amXT_4VyBuRM"
   },
   "source": [
    "+ Целевой признак несбалансирован. Будем пробовать различные техники борьбы с этим (upsampling / class_weights = balanced)"
   ]
  },
  {
   "cell_type": "markdown",
   "metadata": {
    "id": "70g1PaYqBuRM"
   },
   "source": [
    "**Вывод:**\n",
    "+ Мы загрузили данные, объединили их в один `DataFrame`, попутно заполнили появившиеся пропуски.\n",
    "+ Привели типы данных к более подходящим.\n",
    "+ Явных аномалий в `features` не выявлено.\n",
    "+ Целевой признак не сбалансирован, нужно будет учитывать это при обучении моделей."
   ]
  },
  {
   "cell_type": "markdown",
   "metadata": {
    "id": "0XIXF4XwC7zN"
   },
   "source": [
    "## План действий"
   ]
  },
  {
   "cell_type": "markdown",
   "metadata": {
    "id": "d3TAAMt_DCgQ"
   },
   "source": [
    "+ **План действий:**  \n",
    "    - Провести оценку важности `features`. Возможно добавить новые (время жизни клиента уже есть).  \n",
    "    - Сделать OHE для моделей, которые не умеют работать с категориальными признаками.\n",
    "    - Обезразмерить числовые данные, проверить как это влияет на метрику.\n",
    "    - Разбить данные на обучающий и тестовый набор. Буду использовать кросс-валидацию, поэтому валидационный набор не нужен. (Помня про дисбаланс классов буду пробовать `upsampling` и `class_weights = balanced`)\n",
    "\n",
    "    - Обучить простейшие классификаторы, посмотреть на результаты.   \n",
    "    - Обучить различные модели на различных гиперпараметрах, подобрать наилучшие.  \n",
    "    - Добиться наилучшего значения `ROC_AUC` на кросс валидации.\n",
    "    - Провести тестирование модели и проверку на адекватность.\n",
    "      \n",
    "    - **Поблагодарить команду Я.Практикума за качественное обучение.**"
   ]
  },
  {
   "cell_type": "markdown",
   "metadata": {
    "id": "h3H0uy-MBuRM"
   },
   "source": [
    "## Обучение моделей"
   ]
  },
  {
   "cell_type": "markdown",
   "metadata": {
    "id": "D_QFz2PBBuRM"
   },
   "source": [
    "### Подготовка признаков"
   ]
  },
  {
   "cell_type": "markdown",
   "metadata": {
    "id": "fDanG_AABuRN"
   },
   "source": [
    "#### OHE"
   ]
  },
  {
   "cell_type": "markdown",
   "metadata": {
    "id": "DtVs_LBeBuRN"
   },
   "source": [
    "Для моделей, которые не умеют работать с категориальными признакми применим технику кодирования OHE."
   ]
  },
  {
   "cell_type": "code",
   "execution_count": null,
   "metadata": {
    "id": "f4u4OgfRBuRN"
   },
   "outputs": [],
   "source": [
    "df_ohe = pd.get_dummies(df, columns = ['type', 'paperless_billing',\n",
    "       'payment_method', 'gender',\n",
    "       'senior_citizen', 'partner', 'dependents', 'internet_service',\n",
    "       'online_security', 'online_backup', 'device_protection', 'tech_support',\n",
    "       'streaming_tv', 'streaming_movies', 'multiple_lines'], drop_first = True)"
   ]
  },
  {
   "cell_type": "code",
   "execution_count": null,
   "metadata": {
    "id": "Xcmh-LtQBuRN",
    "outputId": "9384846a-326c-4888-c1b7-9783500f8620"
   },
   "outputs": [
    {
     "data": {
      "text/html": [
       "<div>\n",
       "<style scoped>\n",
       "    .dataframe tbody tr th:only-of-type {\n",
       "        vertical-align: middle;\n",
       "    }\n",
       "\n",
       "    .dataframe tbody tr th {\n",
       "        vertical-align: top;\n",
       "    }\n",
       "\n",
       "    .dataframe thead th {\n",
       "        text-align: right;\n",
       "    }\n",
       "</style>\n",
       "<table border=\"1\" class=\"dataframe\">\n",
       "  <thead>\n",
       "    <tr style=\"text-align: right;\">\n",
       "      <th></th>\n",
       "      <th>id</th>\n",
       "      <th>begin_date</th>\n",
       "      <th>end_date</th>\n",
       "      <th>monthly_charges</th>\n",
       "      <th>total_charges</th>\n",
       "      <th>exited</th>\n",
       "      <th>tenure</th>\n",
       "      <th>type_One year</th>\n",
       "      <th>type_Two year</th>\n",
       "      <th>paperless_billing_Yes</th>\n",
       "      <th>payment_method_Credit card (automatic)</th>\n",
       "      <th>payment_method_Electronic check</th>\n",
       "      <th>payment_method_Mailed check</th>\n",
       "      <th>gender_Male</th>\n",
       "      <th>senior_citizen_1</th>\n",
       "      <th>partner_Yes</th>\n",
       "      <th>dependents_Yes</th>\n",
       "      <th>internet_service_Fiber optic</th>\n",
       "      <th>internet_service_No</th>\n",
       "      <th>online_security_Yes</th>\n",
       "      <th>online_backup_Yes</th>\n",
       "      <th>device_protection_Yes</th>\n",
       "      <th>tech_support_Yes</th>\n",
       "      <th>streaming_tv_Yes</th>\n",
       "      <th>streaming_movies_Yes</th>\n",
       "      <th>multiple_lines_Yes</th>\n",
       "    </tr>\n",
       "  </thead>\n",
       "  <tbody>\n",
       "    <tr>\n",
       "      <td>0</td>\n",
       "      <td>7590-VHVEG</td>\n",
       "      <td>2020-01-01</td>\n",
       "      <td>2020-02-01</td>\n",
       "      <td>29.85</td>\n",
       "      <td>29.85</td>\n",
       "      <td>0</td>\n",
       "      <td>31</td>\n",
       "      <td>0</td>\n",
       "      <td>0</td>\n",
       "      <td>1</td>\n",
       "      <td>0</td>\n",
       "      <td>1</td>\n",
       "      <td>0</td>\n",
       "      <td>0</td>\n",
       "      <td>0</td>\n",
       "      <td>1</td>\n",
       "      <td>0</td>\n",
       "      <td>0</td>\n",
       "      <td>0</td>\n",
       "      <td>0</td>\n",
       "      <td>1</td>\n",
       "      <td>0</td>\n",
       "      <td>0</td>\n",
       "      <td>0</td>\n",
       "      <td>0</td>\n",
       "      <td>0</td>\n",
       "    </tr>\n",
       "    <tr>\n",
       "      <td>1</td>\n",
       "      <td>5575-GNVDE</td>\n",
       "      <td>2017-04-01</td>\n",
       "      <td>2020-02-01</td>\n",
       "      <td>56.95</td>\n",
       "      <td>1889.50</td>\n",
       "      <td>0</td>\n",
       "      <td>1036</td>\n",
       "      <td>1</td>\n",
       "      <td>0</td>\n",
       "      <td>0</td>\n",
       "      <td>0</td>\n",
       "      <td>0</td>\n",
       "      <td>1</td>\n",
       "      <td>1</td>\n",
       "      <td>0</td>\n",
       "      <td>0</td>\n",
       "      <td>0</td>\n",
       "      <td>0</td>\n",
       "      <td>0</td>\n",
       "      <td>1</td>\n",
       "      <td>0</td>\n",
       "      <td>1</td>\n",
       "      <td>0</td>\n",
       "      <td>0</td>\n",
       "      <td>0</td>\n",
       "      <td>0</td>\n",
       "    </tr>\n",
       "    <tr>\n",
       "      <td>2</td>\n",
       "      <td>3668-QPYBK</td>\n",
       "      <td>2019-10-01</td>\n",
       "      <td>2019-12-01</td>\n",
       "      <td>53.85</td>\n",
       "      <td>108.15</td>\n",
       "      <td>1</td>\n",
       "      <td>61</td>\n",
       "      <td>0</td>\n",
       "      <td>0</td>\n",
       "      <td>1</td>\n",
       "      <td>0</td>\n",
       "      <td>0</td>\n",
       "      <td>1</td>\n",
       "      <td>1</td>\n",
       "      <td>0</td>\n",
       "      <td>0</td>\n",
       "      <td>0</td>\n",
       "      <td>0</td>\n",
       "      <td>0</td>\n",
       "      <td>1</td>\n",
       "      <td>1</td>\n",
       "      <td>0</td>\n",
       "      <td>0</td>\n",
       "      <td>0</td>\n",
       "      <td>0</td>\n",
       "      <td>0</td>\n",
       "    </tr>\n",
       "  </tbody>\n",
       "</table>\n",
       "</div>"
      ],
      "text/plain": [
       "           id begin_date   end_date  monthly_charges  total_charges  exited  \\\n",
       "0  7590-VHVEG 2020-01-01 2020-02-01            29.85          29.85       0   \n",
       "1  5575-GNVDE 2017-04-01 2020-02-01            56.95        1889.50       0   \n",
       "2  3668-QPYBK 2019-10-01 2019-12-01            53.85         108.15       1   \n",
       "\n",
       "   tenure  type_One year  type_Two year  paperless_billing_Yes  \\\n",
       "0      31              0              0                      1   \n",
       "1    1036              1              0                      0   \n",
       "2      61              0              0                      1   \n",
       "\n",
       "   payment_method_Credit card (automatic)  payment_method_Electronic check  \\\n",
       "0                                       0                                1   \n",
       "1                                       0                                0   \n",
       "2                                       0                                0   \n",
       "\n",
       "   payment_method_Mailed check  gender_Male  senior_citizen_1  partner_Yes  \\\n",
       "0                            0            0                 0            1   \n",
       "1                            1            1                 0            0   \n",
       "2                            1            1                 0            0   \n",
       "\n",
       "   dependents_Yes  internet_service_Fiber optic  internet_service_No  \\\n",
       "0               0                             0                    0   \n",
       "1               0                             0                    0   \n",
       "2               0                             0                    0   \n",
       "\n",
       "   online_security_Yes  online_backup_Yes  device_protection_Yes  \\\n",
       "0                    0                  1                      0   \n",
       "1                    1                  0                      1   \n",
       "2                    1                  1                      0   \n",
       "\n",
       "   tech_support_Yes  streaming_tv_Yes  streaming_movies_Yes  \\\n",
       "0                 0                 0                     0   \n",
       "1                 0                 0                     0   \n",
       "2                 0                 0                     0   \n",
       "\n",
       "   multiple_lines_Yes  \n",
       "0                   0  \n",
       "1                   0  \n",
       "2                   0  "
      ]
     },
     "execution_count": 24,
     "metadata": {},
     "output_type": "execute_result"
    }
   ],
   "source": [
    "df_ohe.head(3)"
   ]
  },
  {
   "cell_type": "markdown",
   "metadata": {
    "id": "Pp0bLCX2BuRN"
   },
   "source": [
    "#### Корреляция признаков"
   ]
  },
  {
   "cell_type": "code",
   "execution_count": null,
   "metadata": {
    "id": "NOPiEdbRBuRN",
    "outputId": "88c7fba7-6d10-48fb-fe32-e12feee07ddd"
   },
   "outputs": [
    {
     "data": {
      "image/png": "[encoded data removed]",
      "text/plain": [
       "<Figure size 864x720 with 2 Axes>"
      ]
     },
     "metadata": {
      "needs_background": "light"
     },
     "output_type": "display_data"
    }
   ],
   "source": [
    "corr = df_ohe.corr().abs().round(2)\n",
    "fig, ax = plt.subplots(figsize=(12,10))\n",
    "\n",
    "sns.heatmap(corr,\n",
    "        yticklabels=corr.columns, annot=True, cmap=\"Blues\", linewidths=.5, ax=ax)\n",
    "plt.show()"
   ]
  },
  {
   "cell_type": "markdown",
   "metadata": {
    "id": "JRY83vprBuRO"
   },
   "source": [
    "+ Видим сильную корреляцию между Временем жизни клиента и Суммарными сборами. Это и понятно.\n",
    "+ Также сильная корреляция между месячными сборами и набором пакетов услуг. Это тоже понятно."
   ]
  },
  {
   "cell_type": "markdown",
   "metadata": {
    "id": "J-5LtMx5BuRO"
   },
   "source": [
    "Удалим прзнаки дат и id пользователя, а также признаки `total_charges` и `monthly_charges`."
   ]
  },
  {
   "cell_type": "code",
   "execution_count": null,
   "metadata": {
    "id": "V4RwJ-4YBuRO"
   },
   "outputs": [],
   "source": [
    "df_ohe = df_ohe.drop(['id', 'begin_date', 'end_date', 'total_charges', 'monthly_charges'], axis = 1)"
   ]
  },
  {
   "cell_type": "markdown",
   "metadata": {
    "id": "MOAx3eSZBuRO"
   },
   "source": [
    "#### Разделим данные на обучающий и тестовый набор"
   ]
  },
  {
   "cell_type": "markdown",
   "metadata": {
    "id": "axI0h0mrBuRO"
   },
   "source": [
    "Мне нравится всегда использовать кросс валидацию, поэтому разделим данные только на обучающую и тестовую выборку."
   ]
  },
  {
   "cell_type": "code",
   "execution_count": null,
   "metadata": {
    "id": "-TFzZXjpBuRP"
   },
   "outputs": [],
   "source": [
    "features = df.drop(['id', 'begin_date', 'end_date', 'exited', 'total_charges', 'monthly_charges'], axis = 1)\n",
    "target = df['exited']\n",
    "\n",
    "features_train, features_test, target_train, target_test = train_test_split(\n",
    "    features, target, test_size = 0.25, random_state = RANDOM_STATE)"
   ]
  },
  {
   "cell_type": "code",
   "execution_count": null,
   "metadata": {
    "id": "O2xY-b3jBuRP"
   },
   "outputs": [],
   "source": [
    "features_ohe = df_ohe.drop(['exited'], axis = 1)\n",
    "target_ohe = df_ohe['exited']\n",
    "features_train_ohe, features_test_ohe, target_train_ohe, target_test_ohe = train_test_split(\n",
    "    features_ohe, target_ohe, test_size = 0.25, random_state = RANDOM_STATE)"
   ]
  },
  {
   "cell_type": "markdown",
   "metadata": {
    "id": "uFBd3ftJBuRP"
   },
   "source": [
    "### Обучение моделей"
   ]
  },
  {
   "cell_type": "code",
   "execution_count": null,
   "metadata": {
    "id": "f6CkxH_KBuRP"
   },
   "outputs": [],
   "source": [
    "X = features_train_ohe\n",
    "y = target_train_ohe"
   ]
  },
  {
   "cell_type": "code",
   "execution_count": null,
   "metadata": {
    "id": "wCXAVuzKBuRP"
   },
   "outputs": [],
   "source": [
    "def plot_features_scores(model, data, target, column_names, model_type):\n",
    "    '''Функция для визуализации важности признаков'''\n",
    "    \n",
    "    model.fit(data, target)\n",
    "    \n",
    "    if model_type == 'rf':\n",
    "        (pd.DataFrame(data = {'score': model['rf'].feature_importances_}, \n",
    "                      index = column_names).sort_values(by = 'score')\n",
    "                                         .plot(kind = 'barh', grid = True,\n",
    "                                               figsize = (6,6), legend = False));\n",
    "    elif model_type == 'lr':\n",
    "        (pd.DataFrame(data = {'score': model['lr'].coef_[0]},\n",
    "                      index = column_names).sort_values(by = 'score')\n",
    "                                         .plot(kind = 'barh', grid = True,\n",
    "                                               figsize = (6,6), legend = False));\n",
    "        \n",
    "    else:\n",
    "        raise KeyError('Unknown model_type')"
   ]
  },
  {
   "cell_type": "code",
   "execution_count": null,
   "metadata": {
    "id": "5mglDJqjBuRP"
   },
   "outputs": [],
   "source": [
    "skf = StratifiedKFold(n_splits = 5, shuffle=True, random_state = RANDOM_STATE)"
   ]
  },
  {
   "cell_type": "code",
   "execution_count": null,
   "metadata": {
    "id": "uM5v-PooBuRQ"
   },
   "outputs": [],
   "source": [
    "def grid_search(model, gs_params, verbose = 0):\n",
    "    '''Функция для подбора гиперпараметров с помощью перекрёстной проверки'''\n",
    "     \n",
    "    gs = GridSearchCV(estimator = model, param_grid = gs_params, refit = True,\n",
    "                      scoring = 'roc_auc', n_jobs = -1, cv = skf, verbose = verbose)\n",
    "    gs.fit(X, y)\n",
    "    scores = [gs.cv_results_[f'split{i}_test_score'][gs.best_index_] for i in range(5)]\n",
    "    print('ROC AUC scores = {}, \\nROC AUC mean score = {:.5f} +/- {:.5f} \\\n",
    "           \\nbest params = {}'.format(scores,\n",
    "                                      gs.cv_results_['mean_test_score'][gs.best_index_],\n",
    "                                      gs.cv_results_['std_test_score'][gs.best_index_],\n",
    "                                      gs.best_params_))\n",
    "    return gs"
   ]
  },
  {
   "cell_type": "markdown",
   "metadata": {
    "id": "pRm7QYerBuRQ"
   },
   "source": [
    "#### LogisticRegression"
   ]
  },
  {
   "cell_type": "code",
   "execution_count": null,
   "metadata": {
    "id": "XaYMifVkBuRQ",
    "outputId": "73082244-6944-4d4a-d9b3-020a5f8d9102"
   },
   "outputs": [
    {
     "name": "stdout",
     "output_type": "stream",
     "text": [
      "ROC AUC scores = [0.84908459 0.85901954 0.83416827 0.84731275 0.85388614] \n",
      "ROC AUC mean score = 0.84869 +/- 0.00833\n"
     ]
    },
    {
     "data": {
      "image/png": "[encoded data removed]",
      "text/plain": [
       "<Figure size 432x432 with 1 Axes>"
      ]
     },
     "metadata": {
      "needs_background": "light"
     },
     "output_type": "display_data"
    }
   ],
   "source": [
    "lr = Pipeline([('p_trans', PowerTransformer(method = 'yeo-johnson', standardize=True)),\n",
    "               ('lr', LogisticRegression(solver = 'liblinear',\n",
    "                                         penalty = 'l1',\n",
    "                                         max_iter = 200,\n",
    "                                         class_weight = 'balanced',\n",
    "                                         random_state = RANDOM_STATE)\n",
    "               )])\n",
    "scores = cross_val_score(estimator = lr, X = X, y = y, \n",
    "                         cv = skf, scoring = 'roc_auc', n_jobs = -1)\n",
    "print('ROC AUC scores = {} \\nROC AUC mean score = {:.5f} +/- {:.5f}'.format(scores, scores.mean(), scores.std()))\n",
    "\n",
    "plot_features_scores(model = lr, data = X, target = y, column_names = X.columns, model_type = 'lr')"
   ]
  },
  {
   "cell_type": "code",
   "execution_count": null,
   "metadata": {
    "id": "hTNPiHllBuRQ",
    "outputId": "104e545b-5485-4cf9-9d99-904655e8a3ad",
    "scrolled": false
   },
   "outputs": [
    {
     "name": "stdout",
     "output_type": "stream",
     "text": [
      "Результаты для Логистической регрессии:\n",
      "Fitting 5 folds for each of 48 candidates, totalling 240 fits\n"
     ]
    },
    {
     "name": "stderr",
     "output_type": "stream",
     "text": [
      "[Parallel(n_jobs=-1)]: Using backend SequentialBackend with 1 concurrent workers.\n",
      "[Parallel(n_jobs=-1)]: Done 240 out of 240 | elapsed:  2.5min finished\n"
     ]
    },
    {
     "name": "stdout",
     "output_type": "stream",
     "text": [
      "ROC AUC scores = [0.8496351272908201, 0.8591139858657895, 0.8361472071149492, 0.847771734868509, 0.8545088867669511], \n",
      "ROC AUC mean score = 0.84944 +/- 0.00773            \n",
      "best params = {'lr__C': 0.1778279410038923, 'selector__param': 19}\n"
     ]
    }
   ],
   "source": [
    "#добавим селектор в пайплайн к логистической регрессии\n",
    "selector = ('selector', GenericUnivariateSelect(score_func = mutual_info_classif, \n",
    "                                                mode = 'k_best'))\n",
    "lr.steps.insert(0, selector)\n",
    "\n",
    "    \n",
    "# grid search\n",
    "lr_params = {'selector__param': range(4, X.shape[1]),\n",
    "             'lr__C': np.logspace(-3, 1.5, 3)}\n",
    "print('Результаты для Логистической регрессии:')\n",
    "lr_grid = grid_search(model = lr, gs_params = lr_params, verbose = 1)"
   ]
  },
  {
   "cell_type": "markdown",
   "metadata": {
    "id": "ScnbMVcGBuRR"
   },
   "source": [
    "#### RandomForestClassifier"
   ]
  },
  {
   "cell_type": "code",
   "execution_count": null,
   "metadata": {
    "id": "HPh37pMYBuRR",
    "outputId": "b37ced65-4ec8-411b-aba1-d4e3a21bb7db"
   },
   "outputs": [
    {
     "name": "stdout",
     "output_type": "stream",
     "text": [
      "ROC AUC scores = [0.79833181 0.81475108 0.78946227 0.81444809 0.80541602] \n",
      "ROC AUC mean score = 0.80448 +/- 0.00969\n"
     ]
    },
    {
     "data": {
      "image/png": "[encoded data removed]",
      "text/plain": [
       "<Figure size 432x432 with 1 Axes>"
      ]
     },
     "metadata": {
      "needs_background": "light"
     },
     "output_type": "display_data"
    }
   ],
   "source": [
    "rf = Pipeline([('rf', RandomForestClassifier(n_jobs=-1, \n",
    "                                             class_weight = 'balanced', \n",
    "                                             random_state = RANDOM_STATE))])\n",
    "\n",
    "# параметры кросс-валидации (стратифицированная 5-фолдовая с перемешиванием) \n",
    "\n",
    "scores = cross_val_score(estimator = rf, X = X, y = y, \n",
    "                         cv = skf, scoring = 'roc_auc', n_jobs = -1)\n",
    "print('ROC AUC scores = {} \\nROC AUC mean score = {:.5f} +/- {:.5f}'.format(scores, scores.mean(), scores.std()))\n",
    "\n",
    "# важность признаков\n",
    "plot_features_scores(model = rf, data = X, target = y, column_names = X.columns, model_type = 'rf')"
   ]
  },
  {
   "cell_type": "code",
   "execution_count": null,
   "metadata": {
    "id": "fbYvElA2BuRR",
    "outputId": "4e1b02f7-3cfe-46c6-c9a2-27409f4bd48d",
    "scrolled": false
   },
   "outputs": [
    {
     "name": "stdout",
     "output_type": "stream",
     "text": [
      "Результаты для Случайного леса\n",
      "Fitting 5 folds for each of 96 candidates, totalling 480 fits\n"
     ]
    },
    {
     "name": "stderr",
     "output_type": "stream",
     "text": [
      "[Parallel(n_jobs=-1)]: Using backend SequentialBackend with 1 concurrent workers.\n",
      "[Parallel(n_jobs=-1)]: Done 480 out of 480 | elapsed:  3.9min finished\n"
     ]
    },
    {
     "name": "stdout",
     "output_type": "stream",
     "text": [
      "ROC AUC scores = [0.8626152896407477, 0.8793248012088711, 0.8631119598861534, 0.8757051982858435, 0.8691756272401434], \n",
      "ROC AUC mean score = 0.86999 +/- 0.00667            \n",
      "best params = {'rf__max_depth': 8, 'rf__max_features': 0.8999999999999999, 'selector__param': 8}\n"
     ]
    }
   ],
   "source": [
    "# добавим селектор в пайплайн к случайному лесу\n",
    "selector = ('selector', GenericUnivariateSelect(score_func = mutual_info_classif, \n",
    "                                                mode = 'k_best'))\n",
    "rf.steps.insert(0, selector)\n",
    "\n",
    "    \n",
    "# grid search\n",
    "rf_params = {'selector__param': np.arange(4, X.shape[1], 2),\n",
    "             'rf__max_depth': np.arange(2, 10, 2),\n",
    "             'rf__max_features': np.arange(0.3, 0.9, 0.3)}\n",
    "print('Результаты для Случайного леса')\n",
    "rf_grid = grid_search(model=rf, gs_params=rf_params, verbose = 1)"
   ]
  },
  {
   "cell_type": "markdown",
   "metadata": {
    "id": "fag1FN3FBuRR"
   },
   "source": [
    "#### Catboost"
   ]
  },
  {
   "cell_type": "code",
   "execution_count": null,
   "metadata": {
    "id": "NDuPX36oBuRR"
   },
   "outputs": [],
   "source": [
    "cat_features = ['type', 'paperless_billing', 'payment_method', 'gender', 'senior_citizen', 'partner', 'dependents',\n",
    "       'internet_service', 'online_security', 'online_backup',\n",
    "       'device_protection', 'tech_support', 'streaming_tv', 'streaming_movies',\n",
    "       'multiple_lines']"
   ]
  },
  {
   "cell_type": "code",
   "execution_count": null,
   "metadata": {
    "id": "rsWmjJcIBuRR",
    "outputId": "fc6d7181-a472-4b46-a445-31ef210042d5"
   },
   "outputs": [
    {
     "name": "stdout",
     "output_type": "stream",
     "text": [
      "0:\ttest: 0.8097121\tbest: 0.8097121 (0)\ttotal: 321ms\tremaining: 5m 20s\n",
      "50:\ttest: 0.8625894\tbest: 0.8625894 (50)\ttotal: 7.75s\tremaining: 2m 24s\n",
      "100:\ttest: 0.8686783\tbest: 0.8686783 (100)\ttotal: 14.6s\tremaining: 2m 10s\n",
      "150:\ttest: 0.8805545\tbest: 0.8805545 (150)\ttotal: 23.3s\tremaining: 2m 11s\n",
      "200:\ttest: 0.8896560\tbest: 0.8896560 (200)\ttotal: 31.5s\tremaining: 2m 5s\n",
      "250:\ttest: 0.8971845\tbest: 0.8972380 (249)\ttotal: 40s\tremaining: 1m 59s\n",
      "300:\ttest: 0.9022285\tbest: 0.9022285 (300)\ttotal: 48.6s\tremaining: 1m 52s\n",
      "350:\ttest: 0.9065390\tbest: 0.9065390 (350)\ttotal: 57.7s\tremaining: 1m 46s\n",
      "400:\ttest: 0.9102946\tbest: 0.9103583 (394)\ttotal: 1m 6s\tremaining: 1m 39s\n",
      "450:\ttest: 0.9134027\tbest: 0.9134027 (450)\ttotal: 1m 16s\tremaining: 1m 33s\n",
      "500:\ttest: 0.9153890\tbest: 0.9154827 (499)\ttotal: 1m 26s\tremaining: 1m 26s\n",
      "550:\ttest: 0.9165349\tbest: 0.9165780 (547)\ttotal: 1m 35s\tremaining: 1m 17s\n",
      "600:\ttest: 0.9177907\tbest: 0.9177907 (600)\ttotal: 1m 44s\tremaining: 1m 9s\n",
      "650:\ttest: 0.9191758\tbest: 0.9191758 (650)\ttotal: 1m 53s\tremaining: 1m\n",
      "700:\ttest: 0.9201343\tbest: 0.9201634 (699)\ttotal: 2m 2s\tremaining: 52.2s\n",
      "750:\ttest: 0.9207174\tbest: 0.9207256 (743)\ttotal: 2m 11s\tremaining: 43.6s\n",
      "800:\ttest: 0.9210457\tbest: 0.9211450 (798)\ttotal: 2m 20s\tremaining: 34.9s\n",
      "850:\ttest: 0.9211086\tbest: 0.9212575 (831)\ttotal: 2m 29s\tremaining: 26.1s\n",
      "Stopped by overfitting detector  (20 iterations wait)\n",
      "ROC AUC mean score = 0.92126 +/- 0.00954\n"
     ]
    }
   ],
   "source": [
    "cv_data = features_train.to_numpy()\n",
    "labels = target_train.values\n",
    "\n",
    "cv_dataset = Pool(data = cv_data, label = labels, cat_features = cat_features, feature_names = features_train.columns.to_list())\n",
    "params = {\"iterations\": 1000,\n",
    "         \"learning_rate\": 0.09,\n",
    "         \"depth\": 7,\n",
    "         \"eval_metric\": 'AUC',\n",
    "         \"random_seed\": RANDOM_STATE,\n",
    "         \"bagging_temperature\": 0.2,\n",
    "         \"od_type\": 'Iter',\n",
    "         \"metric_period\": 1,\n",
    "         \"od_wait\": 20}\n",
    "\n",
    "scores = cv(cv_dataset, params, fold_count = 5, verbose = 50)\n",
    "print('ROC AUC mean score = {:.5f} +/- {:.5f}'\n",
    "      .format(scores['test-AUC-mean'].max(), \n",
    "              scores[scores['test-AUC-mean'] == scores['test-AUC-mean'].max()]['test-AUC-std'].values[0]))\n",
    "cb_best_iter = scores[scores['test-AUC-mean'] == scores['test-AUC-mean'].max()]['iterations'].values[0]"
   ]
  },
  {
   "cell_type": "markdown",
   "metadata": {
    "id": "WQ-q2QowBuRS"
   },
   "source": [
    "+ ROC AUC = 0.921 на кросс-валидации для модели Catboost."
   ]
  },
  {
   "cell_type": "markdown",
   "metadata": {
    "id": "IBpzK6_LBuRS"
   },
   "source": [
    "**Вывод:** Наилучшей моделью оказалась модель Catboost. **ROC_AUC = 0.921** на кроссвалидации. Посмотрим дальше на результаты этой модели на тестовых данных."
   ]
  },
  {
   "cell_type": "markdown",
   "metadata": {
    "id": "UFKZ-PVZBuRS"
   },
   "source": [
    "### Тестирование модели"
   ]
  },
  {
   "cell_type": "markdown",
   "metadata": {
    "id": "6IUio99OBuRS"
   },
   "source": [
    "Обучим лучшую модель на всей тренировочной выборке."
   ]
  },
  {
   "cell_type": "code",
   "execution_count": null,
   "metadata": {
    "id": "wDOSCgMOBuRS",
    "outputId": "2581ea61-7a99-47ae-8926-eb5f1b3c0912"
   },
   "outputs": [
    {
     "name": "stdout",
     "output_type": "stream",
     "text": [
      "0:\ttotal: 7.72ms\tremaining: 6.41s\n",
      "50:\ttotal: 1.57s\tremaining: 24s\n",
      "100:\ttotal: 2.95s\tremaining: 21.3s\n",
      "150:\ttotal: 4.63s\tremaining: 20.9s\n",
      "200:\ttotal: 6.42s\tremaining: 20.1s\n",
      "250:\ttotal: 8.21s\tremaining: 19s\n",
      "300:\ttotal: 9.99s\tremaining: 17.6s\n",
      "350:\ttotal: 12s\tremaining: 16.4s\n",
      "400:\ttotal: 13.8s\tremaining: 14.8s\n",
      "450:\ttotal: 15.6s\tremaining: 13.2s\n",
      "500:\ttotal: 17.4s\tremaining: 11.5s\n",
      "550:\ttotal: 20s\tremaining: 10.2s\n",
      "600:\ttotal: 22.1s\tremaining: 8.45s\n",
      "650:\ttotal: 24s\tremaining: 6.62s\n",
      "700:\ttotal: 25.8s\tremaining: 4.79s\n",
      "750:\ttotal: 27.6s\tremaining: 2.94s\n",
      "800:\ttotal: 29.4s\tremaining: 1.1s\n",
      "830:\ttotal: 30.6s\tremaining: 0us\n"
     ]
    },
    {
     "data": {
      "text/plain": [
       "<catboost.core.CatBoostClassifier at 0x7fa3ace9cf50>"
      ]
     },
     "execution_count": 39,
     "metadata": {},
     "output_type": "execute_result"
    }
   ],
   "source": [
    "best_model = CatBoostClassifier(iterations = cb_best_iter, learning_rate = 0.09, depth = 7,\n",
    "         eval_metric = 'AUC', random_seed = RANDOM_STATE, bagging_temperature = 0.2,\n",
    "         od_type = 'Iter', metric_period = 1, od_wait = 20, cat_features = cat_features)\n",
    "best_model.fit(features_train, target_train, verbose = 50)"
   ]
  },
  {
   "cell_type": "code",
   "execution_count": null,
   "metadata": {
    "id": "wQSWvjWaBuRS",
    "outputId": "db2906b2-8a27-449c-9248-9c130603c212"
   },
   "outputs": [
    {
     "name": "stdout",
     "output_type": "stream",
     "text": [
      "Значение ROC AUC на тестовой выборке для лучшей модели: 0.92501\n",
      "Значение Accuracy на тестовой выборке для лучшей модели: 0.88132\n",
      "Значение Precision на тестовой выборке для лучшей модели: 0.83375\n",
      "Значение Recall на тестовой выборке для лучшей модели: 0.69831\n"
     ]
    }
   ],
   "source": [
    "print('Значение ROC AUC на тестовой выборке для лучшей модели: {:.5f}'.format(\n",
    "    roc_auc_score(target_test, best_model.predict_proba(features_test)[:,1])))\n",
    "print('Значение Accuracy на тестовой выборке для лучшей модели: {:.5f}'.format(\n",
    "    accuracy_score(target_test, best_model.predict(features_test))))\n",
    "print('Значение Precision на тестовой выборке для лучшей модели: {:.5f}'.format(\n",
    "    precision_score(target_test, best_model.predict(features_test))))\n",
    "print('Значение Recall на тестовой выборке для лучшей модели: {:.5f}'.format(\n",
    "    recall_score(target_test, best_model.predict(features_test))))"
   ]
  },
  {
   "cell_type": "markdown",
   "metadata": {
    "id": "rMLaOPiBBuRT"
   },
   "source": [
    "#### Roc Auc curve"
   ]
  },
  {
   "cell_type": "code",
   "execution_count": null,
   "metadata": {
    "id": "-wVEl7aaBuRU"
   },
   "outputs": [],
   "source": [
    "model_dummy = DummyClassifier(constant = 0)\n",
    "model_dummy.fit(features_train, target_train)\n",
    "predictions_test_dummy = model_dummy.predict(features_test)\n",
    "probas_test_dummy = model_dummy.predict_proba(features_test)[:, 1]"
   ]
  },
  {
   "cell_type": "code",
   "execution_count": null,
   "metadata": {
    "id": "3ZkI8pQaBuRU",
    "outputId": "6e51a35a-dae1-44a7-9a73-3b3e3cb1287f"
   },
   "outputs": [
    {
     "data": {
      "image/png": "[encoded data removed]",
      "text/plain": [
       "<Figure size 864x648 with 1 Axes>"
      ]
     },
     "metadata": {
      "needs_background": "light"
     },
     "output_type": "display_data"
    }
   ],
   "source": [
    "def plot_roc_auc(model, features_test, target_test, plt_label):\n",
    "    \"\"\"\n",
    "    Функция вычисляет вероятности для переданной модели и тестовых данных, вычисляет AUC value и строет ROC AUC кривую.\n",
    "    \"\"\"\n",
    "    probs = model.predict_proba(features_test)[:, 1]\n",
    "    auc = roc_auc_score(target_test, probs)\n",
    "    fpr, tpr, thresholds = roc_curve(target_test, probs)\n",
    "    plt.plot(fpr, tpr, marker='.', label = plt_label + ' (area = %0.5f)' % auc)\n",
    "\n",
    "plt.rcParams['font.size'] = 16\n",
    "plt.figure(figsize = (12, 9))   \n",
    "plot_roc_auc(best_model, features_test, target_test, 'CatBoostClassifier')\n",
    "plot_roc_auc(model_dummy, features_test, target_test, 'Dummy model')\n",
    "\n",
    "\n",
    "plt.legend();\n",
    "plt.xlabel('False positive rate'); \n",
    "plt.ylabel('True positive rate'); \n",
    "plt.title('ROC curve');\n",
    "plt.show(); "
   ]
  },
  {
   "cell_type": "markdown",
   "metadata": {
    "id": "P6iIAGbVBuRU"
   },
   "source": [
    "#### Матрица ошибок"
   ]
  },
  {
   "cell_type": "code",
   "execution_count": null,
   "metadata": {
    "id": "S3x5TMJoBuRU",
    "outputId": "812d3923-44f8-4f77-eb2b-851e4a6e38bd"
   },
   "outputs": [
    {
     "data": {
      "image/png": "[encoded data removed]",
      "text/plain": [
       "<Figure size 432x288 with 2 Axes>"
      ]
     },
     "metadata": {
      "needs_background": "light"
     },
     "output_type": "display_data"
    }
   ],
   "source": [
    "cf_matrix = confusion_matrix(target_test, best_model.predict(features_test))\n",
    "ax = sns.heatmap(cf_matrix, annot=True, cmap='Blues', fmt=\"\")\n",
    "\n",
    "ax.set_title('Confusion Matrix\\n\\n');\n",
    "ax.set_xlabel('\\nPredicted Values')\n",
    "ax.set_ylabel('Actual Values ');\n",
    "\n",
    "## Ticket labels - List must be in alphabetical order\n",
    "ax.xaxis.set_ticklabels(['False','True'])\n",
    "ax.yaxis.set_ticklabels(['False','True'])\n",
    "\n",
    "## Display the visualization of the Confusion Matrix.\n",
    "plt.show()"
   ]
  },
  {
   "cell_type": "markdown",
   "metadata": {
    "id": "7GdBy9b5BuRU"
   },
   "source": [
    "**Вывод:** Наша модель предсказывает, очевидно, лучше модели константного выбора.  \n",
    "+ **ROC AUC** на тестовой выборке для лучшей модели: **0.925**\n",
    "  \n",
    "+ *Accuracy* на тестовой выборке для лучшей модели: 0.881\n",
    "+ *Precision* на тестовой выборке для лучшей модели: 0.833\n",
    "+ *Recall* на тестовой выборке для лучшей модели: 0.698"
   ]
  },
  {
   "cell_type": "markdown",
   "metadata": {
    "id": "QYMG7WNkD9TB"
   },
   "source": [
    "## Отчёт"
   ]
  },
  {
   "cell_type": "markdown",
   "metadata": {
    "id": "CtCwyU8_EBP8"
   },
   "source": [
    "+ Какие пункты плана были выполнены, а какие — нет (поясните почему)?\n",
    "  В принципе все пункты плана были выполнены, местами, объеденены или дополнены.\n",
    "  + Во время работы над моделями я заметил сильную корреляцию признаков `monthly_charges` и `total_charges` с другими признаками. Целевая метрика получается лучше, если удалить оба.\n",
    "  + Логистическая регрессия и леса обучались на OHE признаках, Catboost на категориальных.\n",
    "  + Обезразмеривание данных проводилось только для Регрессии.\n",
    "  + Лучшая модель была отобрана по результатам кросс-валидации. Upsampling я не стал делать. Ограничился `class_weights = balanced`.\n",
    "  + Т.к. я никогда не использовал пайплайны, я решил попробовать их в финальном проекте. А так же завернуть подбор признаков в пайнплайн, всё получилось (только катбуст я не стал мучать, он и так хорошо работает). Поэтому обучение и подбор гиперпараметров у меня объеденились в один пункт.\n",
    "  + Для подбора гиперпараметров исползовался grid_search в разрезе количества признаков у селектора.\n",
    "  + Наилучшее значение **ROC AUC** **0.921** на кросс-валидации для модели Catboost.\n",
    "  + Значение **ROC AUC** на тестовых данных составило **0.925**. Наша модель предсказывает, очевидно лучше тривиальной.  \n",
    "  Accuracy: 0.881  \n",
    "  Precision: 0.833  \n",
    "  Recall: 0.698  \n",
    "+ Какие трудности возникли и как вы их преодолели?  \n",
    "  Мультриколлениарность признаков. Я посмотрел матрицу корреляции признаков, и удалил два признака, результаты улучшились, Catboost стал легче обучаться.\n",
    "+ Какие ключевые шаги в решении задачи выделили?\n",
    "  + Подготовка данных, заполнение пропусков, объединение.\n",
    "  + Анализ данных, выделение целевого признака.\n",
    "  + Отбор признаков для обучения.\n",
    "  + Обучение моделей, подбор гиперпараметров.\n",
    "  + Выбор лучшей модели, тестирование.\n",
    "+ Какая ваша итоговая модель и какое у неё качество?\n",
    "  + Лучшей моделью оказался Catboost.   </br>**ROC AUC: 0.921** на кросс-валидации и **0.925** на тестовых данных.  \n",
    "  При этом **Accuracy**:  **0.881** на тестовых данных"
   ]
  }
 ],
 "metadata": {
  "ExecuteTimeLog": [
   {
    "duration": 93,
    "start_time": "2021-10-20T14:57:42.306Z"
   },
   {
    "duration": 4,
    "start_time": "2021-10-20T14:57:52.660Z"
   },
   {
    "duration": 1649,
    "start_time": "2021-10-20T14:58:01.804Z"
   },
   {
    "duration": 223,
    "start_time": "2021-10-20T14:58:13.446Z"
   },
   {
    "duration": 109,
    "start_time": "2021-10-20T14:58:16.265Z"
   },
   {
    "duration": 45,
    "start_time": "2021-10-20T14:58:57.579Z"
   },
   {
    "duration": 41,
    "start_time": "2021-10-20T14:59:03.653Z"
   },
   {
    "duration": 20,
    "start_time": "2021-10-20T14:59:09.308Z"
   },
   {
    "duration": 101,
    "start_time": "2021-10-20T14:59:26.103Z"
   },
   {
    "duration": 19,
    "start_time": "2021-10-20T14:59:40.169Z"
   },
   {
    "duration": 33,
    "start_time": "2021-10-20T14:59:44.737Z"
   },
   {
    "duration": 89,
    "start_time": "2021-10-20T14:59:51.189Z"
   },
   {
    "duration": 19,
    "start_time": "2021-10-20T15:00:00.614Z"
   },
   {
    "duration": 3,
    "start_time": "2021-10-20T15:00:10.785Z"
   },
   {
    "duration": 94,
    "start_time": "2021-10-20T15:15:16.027Z"
   },
   {
    "duration": 57,
    "start_time": "2021-10-20T15:15:48.951Z"
   },
   {
    "duration": 14,
    "start_time": "2021-10-20T15:16:12.125Z"
   },
   {
    "duration": 6,
    "start_time": "2021-10-20T15:16:16.656Z"
   },
   {
    "duration": 5,
    "start_time": "2021-10-20T15:16:28.287Z"
   },
   {
    "duration": 88,
    "start_time": "2021-10-20T15:18:18.732Z"
   },
   {
    "duration": 18,
    "start_time": "2021-10-20T15:18:27.050Z"
   },
   {
    "duration": 84,
    "start_time": "2021-10-20T15:18:31.753Z"
   },
   {
    "duration": 426,
    "start_time": "2021-10-20T15:18:43.401Z"
   },
   {
    "duration": 91,
    "start_time": "2021-10-20T15:18:50.382Z"
   },
   {
    "duration": 446,
    "start_time": "2021-10-20T15:18:58.823Z"
   },
   {
    "duration": 101,
    "start_time": "2021-10-20T15:19:04.493Z"
   },
   {
    "duration": 3,
    "start_time": "2021-10-20T15:19:15.215Z"
   },
   {
    "duration": 1178,
    "start_time": "2021-10-20T15:19:25.094Z"
   },
   {
    "duration": 111,
    "start_time": "2021-10-20T15:19:32.644Z"
   },
   {
    "duration": 3,
    "start_time": "2021-10-20T15:19:42.074Z"
   },
   {
    "duration": 3,
    "start_time": "2021-10-20T15:19:54.794Z"
   },
   {
    "duration": 4,
    "start_time": "2021-10-20T15:20:04.505Z"
   },
   {
    "duration": 5,
    "start_time": "2021-10-20T15:20:11.413Z"
   },
   {
    "duration": 1285,
    "start_time": "2021-10-20T15:20:15.475Z"
   },
   {
    "duration": 94,
    "start_time": "2021-10-20T15:20:25.038Z"
   },
   {
    "duration": 3,
    "start_time": "2021-10-20T15:20:33.321Z"
   },
   {
    "duration": 365,
    "start_time": "2021-10-20T15:20:42.662Z"
   },
   {
    "duration": 8,
    "start_time": "2021-10-20T15:21:05.052Z"
   },
   {
    "duration": 100,
    "start_time": "2021-10-20T15:21:09.761Z"
   },
   {
    "duration": 87,
    "start_time": "2021-10-20T15:21:15.756Z"
   },
   {
    "duration": 88,
    "start_time": "2021-10-20T15:21:23.895Z"
   },
   {
    "duration": 1465,
    "start_time": "2021-10-20T15:21:37.202Z"
   },
   {
    "duration": 108,
    "start_time": "2021-10-20T15:21:38.670Z"
   },
   {
    "duration": 43,
    "start_time": "2021-10-20T15:21:38.781Z"
   },
   {
    "duration": 42,
    "start_time": "2021-10-20T15:21:38.827Z"
   },
   {
    "duration": 20,
    "start_time": "2021-10-20T15:21:38.871Z"
   },
   {
    "duration": 38,
    "start_time": "2021-10-20T15:21:38.893Z"
   },
   {
    "duration": 29,
    "start_time": "2021-10-20T15:21:38.934Z"
   },
   {
    "duration": 17,
    "start_time": "2021-10-20T15:21:38.968Z"
   },
   {
    "duration": 85,
    "start_time": "2021-10-20T15:21:38.989Z"
   },
   {
    "duration": 12,
    "start_time": "2021-10-20T15:21:39.078Z"
   },
   {
    "duration": 30,
    "start_time": "2021-10-20T15:21:39.092Z"
   },
   {
    "duration": 18,
    "start_time": "2021-10-20T15:21:39.125Z"
   },
   {
    "duration": 27,
    "start_time": "2021-10-20T15:21:39.145Z"
   },
   {
    "duration": 428,
    "start_time": "2021-10-20T15:21:39.174Z"
   },
   {
    "duration": 449,
    "start_time": "2021-10-20T15:21:39.604Z"
   },
   {
    "duration": 983,
    "start_time": "2021-10-20T15:21:40.056Z"
   },
   {
    "duration": 4,
    "start_time": "2021-10-20T15:21:41.042Z"
   },
   {
    "duration": 17,
    "start_time": "2021-10-20T15:21:41.048Z"
   },
   {
    "duration": 1319,
    "start_time": "2021-10-20T15:21:41.068Z"
   },
   {
    "duration": 377,
    "start_time": "2021-10-20T15:21:42.390Z"
   },
   {
    "duration": 8,
    "start_time": "2021-10-20T15:21:42.770Z"
   },
   {
    "duration": 122,
    "start_time": "2021-10-20T15:21:42.780Z"
   },
   {
    "duration": 3,
    "start_time": "2021-10-20T15:22:20.078Z"
   },
   {
    "duration": 449,
    "start_time": "2021-10-20T15:23:03.653Z"
   },
   {
    "duration": 4,
    "start_time": "2021-10-20T15:23:06.595Z"
   },
   {
    "duration": 88,
    "start_time": "2021-10-20T15:23:44.280Z"
   },
   {
    "duration": 43,
    "start_time": "2021-10-20T15:23:57.928Z"
   },
   {
    "duration": 129,
    "start_time": "2021-10-20T15:27:57.175Z"
   },
   {
    "duration": 40,
    "start_time": "2021-10-20T15:28:18.599Z"
   },
   {
    "duration": 279,
    "start_time": "2021-10-20T15:28:58.737Z"
   },
   {
    "duration": 328,
    "start_time": "2021-10-20T15:29:13.334Z"
   },
   {
    "duration": 7,
    "start_time": "2021-10-20T15:31:21.912Z"
   },
   {
    "duration": 7,
    "start_time": "2021-10-20T15:31:34.659Z"
   },
   {
    "duration": 296,
    "start_time": "2021-10-20T15:33:03.372Z"
   },
   {
    "duration": 270,
    "start_time": "2021-10-20T15:33:27.291Z"
   },
   {
    "duration": 3,
    "start_time": "2021-10-20T15:33:31.486Z"
   },
   {
    "duration": 19,
    "start_time": "2021-10-20T15:33:33.364Z"
   },
   {
    "duration": 6,
    "start_time": "2021-10-20T15:33:52.631Z"
   },
   {
    "duration": 32,
    "start_time": "2021-10-20T15:34:01.711Z"
   },
   {
    "duration": 11,
    "start_time": "2021-10-20T15:35:33.963Z"
   },
   {
    "duration": 5,
    "start_time": "2021-10-20T15:35:38.690Z"
   },
   {
    "duration": 4,
    "start_time": "2021-10-20T15:35:49.690Z"
   },
   {
    "duration": 5,
    "start_time": "2021-10-20T15:35:54.131Z"
   },
   {
    "duration": 281,
    "start_time": "2021-10-20T15:36:10.739Z"
   },
   {
    "duration": 5,
    "start_time": "2021-10-20T15:36:11.284Z"
   },
   {
    "duration": 275,
    "start_time": "2021-10-20T15:36:14.773Z"
   },
   {
    "duration": 10,
    "start_time": "2021-10-20T15:36:19.507Z"
   },
   {
    "duration": 5,
    "start_time": "2021-10-20T15:36:20.528Z"
   },
   {
    "duration": 4,
    "start_time": "2021-10-20T15:36:27.214Z"
   },
   {
    "duration": 6,
    "start_time": "2021-10-20T15:36:27.568Z"
   },
   {
    "duration": 5,
    "start_time": "2021-10-20T15:36:39.713Z"
   },
   {
    "duration": 10,
    "start_time": "2021-10-20T15:36:44.149Z"
   },
   {
    "duration": 5,
    "start_time": "2021-10-20T15:36:44.401Z"
   },
   {
    "duration": 5,
    "start_time": "2021-10-20T15:36:45.245Z"
   },
   {
    "duration": 6,
    "start_time": "2021-10-20T15:36:45.476Z"
   },
   {
    "duration": 43893,
    "start_time": "2021-10-20T15:38:54.017Z"
   },
   {
    "duration": 95,
    "start_time": "2021-10-20T15:44:18.094Z"
   },
   {
    "duration": 1361,
    "start_time": "2021-10-20T15:53:09.349Z"
   },
   {
    "duration": 1446,
    "start_time": "2021-10-20T15:53:34.747Z"
   },
   {
    "duration": 108,
    "start_time": "2021-10-20T15:53:36.199Z"
   },
   {
    "duration": 42,
    "start_time": "2021-10-20T15:53:36.309Z"
   },
   {
    "duration": 39,
    "start_time": "2021-10-20T15:53:36.354Z"
   },
   {
    "duration": 31,
    "start_time": "2021-10-20T15:53:36.395Z"
   },
   {
    "duration": 17,
    "start_time": "2021-10-20T15:53:36.429Z"
   },
   {
    "duration": 28,
    "start_time": "2021-10-20T15:53:36.450Z"
   },
   {
    "duration": 51,
    "start_time": "2021-10-20T15:53:36.482Z"
   },
   {
    "duration": 53,
    "start_time": "2021-10-20T15:53:36.536Z"
   },
   {
    "duration": 33,
    "start_time": "2021-10-20T15:53:36.591Z"
   },
   {
    "duration": 25,
    "start_time": "2021-10-20T15:53:36.626Z"
   },
   {
    "duration": 20,
    "start_time": "2021-10-20T15:53:36.653Z"
   },
   {
    "duration": 38,
    "start_time": "2021-10-20T15:53:36.675Z"
   },
   {
    "duration": 446,
    "start_time": "2021-10-20T15:53:36.716Z"
   },
   {
    "duration": 457,
    "start_time": "2021-10-20T15:53:37.165Z"
   },
   {
    "duration": 972,
    "start_time": "2021-10-20T15:53:37.624Z"
   },
   {
    "duration": 4,
    "start_time": "2021-10-20T15:53:38.598Z"
   },
   {
    "duration": 23,
    "start_time": "2021-10-20T15:53:38.604Z"
   },
   {
    "duration": 1277,
    "start_time": "2021-10-20T15:53:38.629Z"
   },
   {
    "duration": 376,
    "start_time": "2021-10-20T15:53:39.909Z"
   },
   {
    "duration": 7,
    "start_time": "2021-10-20T15:53:40.288Z"
   },
   {
    "duration": 128,
    "start_time": "2021-10-20T15:53:40.299Z"
   },
   {
    "duration": 59,
    "start_time": "2021-10-20T15:53:40.429Z"
   },
   {
    "duration": 134,
    "start_time": "2021-10-20T15:53:40.490Z"
   },
   {
    "duration": 18,
    "start_time": "2021-10-20T15:53:40.626Z"
   },
   {
    "duration": 9,
    "start_time": "2021-10-20T15:53:40.646Z"
   },
   {
    "duration": 35,
    "start_time": "2021-10-20T15:53:40.657Z"
   },
   {
    "duration": 716,
    "start_time": "2021-10-20T15:53:40.723Z"
   },
   {
    "duration": 789,
    "start_time": "2021-10-20T15:53:40.652Z"
   },
   {
    "duration": 257,
    "start_time": "2021-10-20T15:53:55.134Z"
   },
   {
    "duration": 17,
    "start_time": "2021-10-20T15:54:16.578Z"
   },
   {
    "duration": 5,
    "start_time": "2021-10-20T15:54:17.262Z"
   },
   {
    "duration": 33,
    "start_time": "2021-10-20T15:54:17.886Z"
   },
   {
    "duration": 5276,
    "start_time": "2021-10-20T15:54:19.597Z"
   },
   {
    "duration": 5,
    "start_time": "2021-10-20T15:56:25.915Z"
   },
   {
    "duration": 16,
    "start_time": "2021-10-20T15:56:49.325Z"
   },
   {
    "duration": 5,
    "start_time": "2021-10-20T15:56:50.552Z"
   },
   {
    "duration": 33,
    "start_time": "2021-10-20T15:56:51.659Z"
   },
   {
    "duration": 5,
    "start_time": "2021-10-20T15:56:54.244Z"
   },
   {
    "duration": 28705,
    "start_time": "2021-10-20T15:56:55.816Z"
   },
   {
    "duration": 267,
    "start_time": "2021-10-20T15:58:13.733Z"
   },
   {
    "duration": 3549,
    "start_time": "2021-10-20T15:58:50.466Z"
   },
   {
    "duration": 86,
    "start_time": "2021-10-20T15:59:20.694Z"
   },
   {
    "duration": 4881,
    "start_time": "2021-10-20T15:59:25.287Z"
   },
   {
    "duration": 5,
    "start_time": "2021-10-20T16:00:13.830Z"
   },
   {
    "duration": 307,
    "start_time": "2021-10-20T16:01:19.793Z"
   },
   {
    "duration": 10,
    "start_time": "2021-10-20T16:01:36.397Z"
   },
   {
    "duration": 5,
    "start_time": "2021-10-20T16:01:40.347Z"
   },
   {
    "duration": 291,
    "start_time": "2021-10-20T16:01:46.696Z"
   },
   {
    "duration": 11,
    "start_time": "2021-10-20T16:01:56.355Z"
   },
   {
    "duration": 5,
    "start_time": "2021-10-20T16:02:01.686Z"
   },
   {
    "duration": 6,
    "start_time": "2021-10-20T16:02:29.387Z"
   },
   {
    "duration": 6,
    "start_time": "2021-10-20T16:02:35.899Z"
   },
   {
    "duration": 8,
    "start_time": "2021-10-20T16:02:47.426Z"
   },
   {
    "duration": 15,
    "start_time": "2021-10-20T16:04:16.980Z"
   },
   {
    "duration": 17,
    "start_time": "2021-10-20T16:04:20.160Z"
   },
   {
    "duration": 15,
    "start_time": "2021-10-20T16:04:24.034Z"
   },
   {
    "duration": 286,
    "start_time": "2021-10-20T16:05:27.787Z"
   },
   {
    "duration": 6018,
    "start_time": "2021-10-20T16:05:48.663Z"
   },
   {
    "duration": 272,
    "start_time": "2021-10-20T16:05:55.382Z"
   },
   {
    "duration": 8907,
    "start_time": "2021-10-20T16:06:17.772Z"
   },
   {
    "duration": 270,
    "start_time": "2021-10-20T16:06:27.739Z"
   },
   {
    "duration": 18,
    "start_time": "2021-10-20T16:16:38.578Z"
   },
   {
    "duration": 12,
    "start_time": "2021-10-20T16:17:34.420Z"
   },
   {
    "duration": 5,
    "start_time": "2021-10-20T16:17:59.825Z"
   },
   {
    "duration": 15,
    "start_time": "2021-10-20T16:18:04.545Z"
   },
   {
    "duration": 9,
    "start_time": "2021-10-20T16:19:39.709Z"
   },
   {
    "duration": 13,
    "start_time": "2021-10-20T16:19:58.347Z"
   },
   {
    "duration": 5,
    "start_time": "2021-10-20T16:21:50.950Z"
   },
   {
    "duration": 5,
    "start_time": "2021-10-20T16:21:56.572Z"
   },
   {
    "duration": 5,
    "start_time": "2021-10-20T16:22:02.097Z"
   },
   {
    "duration": 6,
    "start_time": "2021-10-20T16:22:09.942Z"
   },
   {
    "duration": 6,
    "start_time": "2021-10-20T16:22:28.787Z"
   },
   {
    "duration": 5,
    "start_time": "2021-10-20T16:22:50.951Z"
   },
   {
    "duration": 5,
    "start_time": "2021-10-20T16:22:54.678Z"
   },
   {
    "duration": 6,
    "start_time": "2021-10-20T16:22:57.550Z"
   },
   {
    "duration": 5,
    "start_time": "2021-10-20T16:23:00.491Z"
   },
   {
    "duration": 91,
    "start_time": "2021-10-20T16:23:13.739Z"
   },
   {
    "duration": 6,
    "start_time": "2021-10-20T16:23:19.014Z"
   },
   {
    "duration": 7,
    "start_time": "2021-10-20T16:23:29.496Z"
   },
   {
    "duration": 5,
    "start_time": "2021-10-20T16:23:29.690Z"
   },
   {
    "duration": 6,
    "start_time": "2021-10-20T16:23:29.821Z"
   },
   {
    "duration": 5,
    "start_time": "2021-10-20T16:23:30.428Z"
   },
   {
    "duration": 94,
    "start_time": "2021-10-20T16:23:40.188Z"
   },
   {
    "duration": 98,
    "start_time": "2021-10-20T16:23:43.616Z"
   },
   {
    "duration": 6,
    "start_time": "2021-10-20T16:23:57.124Z"
   },
   {
    "duration": 5,
    "start_time": "2021-10-20T16:24:07.742Z"
   },
   {
    "duration": 6,
    "start_time": "2021-10-20T16:24:07.951Z"
   },
   {
    "duration": 6,
    "start_time": "2021-10-20T16:24:08.398Z"
   },
   {
    "duration": 6,
    "start_time": "2021-10-20T16:24:08.880Z"
   },
   {
    "duration": 819,
    "start_time": "2021-10-20T16:24:21.068Z"
   },
   {
    "duration": 6,
    "start_time": "2021-10-20T16:24:29.350Z"
   },
   {
    "duration": 93,
    "start_time": "2021-10-20T16:24:45.809Z"
   },
   {
    "duration": 5,
    "start_time": "2021-10-20T16:25:50.163Z"
   },
   {
    "duration": 7,
    "start_time": "2021-10-20T16:25:57.743Z"
   },
   {
    "duration": 11,
    "start_time": "2021-10-20T16:29:30.232Z"
   },
   {
    "duration": 13,
    "start_time": "2021-10-20T16:30:03.495Z"
   },
   {
    "duration": 22,
    "start_time": "2021-10-20T16:30:08.187Z"
   },
   {
    "duration": 12,
    "start_time": "2021-10-20T16:30:23.816Z"
   },
   {
    "duration": 1830,
    "start_time": "2021-10-23T12:56:51.811Z"
   },
   {
    "duration": 139,
    "start_time": "2021-10-23T12:56:54.757Z"
   },
   {
    "duration": 47,
    "start_time": "2021-10-23T12:56:55.056Z"
   },
   {
    "duration": 62,
    "start_time": "2021-10-23T12:56:55.201Z"
   },
   {
    "duration": 36,
    "start_time": "2021-10-23T12:56:55.331Z"
   },
   {
    "duration": 28,
    "start_time": "2021-10-23T12:56:55.633Z"
   },
   {
    "duration": 31,
    "start_time": "2021-10-23T12:56:55.789Z"
   },
   {
    "duration": 21,
    "start_time": "2021-10-23T12:56:56.510Z"
   },
   {
    "duration": 89,
    "start_time": "2021-10-23T12:56:57.519Z"
   },
   {
    "duration": 23,
    "start_time": "2021-10-23T12:56:57.831Z"
   },
   {
    "duration": 5,
    "start_time": "2021-10-23T12:56:57.988Z"
   },
   {
    "duration": 7,
    "start_time": "2021-10-23T12:56:58.298Z"
   },
   {
    "duration": 33,
    "start_time": "2021-10-23T12:56:58.801Z"
   },
   {
    "duration": 537,
    "start_time": "2021-10-23T12:56:59.239Z"
   },
   {
    "duration": 627,
    "start_time": "2021-10-23T12:56:59.779Z"
   },
   {
    "duration": 1215,
    "start_time": "2021-10-23T12:57:00.410Z"
   },
   {
    "duration": 6,
    "start_time": "2021-10-23T12:57:01.629Z"
   },
   {
    "duration": 30,
    "start_time": "2021-10-23T12:57:01.640Z"
   },
   {
    "duration": 1795,
    "start_time": "2021-10-23T12:57:01.673Z"
   },
   {
    "duration": 418,
    "start_time": "2021-10-23T12:57:03.471Z"
   },
   {
    "duration": 11,
    "start_time": "2021-10-23T12:57:03.893Z"
   },
   {
    "duration": 147,
    "start_time": "2021-10-23T12:57:03.907Z"
   },
   {
    "duration": 172,
    "start_time": "2021-10-23T12:57:12.305Z"
   },
   {
    "duration": 61,
    "start_time": "2021-10-23T12:57:14.000Z"
   },
   {
    "duration": 27,
    "start_time": "2021-10-23T12:57:24.385Z"
   },
   {
    "duration": 7,
    "start_time": "2021-10-23T12:57:25.106Z"
   },
   {
    "duration": 38,
    "start_time": "2021-10-23T12:57:26.153Z"
   },
   {
    "duration": 471,
    "start_time": "2021-10-23T12:57:39.286Z"
   },
   {
    "duration": 104,
    "start_time": "2021-10-23T12:57:53.987Z"
   },
   {
    "duration": 33091,
    "start_time": "2021-10-23T12:58:04.164Z"
   },
   {
    "duration": 6163,
    "start_time": "2021-10-23T12:58:39.498Z"
   },
   {
    "duration": 20,
    "start_time": "2021-10-23T12:58:49.359Z"
   },
   {
    "duration": 6,
    "start_time": "2021-10-23T12:58:50.155Z"
   },
   {
    "duration": 25,
    "start_time": "2021-10-23T12:58:55.308Z"
   },
   {
    "duration": 292,
    "start_time": "2021-10-23T12:59:23.021Z"
   },
   {
    "duration": 12,
    "start_time": "2021-10-23T12:59:28.696Z"
   },
   {
    "duration": 5,
    "start_time": "2021-10-23T12:59:29.491Z"
   },
   {
    "duration": 14,
    "start_time": "2021-10-23T12:59:29.951Z"
   },
   {
    "duration": 22,
    "start_time": "2021-10-23T12:59:30.520Z"
   },
   {
    "duration": 11,
    "start_time": "2021-10-23T12:59:32.078Z"
   },
   {
    "duration": 280,
    "start_time": "2021-10-23T13:01:45.816Z"
   },
   {
    "duration": 115,
    "start_time": "2021-10-23T13:03:28.837Z"
   },
   {
    "duration": 100,
    "start_time": "2021-10-23T13:03:48.002Z"
   },
   {
    "duration": 95,
    "start_time": "2021-10-23T13:03:51.868Z"
   },
   {
    "duration": 7,
    "start_time": "2021-10-23T13:03:55.488Z"
   },
   {
    "duration": 111,
    "start_time": "2021-10-23T13:04:06.848Z"
   },
   {
    "duration": 103,
    "start_time": "2021-10-23T13:04:10.364Z"
   },
   {
    "duration": 93,
    "start_time": "2021-10-23T13:04:33.089Z"
   },
   {
    "duration": 7,
    "start_time": "2021-10-23T13:04:37.278Z"
   },
   {
    "duration": 101,
    "start_time": "2021-10-23T13:04:46.844Z"
   },
   {
    "duration": 15,
    "start_time": "2021-10-23T13:04:50.832Z"
   },
   {
    "duration": 8,
    "start_time": "2021-10-23T13:04:56.054Z"
   },
   {
    "duration": 8,
    "start_time": "2021-10-23T13:05:04.216Z"
   },
   {
    "duration": 8,
    "start_time": "2021-10-23T13:05:13.510Z"
   },
   {
    "duration": 7,
    "start_time": "2021-10-23T13:05:21.004Z"
   },
   {
    "duration": 319,
    "start_time": "2021-10-23T13:05:35.842Z"
   },
   {
    "duration": 8,
    "start_time": "2021-10-23T13:05:40.672Z"
   },
   {
    "duration": 1387,
    "start_time": "2021-10-23T13:06:24.158Z"
   },
   {
    "duration": 4,
    "start_time": "2021-10-23T13:07:18.286Z"
   },
   {
    "duration": 498,
    "start_time": "2021-10-23T13:08:10.614Z"
   },
   {
    "duration": 513,
    "start_time": "2021-10-23T13:08:44.958Z"
   },
   {
    "duration": 143,
    "start_time": "2021-10-23T13:09:03.143Z"
   },
   {
    "duration": 662,
    "start_time": "2021-10-23T13:10:41.083Z"
   },
   {
    "duration": 502,
    "start_time": "2021-10-23T13:10:54.068Z"
   },
   {
    "duration": 16,
    "start_time": "2021-10-23T13:11:25.607Z"
   },
   {
    "duration": 430,
    "start_time": "2021-10-23T13:12:28.166Z"
   },
   {
    "duration": 13,
    "start_time": "2021-10-23T13:12:41.131Z"
   },
   {
    "duration": 528,
    "start_time": "2021-10-23T13:13:57.474Z"
   },
   {
    "duration": 746,
    "start_time": "2021-10-23T13:14:03.212Z"
   },
   {
    "duration": 654,
    "start_time": "2021-10-23T13:14:09.084Z"
   },
   {
    "duration": 609,
    "start_time": "2021-10-23T13:14:14.387Z"
   },
   {
    "duration": 399,
    "start_time": "2021-10-23T13:14:19.251Z"
   },
   {
    "duration": 24,
    "start_time": "2021-10-23T13:18:15.735Z"
   },
   {
    "duration": 521,
    "start_time": "2021-10-23T13:18:16.992Z"
   },
   {
    "duration": 635,
    "start_time": "2021-10-23T13:18:17.754Z"
   },
   {
    "duration": 6,
    "start_time": "2021-10-23T13:18:31.036Z"
   },
   {
    "duration": 6,
    "start_time": "2021-10-23T13:19:08.689Z"
   },
   {
    "duration": 18,
    "start_time": "2021-10-23T13:19:24.446Z"
   },
   {
    "duration": 8,
    "start_time": "2021-10-23T13:19:25.135Z"
   },
   {
    "duration": 116,
    "start_time": "2021-10-23T13:21:56.374Z"
   },
   {
    "duration": 9,
    "start_time": "2021-10-23T13:22:05.199Z"
   },
   {
    "duration": 29135,
    "start_time": "2021-10-23T13:22:22.022Z"
   },
   {
    "duration": 556,
    "start_time": "2021-10-23T13:22:54.316Z"
   },
   {
    "duration": 11,
    "start_time": "2021-10-23T13:22:58.743Z"
   },
   {
    "duration": 336,
    "start_time": "2021-10-23T13:23:36.499Z"
   },
   {
    "duration": 5,
    "start_time": "2021-10-23T13:23:39.761Z"
   },
   {
    "duration": 7,
    "start_time": "2021-10-23T13:24:02.460Z"
   },
   {
    "duration": 11,
    "start_time": "2021-10-23T13:24:09.139Z"
   },
   {
    "duration": 351,
    "start_time": "2021-10-23T13:24:46.638Z"
   },
   {
    "duration": 10,
    "start_time": "2021-10-23T13:24:56.353Z"
   },
   {
    "duration": 308,
    "start_time": "2021-10-23T13:25:04.504Z"
   },
   {
    "duration": 34800,
    "start_time": "2021-10-23T13:25:09.136Z"
   },
   {
    "duration": 6,
    "start_time": "2021-10-23T13:25:43.939Z"
   },
   {
    "duration": 21,
    "start_time": "2021-10-23T13:25:43.948Z"
   },
   {
    "duration": 5,
    "start_time": "2021-10-23T13:25:46.876Z"
   },
   {
    "duration": 25599,
    "start_time": "2021-10-23T13:26:27.480Z"
   },
   {
    "duration": 4657,
    "start_time": "2021-10-23T13:26:57.748Z"
   },
   {
    "duration": 25,
    "start_time": "2021-10-23T13:27:04.921Z"
   },
   {
    "duration": 6,
    "start_time": "2021-10-23T13:27:05.325Z"
   },
   {
    "duration": 21,
    "start_time": "2021-10-23T13:27:05.749Z"
   },
   {
    "duration": 26,
    "start_time": "2021-10-23T13:27:40.172Z"
   },
   {
    "duration": 8,
    "start_time": "2021-10-23T13:27:42.609Z"
   },
   {
    "duration": 7,
    "start_time": "2021-10-23T13:27:43.013Z"
   },
   {
    "duration": 37727,
    "start_time": "2021-10-23T13:27:43.664Z"
   },
   {
    "duration": 8018,
    "start_time": "2021-10-23T13:28:26.783Z"
   },
   {
    "duration": 25,
    "start_time": "2021-10-23T13:28:36.648Z"
   },
   {
    "duration": 6,
    "start_time": "2021-10-23T13:28:36.872Z"
   },
   {
    "duration": 20,
    "start_time": "2021-10-23T13:28:37.245Z"
   },
   {
    "duration": 19,
    "start_time": "2021-10-23T13:32:46.644Z"
   },
   {
    "duration": 301,
    "start_time": "2021-10-23T13:33:06.534Z"
   },
   {
    "duration": 395,
    "start_time": "2021-10-23T13:33:27.633Z"
   },
   {
    "duration": 282,
    "start_time": "2021-10-23T13:33:44.145Z"
   },
   {
    "duration": 8,
    "start_time": "2021-10-23T13:33:47.659Z"
   },
   {
    "duration": 7,
    "start_time": "2021-10-23T13:33:57.616Z"
   },
   {
    "duration": 12,
    "start_time": "2021-10-23T13:34:00.110Z"
   },
   {
    "duration": 9,
    "start_time": "2021-10-23T13:34:03.985Z"
   },
   {
    "duration": 76,
    "start_time": "2021-10-23T13:40:16.322Z"
   },
   {
    "duration": 6,
    "start_time": "2021-10-23T13:44:01.676Z"
   },
   {
    "duration": 77,
    "start_time": "2021-10-23T13:44:23.311Z"
   },
   {
    "duration": 62,
    "start_time": "2021-10-23T13:45:21.034Z"
   },
   {
    "duration": 39,
    "start_time": "2021-10-23T13:45:24.110Z"
   },
   {
    "duration": 4,
    "start_time": "2021-10-23T13:46:31.261Z"
   },
   {
    "duration": 270,
    "start_time": "2021-10-23T13:48:15.845Z"
   },
   {
    "duration": 275,
    "start_time": "2021-10-23T13:48:38.619Z"
   },
   {
    "duration": 332,
    "start_time": "2021-10-23T13:49:06.620Z"
   },
   {
    "duration": 11,
    "start_time": "2021-10-23T13:49:44.832Z"
   },
   {
    "duration": 66,
    "start_time": "2021-10-23T13:49:48.457Z"
   },
   {
    "duration": 7,
    "start_time": "2021-10-23T13:51:47.541Z"
   },
   {
    "duration": 26,
    "start_time": "2021-10-23T13:52:24.748Z"
   },
   {
    "duration": 38,
    "start_time": "2021-10-23T13:52:25.470Z"
   },
   {
    "duration": 395,
    "start_time": "2021-10-23T13:52:28.606Z"
   },
   {
    "duration": 963,
    "start_time": "2021-10-23T13:52:38.701Z"
   },
   {
    "duration": 385,
    "start_time": "2021-10-23T13:52:58.653Z"
   },
   {
    "duration": 346,
    "start_time": "2021-10-23T13:54:16.063Z"
   },
   {
    "duration": 35,
    "start_time": "2021-10-23T13:54:28.132Z"
   },
   {
    "duration": 6,
    "start_time": "2021-10-23T13:54:57.581Z"
   },
   {
    "duration": 8,
    "start_time": "2021-10-23T13:55:00.015Z"
   },
   {
    "duration": 42,
    "start_time": "2021-10-23T13:55:05.527Z"
   },
   {
    "duration": 40,
    "start_time": "2021-10-23T13:55:49.349Z"
   },
   {
    "duration": 30,
    "start_time": "2021-10-23T13:55:59.088Z"
   },
   {
    "duration": 276,
    "start_time": "2021-10-23T13:56:13.579Z"
   },
   {
    "duration": 5,
    "start_time": "2021-10-23T13:56:16.247Z"
   },
   {
    "duration": 313,
    "start_time": "2021-10-23T13:58:05.457Z"
   },
   {
    "duration": 8,
    "start_time": "2021-10-23T13:58:16.353Z"
   },
   {
    "duration": 13,
    "start_time": "2021-10-23T13:58:46.508Z"
   },
   {
    "duration": 4622,
    "start_time": "2021-10-23T13:59:58.112Z"
   },
   {
    "duration": 7,
    "start_time": "2021-10-23T14:02:56.247Z"
   },
   {
    "duration": 6,
    "start_time": "2021-10-23T14:03:05.068Z"
   },
   {
    "duration": 3,
    "start_time": "2021-10-23T14:03:58.496Z"
   },
   {
    "duration": 898,
    "start_time": "2021-10-23T14:04:38.630Z"
   },
   {
    "duration": 4,
    "start_time": "2021-10-23T14:04:59.764Z"
   },
   {
    "duration": 407,
    "start_time": "2021-10-23T14:05:01.179Z"
   },
   {
    "duration": 286,
    "start_time": "2021-10-23T14:05:15.471Z"
   },
   {
    "duration": 8,
    "start_time": "2021-10-23T14:05:44.475Z"
   },
   {
    "duration": 4,
    "start_time": "2021-10-23T14:06:47.922Z"
   },
   {
    "duration": 554,
    "start_time": "2021-10-23T14:06:48.545Z"
   },
   {
    "duration": 457,
    "start_time": "2021-10-23T14:07:03.832Z"
   },
   {
    "duration": 376,
    "start_time": "2021-10-23T14:07:54.019Z"
   },
   {
    "duration": 18,
    "start_time": "2021-10-23T14:08:31.406Z"
   },
   {
    "duration": 14,
    "start_time": "2021-10-23T14:09:22.125Z"
   },
   {
    "duration": 348,
    "start_time": "2021-10-23T14:09:24.980Z"
   },
   {
    "duration": 16,
    "start_time": "2021-10-23T14:11:14.539Z"
   },
   {
    "duration": 832,
    "start_time": "2021-10-23T14:11:15.865Z"
   },
   {
    "duration": 198,
    "start_time": "2021-10-23T14:12:57.031Z"
   },
   {
    "duration": 19,
    "start_time": "2021-10-23T14:13:00.760Z"
   },
   {
    "duration": 769,
    "start_time": "2021-10-23T14:13:01.615Z"
   },
   {
    "duration": 536,
    "start_time": "2021-10-23T14:13:22.944Z"
   },
   {
    "duration": 22,
    "start_time": "2021-10-23T14:13:41.621Z"
   },
   {
    "duration": 991,
    "start_time": "2021-10-23T14:13:42.227Z"
   },
   {
    "duration": 21,
    "start_time": "2021-10-23T14:13:55.433Z"
   },
   {
    "duration": 1029,
    "start_time": "2021-10-23T14:13:56.063Z"
   },
   {
    "duration": 597,
    "start_time": "2021-10-23T14:14:34.501Z"
   },
   {
    "duration": 11,
    "start_time": "2021-10-23T14:15:15.541Z"
   },
   {
    "duration": 6,
    "start_time": "2021-10-23T14:15:16.420Z"
   },
   {
    "duration": 2399,
    "start_time": "2021-10-23T14:15:19.849Z"
   },
   {
    "duration": 591,
    "start_time": "2021-10-23T14:16:17.477Z"
   },
   {
    "duration": 535,
    "start_time": "2021-10-23T14:16:39.381Z"
   },
   {
    "duration": 635,
    "start_time": "2021-10-23T14:16:43.762Z"
   },
   {
    "duration": 13,
    "start_time": "2021-10-23T14:16:49.406Z"
   },
   {
    "duration": 5,
    "start_time": "2021-10-23T14:16:49.854Z"
   },
   {
    "duration": 4,
    "start_time": "2021-10-23T14:16:50.246Z"
   },
   {
    "duration": 20,
    "start_time": "2021-10-23T14:16:50.629Z"
   },
   {
    "duration": 2534,
    "start_time": "2021-10-23T14:16:51.229Z"
   },
   {
    "duration": 16,
    "start_time": "2021-10-23T14:17:01.560Z"
   },
   {
    "duration": 7,
    "start_time": "2021-10-23T14:17:01.889Z"
   },
   {
    "duration": 4,
    "start_time": "2021-10-23T14:17:02.237Z"
   },
   {
    "duration": 16,
    "start_time": "2021-10-23T14:17:02.596Z"
   },
   {
    "duration": 13805,
    "start_time": "2021-10-23T14:17:02.952Z"
   },
   {
    "duration": 15,
    "start_time": "2021-10-23T14:18:03.088Z"
   },
   {
    "duration": 14020,
    "start_time": "2021-10-23T14:18:03.537Z"
   },
   {
    "duration": 15,
    "start_time": "2021-10-23T14:18:24.701Z"
   },
   {
    "duration": 4472,
    "start_time": "2021-10-23T14:18:24.859Z"
   },
   {
    "duration": 15,
    "start_time": "2021-10-23T14:18:46.385Z"
   },
   {
    "duration": 5539,
    "start_time": "2021-10-23T14:18:46.402Z"
   },
   {
    "duration": 14,
    "start_time": "2021-10-23T14:19:12.844Z"
   },
   {
    "duration": 5050,
    "start_time": "2021-10-23T14:19:13.080Z"
   },
   {
    "duration": 13,
    "start_time": "2021-10-23T14:19:29.574Z"
   },
   {
    "duration": 17331,
    "start_time": "2021-10-23T14:19:29.697Z"
   },
   {
    "duration": 14,
    "start_time": "2021-10-23T14:19:53.553Z"
   },
   {
    "duration": 27391,
    "start_time": "2021-10-23T14:19:54.033Z"
   },
   {
    "duration": 15,
    "start_time": "2021-10-23T14:21:34.713Z"
   },
   {
    "duration": 13581,
    "start_time": "2021-10-23T14:21:34.877Z"
   },
   {
    "duration": 367,
    "start_time": "2021-10-23T14:22:12.748Z"
   },
   {
    "duration": 833,
    "start_time": "2021-10-23T14:22:34.352Z"
   },
   {
    "duration": 15,
    "start_time": "2021-10-23T14:22:41.745Z"
   },
   {
    "duration": 730,
    "start_time": "2021-10-23T14:22:42.173Z"
   },
   {
    "duration": 23,
    "start_time": "2021-10-23T14:22:50.163Z"
   },
   {
    "duration": 9232,
    "start_time": "2021-10-23T14:22:50.292Z"
   },
   {
    "duration": 4,
    "start_time": "2021-10-23T14:23:36.115Z"
   },
   {
    "duration": 22,
    "start_time": "2021-10-23T14:23:36.366Z"
   },
   {
    "duration": 9703,
    "start_time": "2021-10-23T14:23:36.818Z"
   },
   {
    "duration": 14,
    "start_time": "2021-10-23T14:23:57.768Z"
   },
   {
    "duration": 13132,
    "start_time": "2021-10-23T14:23:57.923Z"
   },
   {
    "duration": 15,
    "start_time": "2021-10-23T14:25:09.559Z"
   },
   {
    "duration": 14721,
    "start_time": "2021-10-23T14:25:09.916Z"
   },
   {
    "duration": 14,
    "start_time": "2021-10-23T14:25:35.385Z"
   },
   {
    "duration": 30271,
    "start_time": "2021-10-23T14:25:35.617Z"
   },
   {
    "duration": 20,
    "start_time": "2021-10-23T14:26:10.427Z"
   },
   {
    "duration": 18995,
    "start_time": "2021-10-23T14:26:10.537Z"
   },
   {
    "duration": 14,
    "start_time": "2021-10-23T14:26:34.848Z"
   },
   {
    "duration": 19163,
    "start_time": "2021-10-23T14:26:34.970Z"
   },
   {
    "duration": 17,
    "start_time": "2021-10-23T14:26:57.532Z"
   },
   {
    "duration": 106522,
    "start_time": "2021-10-23T14:26:57.727Z"
   },
   {
    "duration": 290,
    "start_time": "2021-10-23T14:29:06.814Z"
   },
   {
    "duration": 336,
    "start_time": "2021-10-23T14:29:26.721Z"
   },
   {
    "duration": 194,
    "start_time": "2021-10-23T14:29:59.378Z"
   },
   {
    "duration": 426,
    "start_time": "2021-10-23T14:30:23.307Z"
   },
   {
    "duration": 115,
    "start_time": "2021-10-23T14:30:26.547Z"
   },
   {
    "duration": 757,
    "start_time": "2021-10-23T14:30:38.578Z"
   },
   {
    "duration": 14,
    "start_time": "2021-10-23T14:31:13.897Z"
   },
   {
    "duration": 266,
    "start_time": "2021-10-23T14:31:14.582Z"
   },
   {
    "duration": 12436,
    "start_time": "2021-10-23T14:31:25.072Z"
   },
   {
    "duration": 15,
    "start_time": "2021-10-23T14:31:41.245Z"
   },
   {
    "duration": 6202,
    "start_time": "2021-10-23T14:31:41.370Z"
   },
   {
    "duration": 214,
    "start_time": "2021-10-23T14:31:49.614Z"
   },
   {
    "duration": 111,
    "start_time": "2021-10-23T14:32:22.870Z"
   },
   {
    "duration": 449,
    "start_time": "2021-10-23T14:32:33.916Z"
   },
   {
    "duration": 108,
    "start_time": "2021-10-23T14:32:38.284Z"
   },
   {
    "duration": 136,
    "start_time": "2021-10-23T14:32:52.826Z"
   },
   {
    "duration": 18,
    "start_time": "2021-10-23T14:33:20.158Z"
   },
   {
    "duration": 6601,
    "start_time": "2021-10-23T14:33:20.340Z"
   },
   {
    "duration": 16,
    "start_time": "2021-10-23T14:33:34.583Z"
   },
   {
    "duration": 171269,
    "start_time": "2021-10-23T14:33:34.756Z"
   },
   {
    "duration": 16,
    "start_time": "2021-10-23T14:36:44.881Z"
   },
   {
    "duration": 229945,
    "start_time": "2021-10-23T14:36:46.395Z"
   },
   {
    "duration": 12635,
    "start_time": "2021-10-23T14:40:38.818Z"
   },
   {
    "duration": 206,
    "start_time": "2021-10-23T14:40:53.857Z"
   },
   {
    "duration": 122,
    "start_time": "2021-10-23T14:41:26.445Z"
   },
   {
    "duration": 14,
    "start_time": "2021-10-23T14:43:03.427Z"
   },
   {
    "duration": 14455,
    "start_time": "2021-10-23T14:43:04.980Z"
   },
   {
    "duration": 186,
    "start_time": "2021-10-23T14:43:23.186Z"
   },
   {
    "duration": 103,
    "start_time": "2021-10-23T14:43:24.260Z"
   },
   {
    "duration": 135,
    "start_time": "2021-10-23T14:43:34.113Z"
   },
   {
    "duration": 133,
    "start_time": "2021-10-23T14:43:42.496Z"
   },
   {
    "duration": 139,
    "start_time": "2021-10-23T14:43:45.283Z"
   },
   {
    "duration": 372,
    "start_time": "2021-10-23T14:43:59.345Z"
   },
   {
    "duration": 128,
    "start_time": "2021-10-23T14:44:12.001Z"
   },
   {
    "duration": 101,
    "start_time": "2021-10-23T14:44:19.789Z"
   },
   {
    "duration": 125,
    "start_time": "2021-10-23T14:44:26.322Z"
   },
   {
    "duration": 100,
    "start_time": "2021-10-23T14:44:33.981Z"
   },
   {
    "duration": 100,
    "start_time": "2021-10-23T14:44:36.976Z"
   },
   {
    "duration": 122,
    "start_time": "2021-10-23T14:44:46.627Z"
   },
   {
    "duration": 103,
    "start_time": "2021-10-23T14:44:49.681Z"
   },
   {
    "duration": 26,
    "start_time": "2021-10-23T14:44:59.982Z"
   },
   {
    "duration": 1678,
    "start_time": "2021-10-23T14:45:00.378Z"
   },
   {
    "duration": 15,
    "start_time": "2021-10-23T14:45:46.279Z"
   },
   {
    "duration": 625,
    "start_time": "2021-10-23T14:45:47.312Z"
   },
   {
    "duration": 15,
    "start_time": "2021-10-23T14:46:03.759Z"
   },
   {
    "duration": 13764,
    "start_time": "2021-10-23T14:46:04.286Z"
   },
   {
    "duration": 198,
    "start_time": "2021-10-23T14:46:20.343Z"
   },
   {
    "duration": 140,
    "start_time": "2021-10-23T14:46:21.223Z"
   },
   {
    "duration": 14,
    "start_time": "2021-10-23T14:46:28.988Z"
   },
   {
    "duration": 13736,
    "start_time": "2021-10-23T14:46:29.218Z"
   },
   {
    "duration": 14,
    "start_time": "2021-10-23T14:46:44.599Z"
   },
   {
    "duration": 14017,
    "start_time": "2021-10-23T14:46:44.833Z"
   },
   {
    "duration": 279,
    "start_time": "2021-10-23T14:46:58.853Z"
   },
   {
    "duration": 134,
    "start_time": "2021-10-23T14:46:59.135Z"
   },
   {
    "duration": 13,
    "start_time": "2021-10-23T14:47:09.579Z"
   },
   {
    "duration": 10592,
    "start_time": "2021-10-23T14:47:09.803Z"
   },
   {
    "duration": 12,
    "start_time": "2021-10-23T14:47:27.939Z"
   },
   {
    "duration": 11123,
    "start_time": "2021-10-23T14:47:28.387Z"
   },
   {
    "duration": 12,
    "start_time": "2021-10-23T14:47:51.267Z"
   },
   {
    "duration": 13009,
    "start_time": "2021-10-23T14:47:51.443Z"
   },
   {
    "duration": 24,
    "start_time": "2021-10-23T14:48:17.404Z"
   },
   {
    "duration": 7813,
    "start_time": "2021-10-23T14:48:17.634Z"
   },
   {
    "duration": 14,
    "start_time": "2021-10-23T14:48:27.677Z"
   },
   {
    "duration": 8118,
    "start_time": "2021-10-23T14:48:27.799Z"
   },
   {
    "duration": 14,
    "start_time": "2021-10-23T14:49:39.748Z"
   },
   {
    "duration": 2579,
    "start_time": "2021-10-23T14:49:40.249Z"
   },
   {
    "duration": 14,
    "start_time": "2021-10-23T14:50:11.342Z"
   },
   {
    "duration": 2394,
    "start_time": "2021-10-23T14:50:11.819Z"
   },
   {
    "duration": 14,
    "start_time": "2021-10-23T14:50:19.360Z"
   },
   {
    "duration": 14073,
    "start_time": "2021-10-23T14:50:19.580Z"
   },
   {
    "duration": 633,
    "start_time": "2021-10-23T14:50:35.437Z"
   },
   {
    "duration": 154,
    "start_time": "2021-10-23T14:50:36.599Z"
   },
   {
    "duration": 11,
    "start_time": "2021-10-23T14:50:54.412Z"
   },
   {
    "duration": 7912,
    "start_time": "2021-10-23T14:50:54.853Z"
   },
   {
    "duration": 19,
    "start_time": "2021-10-23T14:51:34.912Z"
   },
   {
    "duration": 11477,
    "start_time": "2021-10-23T14:51:35.073Z"
   },
   {
    "duration": 328,
    "start_time": "2021-10-23T14:53:35.284Z"
   },
   {
    "duration": 334,
    "start_time": "2021-10-23T14:53:35.757Z"
   },
   {
    "duration": 16,
    "start_time": "2021-10-23T14:53:55.897Z"
   },
   {
    "duration": 14015,
    "start_time": "2021-10-23T14:53:56.227Z"
   },
   {
    "duration": 13,
    "start_time": "2021-10-23T14:54:16.196Z"
   },
   {
    "duration": 8360,
    "start_time": "2021-10-23T14:54:16.421Z"
   },
   {
    "duration": 15,
    "start_time": "2021-10-23T14:54:42.935Z"
   },
   {
    "duration": 12362,
    "start_time": "2021-10-23T14:54:44.280Z"
   },
   {
    "duration": 14,
    "start_time": "2021-10-23T14:55:00.213Z"
   },
   {
    "duration": 7673,
    "start_time": "2021-10-23T14:55:00.581Z"
   },
   {
    "duration": 13,
    "start_time": "2021-10-23T14:55:28.997Z"
   },
   {
    "duration": 12308,
    "start_time": "2021-10-23T14:55:29.343Z"
   },
   {
    "duration": 14,
    "start_time": "2021-10-23T14:55:49.311Z"
   },
   {
    "duration": 20900,
    "start_time": "2021-10-23T14:55:49.644Z"
   },
   {
    "duration": 14,
    "start_time": "2021-10-23T14:56:12.858Z"
   },
   {
    "duration": 6106,
    "start_time": "2021-10-23T14:56:13.006Z"
   },
   {
    "duration": 15,
    "start_time": "2021-10-23T14:56:21.906Z"
   },
   {
    "duration": 12704,
    "start_time": "2021-10-23T14:56:22.026Z"
   },
   {
    "duration": 164,
    "start_time": "2021-10-23T14:56:37.110Z"
   },
   {
    "duration": 136,
    "start_time": "2021-10-23T14:56:38.117Z"
   },
   {
    "duration": 133,
    "start_time": "2021-10-23T14:57:06.294Z"
   },
   {
    "duration": 136,
    "start_time": "2021-10-23T14:57:17.607Z"
   },
   {
    "duration": 594,
    "start_time": "2021-10-23T14:57:35.889Z"
   },
   {
    "duration": 1146,
    "start_time": "2021-10-23T14:57:42.232Z"
   },
   {
    "duration": 128,
    "start_time": "2021-10-23T14:57:47.622Z"
   },
   {
    "duration": 125,
    "start_time": "2021-10-23T14:58:00.024Z"
   },
   {
    "duration": 14,
    "start_time": "2021-10-23T14:58:13.995Z"
   },
   {
    "duration": 12666,
    "start_time": "2021-10-23T14:58:14.173Z"
   },
   {
    "duration": 185,
    "start_time": "2021-10-23T14:58:28.178Z"
   },
   {
    "duration": 152,
    "start_time": "2021-10-23T14:58:29.079Z"
   },
   {
    "duration": 14,
    "start_time": "2021-10-23T14:58:33.849Z"
   },
   {
    "duration": 12670,
    "start_time": "2021-10-23T14:58:33.969Z"
   },
   {
    "duration": 246,
    "start_time": "2021-10-23T14:58:46.931Z"
   },
   {
    "duration": 138,
    "start_time": "2021-10-23T14:58:47.223Z"
   },
   {
    "duration": 12,
    "start_time": "2021-10-23T14:59:01.632Z"
   },
   {
    "duration": 10382,
    "start_time": "2021-10-23T14:59:02.455Z"
   },
   {
    "duration": 7,
    "start_time": "2021-10-23T14:59:16.049Z"
   },
   {
    "duration": 8706,
    "start_time": "2021-10-23T14:59:16.236Z"
   },
   {
    "duration": 11,
    "start_time": "2021-10-23T14:59:41.131Z"
   },
   {
    "duration": 9626,
    "start_time": "2021-10-23T14:59:41.315Z"
   },
   {
    "duration": 154,
    "start_time": "2021-10-23T14:59:53.700Z"
   },
   {
    "duration": 133,
    "start_time": "2021-10-23T14:59:55.607Z"
   },
   {
    "duration": 10,
    "start_time": "2021-10-23T15:00:03.749Z"
   },
   {
    "duration": 9200,
    "start_time": "2021-10-23T15:00:03.925Z"
   },
   {
    "duration": 169,
    "start_time": "2021-10-23T15:00:13.855Z"
   },
   {
    "duration": 104,
    "start_time": "2021-10-23T15:00:14.145Z"
   },
   {
    "duration": 15,
    "start_time": "2021-10-23T15:00:21.933Z"
   },
   {
    "duration": 6773,
    "start_time": "2021-10-23T15:00:22.090Z"
   },
   {
    "duration": 819,
    "start_time": "2021-10-23T15:00:28.047Z"
   },
   {
    "duration": 820,
    "start_time": "2021-10-23T15:00:28.048Z"
   },
   {
    "duration": 1290,
    "start_time": "2021-10-25T12:57:00.565Z"
   },
   {
    "duration": 90,
    "start_time": "2021-10-25T12:57:02.728Z"
   },
   {
    "duration": 33,
    "start_time": "2021-10-25T12:57:03.035Z"
   },
   {
    "duration": 29,
    "start_time": "2021-10-25T12:57:03.171Z"
   },
   {
    "duration": 16,
    "start_time": "2021-10-25T12:57:03.317Z"
   },
   {
    "duration": 20,
    "start_time": "2021-10-25T12:57:03.579Z"
   },
   {
    "duration": 22,
    "start_time": "2021-10-25T12:57:03.729Z"
   },
   {
    "duration": 12,
    "start_time": "2021-10-25T12:57:04.165Z"
   },
   {
    "duration": 38,
    "start_time": "2021-10-25T12:57:05.329Z"
   },
   {
    "duration": 9,
    "start_time": "2021-10-25T12:57:06.078Z"
   },
   {
    "duration": 4,
    "start_time": "2021-10-25T12:57:06.436Z"
   },
   {
    "duration": 4,
    "start_time": "2021-10-25T12:57:07.132Z"
   },
   {
    "duration": 13,
    "start_time": "2021-10-25T12:57:08.234Z"
   },
   {
    "duration": 285,
    "start_time": "2021-10-25T12:57:08.816Z"
   },
   {
    "duration": 279,
    "start_time": "2021-10-25T12:57:09.671Z"
   },
   {
    "duration": 597,
    "start_time": "2021-10-25T12:57:11.879Z"
   },
   {
    "duration": 3,
    "start_time": "2021-10-25T12:57:13.864Z"
   },
   {
    "duration": 4,
    "start_time": "2021-10-25T12:57:14.166Z"
   },
   {
    "duration": 823,
    "start_time": "2021-10-25T12:57:14.626Z"
   },
   {
    "duration": 227,
    "start_time": "2021-10-25T12:57:16.419Z"
   },
   {
    "duration": 6,
    "start_time": "2021-10-25T12:57:17.819Z"
   },
   {
    "duration": 66,
    "start_time": "2021-10-25T12:57:18.195Z"
   },
   {
    "duration": 8,
    "start_time": "2021-10-25T12:57:30.242Z"
   },
   {
    "duration": 112,
    "start_time": "2021-10-25T13:00:00.331Z"
   },
   {
    "duration": 84,
    "start_time": "2021-10-25T13:01:44.877Z"
   },
   {
    "duration": 16,
    "start_time": "2021-10-25T13:01:50.829Z"
   },
   {
    "duration": 7,
    "start_time": "2021-10-25T13:02:29.053Z"
   },
   {
    "duration": 15,
    "start_time": "2021-10-25T13:02:38.688Z"
   },
   {
    "duration": 16,
    "start_time": "2021-10-25T13:02:54.945Z"
   },
   {
    "duration": 6,
    "start_time": "2021-10-25T13:04:39.329Z"
   },
   {
    "duration": 89,
    "start_time": "2021-10-25T13:05:36.440Z"
   },
   {
    "duration": 672,
    "start_time": "2021-10-25T13:05:54.904Z"
   },
   {
    "duration": 8,
    "start_time": "2021-10-25T13:06:50.344Z"
   },
   {
    "duration": 5,
    "start_time": "2021-10-25T13:07:25.799Z"
   },
   {
    "duration": 21,
    "start_time": "2021-10-25T13:07:38.391Z"
   },
   {
    "duration": 3,
    "start_time": "2021-10-25T13:07:59.910Z"
   },
   {
    "duration": 25,
    "start_time": "2021-10-25T13:08:06.605Z"
   },
   {
    "duration": 12,
    "start_time": "2021-10-25T13:09:32.597Z"
   },
   {
    "duration": 8,
    "start_time": "2021-10-25T13:09:47.584Z"
   },
   {
    "duration": 90,
    "start_time": "2021-10-25T13:10:31.135Z"
   },
   {
    "duration": 4,
    "start_time": "2021-10-25T13:11:34.976Z"
   },
   {
    "duration": 14,
    "start_time": "2021-10-25T13:14:10.869Z"
   },
   {
    "duration": 3,
    "start_time": "2021-10-25T13:14:23.114Z"
   },
   {
    "duration": 25,
    "start_time": "2021-10-25T13:17:58.068Z"
   },
   {
    "duration": 283,
    "start_time": "2021-10-25T13:18:32.192Z"
   },
   {
    "duration": 10,
    "start_time": "2021-10-25T13:18:40.881Z"
   },
   {
    "duration": 8,
    "start_time": "2021-10-25T13:19:47.893Z"
   },
   {
    "duration": 356,
    "start_time": "2021-10-25T13:22:34.292Z"
   },
   {
    "duration": 4,
    "start_time": "2021-10-25T13:22:38.211Z"
   },
   {
    "duration": 4,
    "start_time": "2021-10-25T13:22:54.749Z"
   },
   {
    "duration": 3249,
    "start_time": "2021-10-25T13:22:59.597Z"
   },
   {
    "duration": 423,
    "start_time": "2021-10-25T13:23:16.128Z"
   },
   {
    "duration": 283,
    "start_time": "2021-10-25T13:29:30.594Z"
   },
   {
    "duration": 14,
    "start_time": "2021-10-25T13:35:04.795Z"
   },
   {
    "duration": 416,
    "start_time": "2021-10-25T13:36:01.832Z"
   },
   {
    "duration": 3,
    "start_time": "2021-10-25T13:36:32.350Z"
   },
   {
    "duration": 343,
    "start_time": "2021-10-25T13:36:36.984Z"
   },
   {
    "duration": 778,
    "start_time": "2021-10-25T13:37:24.031Z"
   },
   {
    "duration": 683,
    "start_time": "2021-10-25T13:37:29.035Z"
   },
   {
    "duration": 672,
    "start_time": "2021-10-25T13:37:36.162Z"
   },
   {
    "duration": 458,
    "start_time": "2021-10-25T13:37:40.783Z"
   },
   {
    "duration": 274,
    "start_time": "2021-10-25T13:38:28.230Z"
   },
   {
    "duration": 378,
    "start_time": "2021-10-25T13:38:51.436Z"
   },
   {
    "duration": 392,
    "start_time": "2021-10-25T13:38:57.029Z"
   },
   {
    "duration": 841,
    "start_time": "2021-10-25T13:39:09.342Z"
   },
   {
    "duration": 298,
    "start_time": "2021-10-25T13:39:42.528Z"
   },
   {
    "duration": 7721,
    "start_time": "2021-10-25T13:39:45.563Z"
   },
   {
    "duration": 364,
    "start_time": "2021-10-25T13:40:18.644Z"
   },
   {
    "duration": 550,
    "start_time": "2021-10-25T13:40:24.828Z"
   },
   {
    "duration": 24,
    "start_time": "2021-10-25T13:40:59.575Z"
   },
   {
    "duration": 4,
    "start_time": "2021-10-25T13:41:06.109Z"
   },
   {
    "duration": 6,
    "start_time": "2021-10-25T13:47:59.948Z"
   },
   {
    "duration": 402,
    "start_time": "2021-10-25T13:48:26.422Z"
   },
   {
    "duration": 424,
    "start_time": "2021-10-25T13:48:55.400Z"
   },
   {
    "duration": 706,
    "start_time": "2021-10-25T13:49:07.094Z"
   },
   {
    "duration": 453,
    "start_time": "2021-10-25T13:49:22.078Z"
   },
   {
    "duration": 7,
    "start_time": "2021-10-25T13:49:58.318Z"
   },
   {
    "duration": 5,
    "start_time": "2021-10-25T13:50:04.076Z"
   },
   {
    "duration": 6,
    "start_time": "2021-10-25T13:50:14.017Z"
   },
   {
    "duration": 6,
    "start_time": "2021-10-25T13:50:22.694Z"
   },
   {
    "duration": 4,
    "start_time": "2021-10-25T13:50:38.009Z"
   },
   {
    "duration": 3,
    "start_time": "2021-10-25T13:51:14.701Z"
   },
   {
    "duration": 3,
    "start_time": "2021-10-25T13:51:15.144Z"
   },
   {
    "duration": 382,
    "start_time": "2021-10-25T13:51:17.268Z"
   },
   {
    "duration": 381,
    "start_time": "2021-10-25T13:51:24.576Z"
   },
   {
    "duration": 454,
    "start_time": "2021-10-25T13:51:45.438Z"
   },
   {
    "duration": 92,
    "start_time": "2021-10-25T13:52:25.088Z"
   },
   {
    "duration": 9,
    "start_time": "2021-10-25T13:52:36.301Z"
   },
   {
    "duration": 471,
    "start_time": "2021-10-25T13:52:39.356Z"
   },
   {
    "duration": 358,
    "start_time": "2021-10-25T13:52:55.592Z"
   },
   {
    "duration": 281,
    "start_time": "2021-10-26T12:21:51.179Z"
   },
   {
    "duration": 1235,
    "start_time": "2021-10-26T12:21:58.327Z"
   },
   {
    "duration": 98,
    "start_time": "2021-10-26T12:22:00.606Z"
   },
   {
    "duration": 34,
    "start_time": "2021-10-26T12:22:01.103Z"
   },
   {
    "duration": 29,
    "start_time": "2021-10-26T12:22:01.269Z"
   },
   {
    "duration": 17,
    "start_time": "2021-10-26T12:22:01.441Z"
   },
   {
    "duration": 14,
    "start_time": "2021-10-26T12:22:01.738Z"
   },
   {
    "duration": 19,
    "start_time": "2021-10-26T12:22:01.888Z"
   },
   {
    "duration": 14,
    "start_time": "2021-10-26T12:22:02.382Z"
   },
   {
    "duration": 40,
    "start_time": "2021-10-26T12:22:03.997Z"
   },
   {
    "duration": 10,
    "start_time": "2021-10-26T12:22:04.039Z"
   },
   {
    "duration": 13,
    "start_time": "2021-10-26T12:22:04.052Z"
   },
   {
    "duration": 18,
    "start_time": "2021-10-26T12:22:04.067Z"
   },
   {
    "duration": 15,
    "start_time": "2021-10-26T12:22:05.139Z"
   },
   {
    "duration": 262,
    "start_time": "2021-10-26T12:22:06.111Z"
   },
   {
    "duration": 271,
    "start_time": "2021-10-26T12:22:07.397Z"
   },
   {
    "duration": 598,
    "start_time": "2021-10-26T12:22:08.754Z"
   },
   {
    "duration": 3,
    "start_time": "2021-10-26T12:22:11.299Z"
   },
   {
    "duration": 4,
    "start_time": "2021-10-26T12:22:12.689Z"
   },
   {
    "duration": 900,
    "start_time": "2021-10-26T12:22:13.267Z"
   },
   {
    "duration": 230,
    "start_time": "2021-10-26T12:22:15.088Z"
   },
   {
    "duration": 7,
    "start_time": "2021-10-26T12:22:17.777Z"
   },
   {
    "duration": 66,
    "start_time": "2021-10-26T12:22:18.279Z"
   },
   {
    "duration": 18,
    "start_time": "2021-10-26T12:22:38.967Z"
   },
   {
    "duration": 19,
    "start_time": "2021-10-26T12:22:39.383Z"
   },
   {
    "duration": 7,
    "start_time": "2021-10-26T12:22:40.585Z"
   },
   {
    "duration": 7,
    "start_time": "2021-10-26T12:22:42.206Z"
   },
   {
    "duration": 19,
    "start_time": "2021-10-26T12:22:42.555Z"
   },
   {
    "duration": 13,
    "start_time": "2021-10-26T12:22:44.509Z"
   },
   {
    "duration": 10,
    "start_time": "2021-10-26T12:22:45.032Z"
   },
   {
    "duration": 34,
    "start_time": "2021-10-26T12:23:43.816Z"
   },
   {
    "duration": 504,
    "start_time": "2021-10-26T12:28:10.849Z"
   },
   {
    "duration": 610,
    "start_time": "2021-10-26T12:28:25.324Z"
   },
   {
    "duration": 15,
    "start_time": "2021-10-26T12:41:52.136Z"
   },
   {
    "duration": 520,
    "start_time": "2021-10-26T12:43:54.326Z"
   },
   {
    "duration": 4,
    "start_time": "2021-10-26T12:44:12.107Z"
   },
   {
    "duration": 473,
    "start_time": "2021-10-26T12:44:13.102Z"
   },
   {
    "duration": 467,
    "start_time": "2021-10-26T12:44:37.646Z"
   },
   {
    "duration": 240,
    "start_time": "2021-10-26T12:45:10.985Z"
   },
   {
    "duration": 679,
    "start_time": "2021-10-26T12:45:16.249Z"
   },
   {
    "duration": 5,
    "start_time": "2021-10-26T12:46:12.049Z"
   },
   {
    "duration": 3,
    "start_time": "2021-10-26T12:46:58.140Z"
   },
   {
    "duration": 1037,
    "start_time": "2021-10-26T12:47:10.426Z"
   },
   {
    "duration": 3,
    "start_time": "2021-10-26T12:47:49.581Z"
   },
   {
    "duration": 819,
    "start_time": "2021-10-26T12:47:54.375Z"
   },
   {
    "duration": 3,
    "start_time": "2021-10-26T12:48:03.758Z"
   },
   {
    "duration": 661,
    "start_time": "2021-10-26T12:48:08.683Z"
   },
   {
    "duration": 3,
    "start_time": "2021-10-26T12:48:54.585Z"
   },
   {
    "duration": 654,
    "start_time": "2021-10-26T12:48:55.723Z"
   },
   {
    "duration": 4,
    "start_time": "2021-10-26T12:49:09.555Z"
   },
   {
    "duration": 680,
    "start_time": "2021-10-26T12:49:10.033Z"
   },
   {
    "duration": 3,
    "start_time": "2021-10-26T12:49:35.471Z"
   },
   {
    "duration": 602,
    "start_time": "2021-10-26T12:49:35.678Z"
   },
   {
    "duration": 2,
    "start_time": "2021-10-26T12:50:06.367Z"
   },
   {
    "duration": 522,
    "start_time": "2021-10-26T12:50:06.612Z"
   },
   {
    "duration": 4,
    "start_time": "2021-10-26T12:50:26.601Z"
   },
   {
    "duration": 462,
    "start_time": "2021-10-26T12:50:26.838Z"
   },
   {
    "duration": 304,
    "start_time": "2021-10-26T12:53:17.464Z"
   },
   {
    "duration": 276,
    "start_time": "2021-10-26T12:53:23.417Z"
   },
   {
    "duration": 1581,
    "start_time": "2021-10-26T12:53:56.052Z"
   },
   {
    "duration": 281,
    "start_time": "2021-10-26T12:54:31.827Z"
   },
   {
    "duration": 36,
    "start_time": "2021-10-26T12:54:36.139Z"
   },
   {
    "duration": 244,
    "start_time": "2021-10-26T12:55:06.057Z"
   },
   {
    "duration": 239,
    "start_time": "2021-10-26T12:55:13.652Z"
   },
   {
    "duration": 115,
    "start_time": "2021-10-26T12:56:38.439Z"
   },
   {
    "duration": 11,
    "start_time": "2021-10-26T12:56:47.169Z"
   },
   {
    "duration": 12,
    "start_time": "2021-10-26T12:57:18.031Z"
   },
   {
    "duration": 10,
    "start_time": "2021-10-26T12:57:22.132Z"
   },
   {
    "duration": 11,
    "start_time": "2021-10-26T12:57:22.620Z"
   },
   {
    "duration": 11,
    "start_time": "2021-10-26T12:57:27.987Z"
   },
   {
    "duration": 11,
    "start_time": "2021-10-26T12:57:28.296Z"
   },
   {
    "duration": 11,
    "start_time": "2021-10-26T12:57:31.456Z"
   },
   {
    "duration": 43,
    "start_time": "2021-10-26T12:57:49.242Z"
   },
   {
    "duration": 5,
    "start_time": "2021-10-26T13:01:30.515Z"
   },
   {
    "duration": 5,
    "start_time": "2021-10-26T13:02:54.474Z"
   },
   {
    "duration": 5,
    "start_time": "2021-10-26T13:03:00.607Z"
   },
   {
    "duration": 2,
    "start_time": "2021-10-26T13:04:12.877Z"
   },
   {
    "duration": 264,
    "start_time": "2021-10-26T13:04:21.812Z"
   },
   {
    "duration": 2015,
    "start_time": "2021-10-26T13:04:38.480Z"
   },
   {
    "duration": 19,
    "start_time": "2021-10-26T13:06:26.884Z"
   },
   {
    "duration": 10,
    "start_time": "2021-10-26T13:07:11.614Z"
   },
   {
    "duration": 13,
    "start_time": "2021-10-26T13:07:50.478Z"
   },
   {
    "duration": 9,
    "start_time": "2021-10-26T13:07:50.928Z"
   },
   {
    "duration": 9,
    "start_time": "2021-10-26T13:07:51.315Z"
   },
   {
    "duration": 4,
    "start_time": "2021-10-26T13:07:59.337Z"
   },
   {
    "duration": 4,
    "start_time": "2021-10-26T13:08:03.330Z"
   },
   {
    "duration": 4,
    "start_time": "2021-10-26T13:08:06.927Z"
   },
   {
    "duration": 5,
    "start_time": "2021-10-26T13:08:24.363Z"
   },
   {
    "duration": 19,
    "start_time": "2021-10-26T13:08:27.393Z"
   },
   {
    "duration": 4,
    "start_time": "2021-10-26T13:08:46.472Z"
   },
   {
    "duration": 4,
    "start_time": "2021-10-26T13:08:53.675Z"
   },
   {
    "duration": 2096,
    "start_time": "2021-10-26T13:09:22.358Z"
   },
   {
    "duration": 2,
    "start_time": "2021-10-26T13:11:04.230Z"
   },
   {
    "duration": 709,
    "start_time": "2021-10-26T13:11:42.786Z"
   },
   {
    "duration": 356045,
    "start_time": "2021-10-26T13:11:48.819Z"
   },
   {
    "duration": 1255,
    "start_time": "2021-10-26T13:18:30.031Z"
   },
   {
    "duration": 16,
    "start_time": "2021-10-26T13:18:32.354Z"
   },
   {
    "duration": 99,
    "start_time": "2021-10-26T13:18:32.700Z"
   },
   {
    "duration": 33,
    "start_time": "2021-10-26T13:18:33.006Z"
   },
   {
    "duration": 31,
    "start_time": "2021-10-26T13:18:33.153Z"
   },
   {
    "duration": 15,
    "start_time": "2021-10-26T13:18:33.315Z"
   },
   {
    "duration": 15,
    "start_time": "2021-10-26T13:18:33.617Z"
   },
   {
    "duration": 19,
    "start_time": "2021-10-26T13:18:33.774Z"
   },
   {
    "duration": 11,
    "start_time": "2021-10-26T13:18:34.205Z"
   },
   {
    "duration": 38,
    "start_time": "2021-10-26T13:18:34.959Z"
   },
   {
    "duration": 8,
    "start_time": "2021-10-26T13:18:35.268Z"
   },
   {
    "duration": 4,
    "start_time": "2021-10-26T13:18:35.423Z"
   },
   {
    "duration": 3,
    "start_time": "2021-10-26T13:18:35.760Z"
   },
   {
    "duration": 15,
    "start_time": "2021-10-26T13:18:36.231Z"
   },
   {
    "duration": 257,
    "start_time": "2021-10-26T13:18:36.546Z"
   },
   {
    "duration": 263,
    "start_time": "2021-10-26T13:18:36.877Z"
   },
   {
    "duration": 573,
    "start_time": "2021-10-26T13:18:37.371Z"
   },
   {
    "duration": 3,
    "start_time": "2021-10-26T13:18:38.092Z"
   },
   {
    "duration": 4,
    "start_time": "2021-10-26T13:18:38.317Z"
   },
   {
    "duration": 839,
    "start_time": "2021-10-26T13:18:38.577Z"
   },
   {
    "duration": 233,
    "start_time": "2021-10-26T13:18:39.963Z"
   },
   {
    "duration": 6,
    "start_time": "2021-10-26T13:18:41.544Z"
   },
   {
    "duration": 63,
    "start_time": "2021-10-26T13:18:41.922Z"
   },
   {
    "duration": 16,
    "start_time": "2021-10-26T13:18:44.614Z"
   },
   {
    "duration": 15,
    "start_time": "2021-10-26T13:18:45.278Z"
   },
   {
    "duration": 5,
    "start_time": "2021-10-26T13:18:46.522Z"
   },
   {
    "duration": 6,
    "start_time": "2021-10-26T13:18:47.450Z"
   },
   {
    "duration": 19,
    "start_time": "2021-10-26T13:18:47.793Z"
   },
   {
    "duration": 11,
    "start_time": "2021-10-26T13:18:49.466Z"
   },
   {
    "duration": 8,
    "start_time": "2021-10-26T13:18:49.770Z"
   },
   {
    "duration": 9,
    "start_time": "2021-10-26T13:18:50.084Z"
   },
   {
    "duration": 409,
    "start_time": "2021-10-26T13:18:51.810Z"
   },
   {
    "duration": 2,
    "start_time": "2021-10-26T13:18:54.393Z"
   },
   {
    "duration": 6,
    "start_time": "2021-10-26T13:18:54.877Z"
   },
   {
    "duration": 5,
    "start_time": "2021-10-26T13:18:55.492Z"
   },
   {
    "duration": 345,
    "start_time": "2021-10-26T13:19:00.440Z"
   },
   {
    "duration": 3,
    "start_time": "2021-10-26T13:19:42.688Z"
   },
   {
    "duration": 2429,
    "start_time": "2021-10-26T13:19:45.989Z"
   },
   {
    "duration": 706,
    "start_time": "2021-10-26T13:20:15.965Z"
   },
   {
    "duration": 245,
    "start_time": "2021-10-26T13:22:26.463Z"
   },
   {
    "duration": 499,
    "start_time": "2021-10-26T13:23:49.951Z"
   },
   {
    "duration": 2316,
    "start_time": "2021-10-26T13:25:37.877Z"
   },
   {
    "duration": 5,
    "start_time": "2021-10-26T13:25:59.392Z"
   },
   {
    "duration": 4,
    "start_time": "2021-10-26T13:26:09.774Z"
   },
   {
    "duration": 550,
    "start_time": "2021-10-26T13:26:57.964Z"
   },
   {
    "duration": 479,
    "start_time": "2021-10-26T13:27:15.552Z"
   },
   {
    "duration": 7,
    "start_time": "2021-10-26T13:28:12.186Z"
   },
   {
    "duration": 4,
    "start_time": "2021-10-26T13:28:58.111Z"
   },
   {
    "duration": 229,
    "start_time": "2021-10-26T13:29:08.216Z"
   },
   {
    "duration": 2319,
    "start_time": "2021-10-26T13:29:18.568Z"
   },
   {
    "duration": 5,
    "start_time": "2021-10-26T13:29:23.659Z"
   },
   {
    "duration": 12055,
    "start_time": "2021-10-26T13:29:41.862Z"
   },
   {
    "duration": 52389,
    "start_time": "2021-10-26T13:30:35.285Z"
   },
   {
    "duration": 5,
    "start_time": "2021-10-26T13:34:13.956Z"
   },
   {
    "duration": 2364,
    "start_time": "2021-10-26T13:34:29.292Z"
   },
   {
    "duration": 486,
    "start_time": "2021-10-26T13:34:34.352Z"
   },
   {
    "duration": 80710,
    "start_time": "2021-10-26T13:35:08.673Z"
   },
   {
    "duration": 2448,
    "start_time": "2021-10-26T13:37:46.249Z"
   },
   {
    "duration": 274,
    "start_time": "2021-10-26T13:37:49.693Z"
   },
   {
    "duration": 4,
    "start_time": "2021-10-26T13:37:58.502Z"
   },
   {
    "duration": 2409,
    "start_time": "2021-10-26T13:38:03.025Z"
   },
   {
    "duration": 3709,
    "start_time": "2021-10-26T13:38:05.436Z"
   },
   {
    "duration": 2385,
    "start_time": "2021-10-26T13:38:38.313Z"
   },
   {
    "duration": 3795,
    "start_time": "2021-10-26T13:38:44.935Z"
   },
   {
    "duration": 2351,
    "start_time": "2021-10-26T13:39:19.681Z"
   },
   {
    "duration": 30888,
    "start_time": "2021-10-26T13:39:22.034Z"
   },
   {
    "duration": 527,
    "start_time": "2021-10-26T13:41:41.296Z"
   },
   {
    "duration": 2349,
    "start_time": "2021-10-26T13:41:47.517Z"
   },
   {
    "duration": 16008,
    "start_time": "2021-10-26T13:41:49.868Z"
   },
   {
    "duration": 499,
    "start_time": "2021-10-26T13:42:10.008Z"
   },
   {
    "duration": 2297,
    "start_time": "2021-10-26T13:42:13.199Z"
   },
   {
    "duration": 50397,
    "start_time": "2021-10-26T13:42:15.497Z"
   },
   {
    "duration": 4,
    "start_time": "2021-10-26T13:43:31.483Z"
   },
   {
    "duration": 3,
    "start_time": "2021-10-26T13:43:39.161Z"
   },
   {
    "duration": 5,
    "start_time": "2021-10-26T13:43:39.418Z"
   },
   {
    "duration": 3,
    "start_time": "2021-10-26T13:43:39.887Z"
   },
   {
    "duration": 4,
    "start_time": "2021-10-26T13:43:40.426Z"
   },
   {
    "duration": 1861,
    "start_time": "2021-10-26T13:43:46.509Z"
   },
   {
    "duration": 120712,
    "start_time": "2021-10-26T13:43:54.516Z"
   },
   {
    "duration": 5,
    "start_time": "2021-10-26T13:47:01.670Z"
   },
   {
    "duration": 1778,
    "start_time": "2021-10-26T13:47:04.415Z"
   },
   {
    "duration": 116865,
    "start_time": "2021-10-26T13:47:06.195Z"
   },
   {
    "duration": 3,
    "start_time": "2021-10-26T13:49:34.884Z"
   },
   {
    "duration": 5,
    "start_time": "2021-10-26T13:49:35.200Z"
   },
   {
    "duration": 3,
    "start_time": "2021-10-26T13:49:35.546Z"
   },
   {
    "duration": 4,
    "start_time": "2021-10-26T13:49:35.951Z"
   },
   {
    "duration": 2299,
    "start_time": "2021-10-26T13:49:36.888Z"
   },
   {
    "duration": 218303,
    "start_time": "2021-10-26T13:49:39.189Z"
   },
   {
    "duration": 5,
    "start_time": "2021-10-26T13:54:58.171Z"
   },
   {
    "duration": 4,
    "start_time": "2021-10-26T13:55:10.416Z"
   },
   {
    "duration": 5,
    "start_time": "2021-10-26T13:55:20.545Z"
   },
   {
    "duration": 725,
    "start_time": "2021-10-26T13:58:11.850Z"
   },
   {
    "duration": 20907,
    "start_time": "2021-10-26T13:58:40.329Z"
   },
   {
    "duration": 485,
    "start_time": "2021-10-26T13:59:08.545Z"
   },
   {
    "duration": 782,
    "start_time": "2021-10-26T13:59:12.641Z"
   },
   {
    "duration": 158571,
    "start_time": "2021-10-26T13:59:13.426Z"
   },
   {
    "duration": 505,
    "start_time": "2021-10-26T14:12:15.012Z"
   },
   {
    "duration": 759,
    "start_time": "2021-10-26T14:12:18.434Z"
   },
   {
    "duration": 333006,
    "start_time": "2021-10-26T14:12:19.196Z"
   },
   {
    "duration": 6,
    "start_time": "2021-10-26T14:31:32.301Z"
   },
   {
    "duration": 2399,
    "start_time": "2021-10-26T14:31:35.464Z"
   },
   {
    "duration": 231604,
    "start_time": "2021-10-26T14:31:37.865Z"
   },
   {
    "duration": 5,
    "start_time": "2021-10-26T14:36:41.535Z"
   },
   {
    "duration": 2435,
    "start_time": "2021-10-26T14:36:42.274Z"
   },
   {
    "duration": 221545,
    "start_time": "2021-10-26T14:36:44.711Z"
   },
   {
    "duration": 769,
    "start_time": "2021-10-26T14:40:26.263Z"
   },
   {
    "duration": 343049,
    "start_time": "2021-10-26T14:40:27.035Z"
   },
   {
    "duration": 85,
    "start_time": "2021-10-26T14:50:03.059Z"
   },
   {
    "duration": 2,
    "start_time": "2021-10-26T14:51:54.038Z"
   },
   {
    "duration": 4,
    "start_time": "2021-10-26T14:55:49.460Z"
   },
   {
    "duration": 19,
    "start_time": "2021-10-26T14:55:55.851Z"
   },
   {
    "duration": 4,
    "start_time": "2021-10-26T14:56:23.740Z"
   },
   {
    "duration": 43,
    "start_time": "2021-10-26T14:56:32.937Z"
   },
   {
    "duration": 5,
    "start_time": "2021-10-26T14:57:05.869Z"
   },
   {
    "duration": 510,
    "start_time": "2021-10-26T14:57:28.973Z"
   },
   {
    "duration": 256,
    "start_time": "2021-10-26T14:58:47.592Z"
   },
   {
    "duration": 4,
    "start_time": "2021-10-26T14:59:00.296Z"
   },
   {
    "duration": 5,
    "start_time": "2021-10-26T14:59:07.760Z"
   },
   {
    "duration": 32886,
    "start_time": "2021-10-26T14:59:14.593Z"
   },
   {
    "duration": 256,
    "start_time": "2021-10-26T15:00:43.437Z"
   },
   {
    "duration": 16,
    "start_time": "2021-10-26T15:00:52.184Z"
   },
   {
    "duration": 5,
    "start_time": "2021-10-26T15:01:35.024Z"
   },
   {
    "duration": 14,
    "start_time": "2021-10-26T15:01:39.139Z"
   },
   {
    "duration": 28834,
    "start_time": "2021-10-26T15:02:43.008Z"
   },
   {
    "duration": 241,
    "start_time": "2021-10-26T15:03:55.848Z"
   },
   {
    "duration": 84,
    "start_time": "2021-10-26T15:10:13.298Z"
   },
   {
    "duration": 239,
    "start_time": "2021-10-26T15:10:18.131Z"
   },
   {
    "duration": 239,
    "start_time": "2021-10-26T15:11:21.283Z"
   },
   {
    "duration": 1809,
    "start_time": "2021-10-26T15:11:30.625Z"
   },
   {
    "duration": 1761,
    "start_time": "2021-10-26T15:12:15.369Z"
   },
   {
    "duration": 9092,
    "start_time": "2021-10-26T15:13:05.054Z"
   },
   {
    "duration": 15358,
    "start_time": "2021-10-26T15:13:18.264Z"
   },
   {
    "duration": 14061,
    "start_time": "2021-10-26T15:14:09.001Z"
   },
   {
    "duration": 4,
    "start_time": "2021-10-26T15:14:38.048Z"
   },
   {
    "duration": 246,
    "start_time": "2021-10-26T15:16:10.704Z"
   },
   {
    "duration": 5,
    "start_time": "2021-10-26T15:17:02.853Z"
   },
   {
    "duration": 251,
    "start_time": "2021-10-26T15:17:12.632Z"
   },
   {
    "duration": 25736,
    "start_time": "2021-10-26T15:19:02.782Z"
   },
   {
    "duration": 248,
    "start_time": "2021-10-26T15:20:03.044Z"
   },
   {
    "duration": 315,
    "start_time": "2021-10-26T15:20:14.929Z"
   },
   {
    "duration": 254,
    "start_time": "2021-10-26T15:21:39.644Z"
   },
   {
    "duration": 241,
    "start_time": "2021-10-26T15:21:53.838Z"
   },
   {
    "duration": 236,
    "start_time": "2021-10-26T15:22:11.207Z"
   },
   {
    "duration": 2080,
    "start_time": "2021-10-26T15:23:36.915Z"
   },
   {
    "duration": 281,
    "start_time": "2021-10-26T15:24:06.850Z"
   },
   {
    "duration": 1671,
    "start_time": "2021-10-26T15:24:53.293Z"
   },
   {
    "duration": 89324,
    "start_time": "2021-10-26T15:26:55.403Z"
   },
   {
    "duration": 13,
    "start_time": "2021-10-26T15:28:35.743Z"
   },
   {
    "duration": 5,
    "start_time": "2021-10-26T15:28:55.114Z"
   },
   {
    "duration": 14,
    "start_time": "2021-10-26T15:29:02.392Z"
   },
   {
    "duration": 281,
    "start_time": "2021-10-26T15:29:27.949Z"
   },
   {
    "duration": 7,
    "start_time": "2021-10-26T15:29:34.798Z"
   },
   {
    "duration": 80,
    "start_time": "2021-10-26T15:29:52.760Z"
   },
   {
    "duration": 7,
    "start_time": "2021-10-26T15:29:56.006Z"
   },
   {
    "duration": 8,
    "start_time": "2021-10-26T15:29:59.503Z"
   },
   {
    "duration": 5411,
    "start_time": "2021-10-26T15:30:02.590Z"
   },
   {
    "duration": 7,
    "start_time": "2021-10-26T15:30:19.292Z"
   },
   {
    "duration": 6,
    "start_time": "2021-10-26T15:30:22.376Z"
   },
   {
    "duration": 6,
    "start_time": "2021-10-26T15:30:25.499Z"
   },
   {
    "duration": 89,
    "start_time": "2021-10-26T15:30:28.741Z"
   },
   {
    "duration": 4,
    "start_time": "2021-10-26T15:30:34.183Z"
   },
   {
    "duration": 7,
    "start_time": "2021-10-26T15:30:51.713Z"
   },
   {
    "duration": 310,
    "start_time": "2021-10-26T15:38:41.674Z"
   },
   {
    "duration": 3784,
    "start_time": "2021-10-26T15:38:46.798Z"
   },
   {
    "duration": 247,
    "start_time": "2021-10-26T15:39:44.169Z"
   },
   {
    "duration": 319,
    "start_time": "2021-10-26T15:40:07.643Z"
   },
   {
    "duration": 28365,
    "start_time": "2021-10-26T15:40:27.803Z"
   },
   {
    "duration": 5,
    "start_time": "2021-10-26T15:41:14.721Z"
   },
   {
    "duration": 3,
    "start_time": "2021-10-26T15:41:21.319Z"
   },
   {
    "duration": 4,
    "start_time": "2021-10-26T15:41:24.168Z"
   },
   {
    "duration": 22424,
    "start_time": "2021-10-26T15:42:41.715Z"
   },
   {
    "duration": 30721,
    "start_time": "2021-10-26T15:44:44.688Z"
   },
   {
    "duration": 4,
    "start_time": "2021-10-26T15:45:18.570Z"
   },
   {
    "duration": 27711,
    "start_time": "2021-10-26T15:45:32.265Z"
   },
   {
    "duration": 1691,
    "start_time": "2021-10-26T15:52:25.243Z"
   },
   {
    "duration": 4,
    "start_time": "2021-10-26T15:53:02.074Z"
   },
   {
    "duration": 242,
    "start_time": "2021-10-26T15:53:24.082Z"
   },
   {
    "duration": 244,
    "start_time": "2021-10-26T15:53:50.992Z"
   },
   {
    "duration": 256,
    "start_time": "2021-10-26T15:55:20.591Z"
   },
   {
    "duration": 5467,
    "start_time": "2021-10-26T15:56:39.540Z"
   },
   {
    "duration": 5724,
    "start_time": "2021-10-26T15:56:46.396Z"
   },
   {
    "duration": 5293,
    "start_time": "2021-10-26T15:56:52.699Z"
   },
   {
    "duration": 243,
    "start_time": "2021-10-26T15:59:29.082Z"
   },
   {
    "duration": 266,
    "start_time": "2021-10-26T15:59:34.070Z"
   },
   {
    "duration": 5,
    "start_time": "2021-10-26T16:00:21.986Z"
   },
   {
    "duration": 11,
    "start_time": "2021-10-26T16:00:24.152Z"
   },
   {
    "duration": 238,
    "start_time": "2021-10-26T16:00:37.956Z"
   },
   {
    "duration": 259,
    "start_time": "2021-10-26T16:01:12.932Z"
   },
   {
    "duration": 1705,
    "start_time": "2021-10-26T16:01:28.482Z"
   },
   {
    "duration": 32199,
    "start_time": "2021-10-26T16:04:40.289Z"
   },
   {
    "duration": 6,
    "start_time": "2021-10-26T16:05:35.941Z"
   },
   {
    "duration": 737,
    "start_time": "2021-10-26T16:05:40.547Z"
   },
   {
    "duration": 33130,
    "start_time": "2021-10-26T16:05:46.637Z"
   },
   {
    "duration": 6,
    "start_time": "2021-10-26T16:06:43.362Z"
   },
   {
    "duration": 32495,
    "start_time": "2021-10-26T16:06:51.399Z"
   },
   {
    "duration": 1075,
    "start_time": "2021-10-26T16:11:19.405Z"
   },
   {
    "duration": 4,
    "start_time": "2021-10-26T16:12:27.000Z"
   },
   {
    "duration": 491,
    "start_time": "2021-10-26T16:12:36.412Z"
   },
   {
    "duration": 247,
    "start_time": "2021-10-26T16:13:24.053Z"
   },
   {
    "duration": 4,
    "start_time": "2021-10-26T16:13:30.883Z"
   },
   {
    "duration": 4,
    "start_time": "2021-10-26T16:13:43.498Z"
   },
   {
    "duration": 231,
    "start_time": "2021-10-26T16:13:47.539Z"
   },
   {
    "duration": 238,
    "start_time": "2021-10-26T16:14:27.441Z"
   },
   {
    "duration": 257,
    "start_time": "2021-10-26T16:14:30.377Z"
   },
   {
    "duration": 235,
    "start_time": "2021-10-26T16:15:05.189Z"
   },
   {
    "duration": 263,
    "start_time": "2021-10-26T16:15:51.817Z"
   },
   {
    "duration": 271,
    "start_time": "2021-10-26T16:16:32.725Z"
   },
   {
    "duration": 887,
    "start_time": "2021-10-26T16:16:51.492Z"
   },
   {
    "duration": 924,
    "start_time": "2021-10-26T16:17:05.527Z"
   },
   {
    "duration": 907,
    "start_time": "2021-10-26T16:17:16.590Z"
   },
   {
    "duration": 2988,
    "start_time": "2021-10-26T16:19:31.096Z"
   },
   {
    "duration": 31767,
    "start_time": "2021-10-26T16:19:47.130Z"
   },
   {
    "duration": 36524,
    "start_time": "2021-10-26T16:27:32.703Z"
   },
   {
    "duration": 494457,
    "start_time": "2021-10-26T16:29:06.237Z"
   },
   {
    "duration": 5,
    "start_time": "2021-10-26T16:48:09.589Z"
   },
   {
    "duration": 91201,
    "start_time": "2021-10-26T16:49:29.926Z"
   },
   {
    "duration": 14,
    "start_time": "2021-10-26T16:52:16.014Z"
   },
   {
    "duration": 5,
    "start_time": "2021-10-26T16:52:23.911Z"
   },
   {
    "duration": 13,
    "start_time": "2021-10-26T16:52:39.521Z"
   },
   {
    "duration": 4,
    "start_time": "2021-10-26T16:52:49.797Z"
   },
   {
    "duration": 13,
    "start_time": "2021-10-26T16:53:48.207Z"
   },
   {
    "duration": 334,
    "start_time": "2021-10-26T16:54:05.594Z"
   },
   {
    "duration": 7,
    "start_time": "2021-10-26T16:54:39.566Z"
   },
   {
    "duration": 11,
    "start_time": "2021-10-26T16:54:44.419Z"
   },
   {
    "duration": 8,
    "start_time": "2021-10-26T16:54:47.654Z"
   },
   {
    "duration": 6,
    "start_time": "2021-10-26T16:54:58.177Z"
   },
   {
    "duration": 5,
    "start_time": "2021-10-26T16:56:07.371Z"
   },
   {
    "duration": 4,
    "start_time": "2021-10-26T16:56:12.255Z"
   },
   {
    "duration": 2,
    "start_time": "2021-10-26T16:59:57.881Z"
   },
   {
    "duration": 7911,
    "start_time": "2021-10-26T17:03:30.776Z"
   },
   {
    "duration": 16501,
    "start_time": "2021-10-26T17:05:43.875Z"
   },
   {
    "duration": 3966,
    "start_time": "2021-10-26T17:07:06.675Z"
   },
   {
    "duration": 10,
    "start_time": "2021-10-26T17:07:16.751Z"
   },
   {
    "duration": 77,
    "start_time": "2021-10-26T17:07:24.361Z"
   },
   {
    "duration": 11,
    "start_time": "2021-10-26T17:07:28.603Z"
   },
   {
    "duration": 12,
    "start_time": "2021-10-26T17:07:47.922Z"
   },
   {
    "duration": 300,
    "start_time": "2021-10-26T17:08:44.525Z"
   },
   {
    "duration": 85,
    "start_time": "2021-10-26T17:09:10.084Z"
   },
   {
    "duration": 12,
    "start_time": "2021-10-26T17:09:16.868Z"
   },
   {
    "duration": 12,
    "start_time": "2021-10-26T17:09:27.365Z"
   },
   {
    "duration": 17,
    "start_time": "2021-10-26T17:09:34.742Z"
   },
   {
    "duration": 284,
    "start_time": "2021-10-26T17:09:37.746Z"
   },
   {
    "duration": 11,
    "start_time": "2021-10-26T17:09:40.401Z"
   },
   {
    "duration": 256,
    "start_time": "2021-10-26T17:09:49.534Z"
   },
   {
    "duration": 11,
    "start_time": "2021-10-26T17:10:08.467Z"
   },
   {
    "duration": 12,
    "start_time": "2021-10-26T17:10:34.314Z"
   },
   {
    "duration": 9,
    "start_time": "2021-10-26T17:11:17.960Z"
   },
   {
    "duration": 18,
    "start_time": "2021-10-26T17:13:03.576Z"
   },
   {
    "duration": 3,
    "start_time": "2021-10-26T17:13:57.148Z"
   },
   {
    "duration": 9,
    "start_time": "2021-10-26T17:15:53.758Z"
   },
   {
    "duration": 565,
    "start_time": "2021-10-26T17:17:25.292Z"
   },
   {
    "duration": 576,
    "start_time": "2021-10-26T17:17:54.185Z"
   },
   {
    "duration": 365,
    "start_time": "2021-10-26T17:18:02.635Z"
   },
   {
    "duration": 383,
    "start_time": "2021-10-26T17:18:11.458Z"
   },
   {
    "duration": 240,
    "start_time": "2021-10-26T17:19:12.417Z"
   },
   {
    "duration": 9,
    "start_time": "2021-10-26T17:19:27.513Z"
   },
   {
    "duration": 235,
    "start_time": "2021-10-26T17:19:38.201Z"
   },
   {
    "duration": 230,
    "start_time": "2021-10-26T17:20:31.943Z"
   },
   {
    "duration": 5,
    "start_time": "2021-10-26T17:20:49.051Z"
   },
   {
    "duration": 587,
    "start_time": "2021-10-26T17:20:51.653Z"
   },
   {
    "duration": 377,
    "start_time": "2021-10-26T17:21:01.434Z"
   },
   {
    "duration": 403,
    "start_time": "2021-10-26T17:21:29.895Z"
   },
   {
    "duration": 358,
    "start_time": "2021-10-26T17:21:53.614Z"
   },
   {
    "duration": 3,
    "start_time": "2021-10-26T17:22:36.940Z"
   },
   {
    "duration": 255,
    "start_time": "2021-10-26T17:23:15.151Z"
   },
   {
    "duration": 9,
    "start_time": "2021-10-26T17:23:29.225Z"
   },
   {
    "duration": 303,
    "start_time": "2021-10-26T17:23:34.095Z"
   },
   {
    "duration": 87,
    "start_time": "2021-10-26T17:24:02.111Z"
   },
   {
    "duration": 332,
    "start_time": "2021-10-26T17:24:06.017Z"
   },
   {
    "duration": 1158,
    "start_time": "2021-10-26T17:34:33.888Z"
   },
   {
    "duration": 43,
    "start_time": "2021-10-26T17:34:35.048Z"
   },
   {
    "duration": 106,
    "start_time": "2021-10-26T17:34:35.095Z"
   },
   {
    "duration": 32,
    "start_time": "2021-10-26T17:34:35.203Z"
   },
   {
    "duration": 28,
    "start_time": "2021-10-26T17:34:35.237Z"
   },
   {
    "duration": 17,
    "start_time": "2021-10-26T17:34:35.266Z"
   },
   {
    "duration": 15,
    "start_time": "2021-10-26T17:34:35.284Z"
   },
   {
    "duration": 21,
    "start_time": "2021-10-26T17:34:35.301Z"
   },
   {
    "duration": 15,
    "start_time": "2021-10-26T17:34:35.324Z"
   },
   {
    "duration": 38,
    "start_time": "2021-10-26T17:34:35.364Z"
   },
   {
    "duration": 7,
    "start_time": "2021-10-26T17:34:35.404Z"
   },
   {
    "duration": 8,
    "start_time": "2021-10-26T17:34:35.413Z"
   },
   {
    "duration": 6,
    "start_time": "2021-10-26T17:34:35.422Z"
   },
   {
    "duration": 33,
    "start_time": "2021-10-26T17:34:35.430Z"
   },
   {
    "duration": 264,
    "start_time": "2021-10-26T17:34:35.465Z"
   },
   {
    "duration": 273,
    "start_time": "2021-10-26T17:34:35.730Z"
   },
   {
    "duration": 762,
    "start_time": "2021-10-26T17:34:36.005Z"
   },
   {
    "duration": 3,
    "start_time": "2021-10-26T17:34:36.769Z"
   },
   {
    "duration": 7,
    "start_time": "2021-10-26T17:34:36.776Z"
   },
   {
    "duration": 781,
    "start_time": "2021-10-26T17:34:36.785Z"
   },
   {
    "duration": 232,
    "start_time": "2021-10-26T17:34:37.568Z"
   },
   {
    "duration": 6,
    "start_time": "2021-10-26T17:34:37.802Z"
   },
   {
    "duration": 168,
    "start_time": "2021-10-26T17:34:37.809Z"
   },
   {
    "duration": 16,
    "start_time": "2021-10-26T17:34:37.978Z"
   },
   {
    "duration": 15,
    "start_time": "2021-10-26T17:34:37.996Z"
   },
   {
    "duration": 18,
    "start_time": "2021-10-26T17:34:38.015Z"
   },
   {
    "duration": 31,
    "start_time": "2021-10-26T17:34:38.035Z"
   },
   {
    "duration": 7,
    "start_time": "2021-10-26T17:34:38.069Z"
   },
   {
    "duration": 16,
    "start_time": "2021-10-26T17:34:38.078Z"
   },
   {
    "duration": 10,
    "start_time": "2021-10-26T17:34:38.096Z"
   },
   {
    "duration": 31,
    "start_time": "2021-10-26T17:34:38.108Z"
   },
   {
    "duration": 15,
    "start_time": "2021-10-26T17:34:38.141Z"
   },
   {
    "duration": 2333,
    "start_time": "2021-10-26T17:34:38.158Z"
   },
   {
    "duration": 215294,
    "start_time": "2021-10-26T17:34:40.493Z"
   },
   {
    "duration": 775,
    "start_time": "2021-10-26T17:38:15.788Z"
   },
   {
    "duration": 326866,
    "start_time": "2021-10-26T17:38:16.565Z"
   },
   {
    "duration": 369,
    "start_time": "2021-10-26T17:43:43.433Z"
   },
   {
    "duration": -20,
    "start_time": "2021-10-26T17:43:43.824Z"
   },
   {
    "duration": -22,
    "start_time": "2021-10-26T17:43:43.827Z"
   },
   {
    "duration": -26,
    "start_time": "2021-10-26T17:43:43.832Z"
   },
   {
    "duration": -27,
    "start_time": "2021-10-26T17:43:43.834Z"
   },
   {
    "duration": -28,
    "start_time": "2021-10-26T17:43:43.836Z"
   },
   {
    "duration": 5,
    "start_time": "2021-10-26T17:44:29.994Z"
   },
   {
    "duration": 3,
    "start_time": "2021-10-26T17:45:45.192Z"
   },
   {
    "duration": 88239,
    "start_time": "2021-10-26T17:45:46.725Z"
   },
   {
    "duration": 16398,
    "start_time": "2021-10-26T17:47:29.414Z"
   },
   {
    "duration": 20,
    "start_time": "2021-10-26T17:47:45.815Z"
   },
   {
    "duration": 6,
    "start_time": "2021-10-26T17:47:45.838Z"
   },
   {
    "duration": 387,
    "start_time": "2021-10-26T17:47:45.846Z"
   },
   {
    "duration": 319,
    "start_time": "2021-10-26T17:47:46.236Z"
   },
   {
    "duration": 1267,
    "start_time": "2021-10-26T17:54:41.720Z"
   },
   {
    "duration": 102,
    "start_time": "2021-10-26T17:54:42.989Z"
   },
   {
    "duration": 44,
    "start_time": "2021-10-26T17:54:43.094Z"
   },
   {
    "duration": 37,
    "start_time": "2021-10-26T17:54:43.140Z"
   },
   {
    "duration": 15,
    "start_time": "2021-10-26T17:54:43.179Z"
   },
   {
    "duration": 14,
    "start_time": "2021-10-26T17:54:43.196Z"
   },
   {
    "duration": 29,
    "start_time": "2021-10-26T17:54:43.211Z"
   },
   {
    "duration": 27,
    "start_time": "2021-10-26T17:54:43.243Z"
   },
   {
    "duration": 38,
    "start_time": "2021-10-26T17:54:43.273Z"
   },
   {
    "duration": 8,
    "start_time": "2021-10-26T17:54:43.312Z"
   },
   {
    "duration": 8,
    "start_time": "2021-10-26T17:54:43.321Z"
   },
   {
    "duration": 5,
    "start_time": "2021-10-26T17:54:43.331Z"
   },
   {
    "duration": 36,
    "start_time": "2021-10-26T17:54:43.338Z"
   },
   {
    "duration": 290,
    "start_time": "2021-10-26T17:54:43.376Z"
   },
   {
    "duration": 285,
    "start_time": "2021-10-26T17:54:43.668Z"
   },
   {
    "duration": 679,
    "start_time": "2021-10-26T17:54:43.963Z"
   },
   {
    "duration": 3,
    "start_time": "2021-10-26T17:54:44.644Z"
   },
   {
    "duration": 14,
    "start_time": "2021-10-26T17:54:44.649Z"
   },
   {
    "duration": 799,
    "start_time": "2021-10-26T17:54:44.665Z"
   },
   {
    "duration": 241,
    "start_time": "2021-10-26T17:54:45.466Z"
   },
   {
    "duration": 6,
    "start_time": "2021-10-26T17:54:45.709Z"
   },
   {
    "duration": 182,
    "start_time": "2021-10-26T17:54:45.716Z"
   },
   {
    "duration": 17,
    "start_time": "2021-10-26T17:54:45.901Z"
   },
   {
    "duration": 16,
    "start_time": "2021-10-26T17:54:45.921Z"
   },
   {
    "duration": 27,
    "start_time": "2021-10-26T17:54:45.939Z"
   },
   {
    "duration": 11,
    "start_time": "2021-10-26T17:54:45.968Z"
   },
   {
    "duration": 8,
    "start_time": "2021-10-26T17:54:45.981Z"
   },
   {
    "duration": 11,
    "start_time": "2021-10-26T17:54:45.991Z"
   },
   {
    "duration": 7,
    "start_time": "2021-10-26T17:54:46.004Z"
   },
   {
    "duration": 9,
    "start_time": "2021-10-26T17:54:46.013Z"
   },
   {
    "duration": 9,
    "start_time": "2021-10-26T17:54:46.024Z"
   },
   {
    "duration": 2375,
    "start_time": "2021-10-26T17:54:46.035Z"
   },
   {
    "duration": 218202,
    "start_time": "2021-10-26T17:54:48.412Z"
   },
   {
    "duration": 722,
    "start_time": "2021-10-26T17:58:26.616Z"
   },
   {
    "duration": 332164,
    "start_time": "2021-10-26T17:58:27.339Z"
   },
   {
    "duration": 3,
    "start_time": "2021-10-26T18:03:59.505Z"
   },
   {
    "duration": 86232,
    "start_time": "2021-10-26T18:03:59.510Z"
   },
   {
    "duration": 16533,
    "start_time": "2021-10-26T18:05:25.744Z"
   },
   {
    "duration": 20,
    "start_time": "2021-10-26T18:05:42.279Z"
   },
   {
    "duration": 4,
    "start_time": "2021-10-26T18:05:42.301Z"
   },
   {
    "duration": 462,
    "start_time": "2021-10-26T18:05:42.307Z"
   },
   {
    "duration": 309,
    "start_time": "2021-10-26T18:05:42.771Z"
   },
   {
    "duration": 305,
    "start_time": "2021-10-26T18:06:21.926Z"
   },
   {
    "duration": 1718,
    "start_time": "2021-10-26T21:19:47.297Z"
   },
   {
    "duration": 102,
    "start_time": "2021-10-26T21:19:53.435Z"
   },
   {
    "duration": 46,
    "start_time": "2021-10-26T21:20:19.309Z"
   },
   {
    "duration": 42,
    "start_time": "2021-10-26T21:20:19.918Z"
   },
   {
    "duration": 22,
    "start_time": "2021-10-26T21:20:20.394Z"
   },
   {
    "duration": 20,
    "start_time": "2021-10-26T21:20:20.967Z"
   },
   {
    "duration": 30,
    "start_time": "2021-10-26T21:20:21.160Z"
   },
   {
    "duration": 18,
    "start_time": "2021-10-26T21:20:22.913Z"
   },
   {
    "duration": 58,
    "start_time": "2021-10-26T21:24:01.590Z"
   },
   {
    "duration": 13,
    "start_time": "2021-10-26T21:24:03.842Z"
   },
   {
    "duration": 5,
    "start_time": "2021-10-26T21:24:04.410Z"
   },
   {
    "duration": 5,
    "start_time": "2021-10-26T21:25:24.820Z"
   },
   {
    "duration": 20,
    "start_time": "2021-10-26T21:25:29.458Z"
   },
   {
    "duration": 474,
    "start_time": "2021-10-26T21:25:29.936Z"
   },
   {
    "duration": 479,
    "start_time": "2021-10-26T21:25:32.189Z"
   },
   {
    "duration": 1121,
    "start_time": "2021-10-26T21:25:33.303Z"
   },
   {
    "duration": 4,
    "start_time": "2021-10-26T21:25:34.811Z"
   },
   {
    "duration": 6,
    "start_time": "2021-10-26T21:25:34.963Z"
   },
   {
    "duration": 1267,
    "start_time": "2021-10-26T21:25:35.124Z"
   },
   {
    "duration": 402,
    "start_time": "2021-10-26T21:25:36.393Z"
   },
   {
    "duration": 8,
    "start_time": "2021-10-26T21:25:36.798Z"
   },
   {
    "duration": 221,
    "start_time": "2021-10-26T21:25:36.808Z"
   },
   {
    "duration": 23,
    "start_time": "2021-10-26T21:28:37.264Z"
   },
   {
    "duration": 25,
    "start_time": "2021-10-26T21:28:38.186Z"
   },
   {
    "duration": 8,
    "start_time": "2021-10-26T21:28:56.859Z"
   },
   {
    "duration": 19,
    "start_time": "2021-10-26T21:33:45.409Z"
   },
   {
    "duration": 12,
    "start_time": "2021-10-26T21:33:46.454Z"
   },
   {
    "duration": 4,
    "start_time": "2021-10-26T21:34:59.947Z"
   },
   {
    "duration": 7,
    "start_time": "2021-10-26T21:35:02.059Z"
   },
   {
    "duration": 4,
    "start_time": "2021-10-26T21:35:07.964Z"
   },
   {
    "duration": 135,
    "start_time": "2021-10-26T23:22:32.687Z"
   },
   {
    "duration": 224,
    "start_time": "2021-10-27T11:35:12.747Z"
   },
   {
    "duration": 1158,
    "start_time": "2021-10-27T11:35:19.617Z"
   },
   {
    "duration": 94,
    "start_time": "2021-10-27T11:35:20.777Z"
   },
   {
    "duration": 29,
    "start_time": "2021-10-27T11:35:20.873Z"
   },
   {
    "duration": 33,
    "start_time": "2021-10-27T11:35:20.904Z"
   },
   {
    "duration": 14,
    "start_time": "2021-10-27T11:35:20.939Z"
   },
   {
    "duration": 12,
    "start_time": "2021-10-27T11:35:21.257Z"
   },
   {
    "duration": 18,
    "start_time": "2021-10-27T11:35:21.895Z"
   },
   {
    "duration": 17,
    "start_time": "2021-10-27T11:35:23.032Z"
   },
   {
    "duration": 36,
    "start_time": "2021-10-27T11:35:25.528Z"
   },
   {
    "duration": 8,
    "start_time": "2021-10-27T11:35:25.845Z"
   },
   {
    "duration": 4,
    "start_time": "2021-10-27T11:35:26.187Z"
   },
   {
    "duration": 3,
    "start_time": "2021-10-27T11:35:26.675Z"
   },
   {
    "duration": 12,
    "start_time": "2021-10-27T11:35:27.380Z"
   },
   {
    "duration": 274,
    "start_time": "2021-10-27T11:35:28.057Z"
   },
   {
    "duration": 276,
    "start_time": "2021-10-27T11:35:28.861Z"
   },
   {
    "duration": 659,
    "start_time": "2021-10-27T11:35:29.369Z"
   },
   {
    "duration": 3,
    "start_time": "2021-10-27T11:35:30.206Z"
   },
   {
    "duration": 3,
    "start_time": "2021-10-27T11:35:30.393Z"
   },
   {
    "duration": 793,
    "start_time": "2021-10-27T11:35:30.577Z"
   },
   {
    "duration": 243,
    "start_time": "2021-10-27T11:35:31.372Z"
   },
   {
    "duration": 7,
    "start_time": "2021-10-27T11:35:33.363Z"
   },
   {
    "duration": 140,
    "start_time": "2021-10-27T11:35:33.690Z"
   },
   {
    "duration": 16,
    "start_time": "2021-10-27T11:35:42.687Z"
   },
   {
    "duration": 16,
    "start_time": "2021-10-27T11:35:44.473Z"
   },
   {
    "duration": 35,
    "start_time": "2021-10-27T11:35:46.607Z"
   },
   {
    "duration": 4307,
    "start_time": "2021-10-27T11:38:16.154Z"
   },
   {
    "duration": 34,
    "start_time": "2021-10-27T11:38:21.991Z"
   },
   {
    "duration": 717,
    "start_time": "2021-10-27T11:39:37.277Z"
   },
   {
    "duration": 172,
    "start_time": "2021-10-27T11:41:06.833Z"
   },
   {
    "duration": 36,
    "start_time": "2021-10-27T11:41:30.025Z"
   },
   {
    "duration": 11,
    "start_time": "2021-10-27T11:41:35.300Z"
   },
   {
    "duration": 34,
    "start_time": "2021-10-27T11:41:40.298Z"
   },
   {
    "duration": 13,
    "start_time": "2021-10-27T11:45:12.195Z"
   },
   {
    "duration": 197,
    "start_time": "2021-10-27T11:45:22.817Z"
   },
   {
    "duration": 198,
    "start_time": "2021-10-27T11:45:31.426Z"
   },
   {
    "duration": 183,
    "start_time": "2021-10-27T11:45:40.321Z"
   },
   {
    "duration": 13,
    "start_time": "2021-10-27T11:45:57.037Z"
   },
   {
    "duration": 12,
    "start_time": "2021-10-27T11:46:07.700Z"
   },
   {
    "duration": 14,
    "start_time": "2021-10-27T11:46:13.081Z"
   },
   {
    "duration": 12,
    "start_time": "2021-10-27T11:46:33.038Z"
   },
   {
    "duration": 634,
    "start_time": "2021-10-27T11:48:43.899Z"
   },
   {
    "duration": 691,
    "start_time": "2021-10-27T11:48:48.711Z"
   },
   {
    "duration": 730,
    "start_time": "2021-10-27T11:48:56.139Z"
   },
   {
    "duration": 868,
    "start_time": "2021-10-27T11:49:02.663Z"
   },
   {
    "duration": 752,
    "start_time": "2021-10-27T11:49:09.544Z"
   },
   {
    "duration": 751,
    "start_time": "2021-10-27T11:49:22.480Z"
   },
   {
    "duration": 753,
    "start_time": "2021-10-27T11:50:18.047Z"
   },
   {
    "duration": 65,
    "start_time": "2021-10-27T11:51:12.412Z"
   },
   {
    "duration": 2227,
    "start_time": "2021-10-27T11:51:17.676Z"
   },
   {
    "duration": 2259,
    "start_time": "2021-10-27T11:52:20.119Z"
   },
   {
    "duration": 60,
    "start_time": "2021-10-27T11:52:32.805Z"
   },
   {
    "duration": 2446,
    "start_time": "2021-10-27T11:52:36.013Z"
   },
   {
    "duration": 2213,
    "start_time": "2021-10-27T11:52:51.296Z"
   },
   {
    "duration": 2377,
    "start_time": "2021-10-27T11:52:59.801Z"
   },
   {
    "duration": 1184,
    "start_time": "2021-10-27T11:59:31.085Z"
   },
   {
    "duration": 95,
    "start_time": "2021-10-27T11:59:32.271Z"
   },
   {
    "duration": 29,
    "start_time": "2021-10-27T11:59:32.368Z"
   },
   {
    "duration": 24,
    "start_time": "2021-10-27T11:59:32.398Z"
   },
   {
    "duration": 14,
    "start_time": "2021-10-27T11:59:32.424Z"
   },
   {
    "duration": 14,
    "start_time": "2021-10-27T11:59:32.440Z"
   },
   {
    "duration": 42,
    "start_time": "2021-10-27T11:59:32.455Z"
   },
   {
    "duration": 13,
    "start_time": "2021-10-27T11:59:32.500Z"
   },
   {
    "duration": 37,
    "start_time": "2021-10-27T11:59:32.515Z"
   },
   {
    "duration": 9,
    "start_time": "2021-10-27T11:59:32.553Z"
   },
   {
    "duration": 31,
    "start_time": "2021-10-27T11:59:32.564Z"
   },
   {
    "duration": 5,
    "start_time": "2021-10-27T11:59:32.597Z"
   },
   {
    "duration": 15,
    "start_time": "2021-10-27T11:59:32.603Z"
   },
   {
    "duration": 289,
    "start_time": "2021-10-27T11:59:32.620Z"
   },
   {
    "duration": 284,
    "start_time": "2021-10-27T11:59:32.911Z"
   },
   {
    "duration": 656,
    "start_time": "2021-10-27T11:59:33.196Z"
   },
   {
    "duration": 4,
    "start_time": "2021-10-27T11:59:33.854Z"
   },
   {
    "duration": 6,
    "start_time": "2021-10-27T11:59:33.859Z"
   },
   {
    "duration": 763,
    "start_time": "2021-10-27T11:59:33.866Z"
   },
   {
    "duration": 231,
    "start_time": "2021-10-27T11:59:34.631Z"
   },
   {
    "duration": 5,
    "start_time": "2021-10-27T11:59:34.864Z"
   },
   {
    "duration": 153,
    "start_time": "2021-10-27T11:59:34.871Z"
   },
   {
    "duration": 18,
    "start_time": "2021-10-27T11:59:35.028Z"
   },
   {
    "duration": 19,
    "start_time": "2021-10-27T11:59:35.048Z"
   },
   {
    "duration": 2276,
    "start_time": "2021-10-27T11:59:35.069Z"
   },
   {
    "duration": 4,
    "start_time": "2021-10-27T11:59:37.347Z"
   },
   {
    "duration": 16,
    "start_time": "2021-10-27T11:59:37.352Z"
   },
   {
    "duration": 22,
    "start_time": "2021-10-27T11:59:37.370Z"
   },
   {
    "duration": 2,
    "start_time": "2021-10-27T11:59:37.394Z"
   },
   {
    "duration": 6,
    "start_time": "2021-10-27T11:59:37.397Z"
   },
   {
    "duration": 5,
    "start_time": "2021-10-27T11:59:37.404Z"
   },
   {
    "duration": 7,
    "start_time": "2021-10-27T11:59:37.410Z"
   },
   {
    "duration": 1794,
    "start_time": "2021-10-27T11:59:37.418Z"
   },
   {
    "duration": 153652,
    "start_time": "2021-10-27T11:59:39.214Z"
   },
   {
    "duration": 651,
    "start_time": "2021-10-27T12:02:12.868Z"
   },
   {
    "duration": 235049,
    "start_time": "2021-10-27T12:02:13.520Z"
   },
   {
    "duration": 2,
    "start_time": "2021-10-27T12:06:08.571Z"
   },
   {
    "duration": 133419,
    "start_time": "2021-10-27T12:06:08.575Z"
   },
   {
    "duration": 25612,
    "start_time": "2021-10-27T12:08:21.995Z"
   },
   {
    "duration": 23,
    "start_time": "2021-10-27T12:08:47.608Z"
   },
   {
    "duration": 4,
    "start_time": "2021-10-27T12:08:47.632Z"
   },
   {
    "duration": 419,
    "start_time": "2021-10-27T12:08:47.638Z"
   },
   {
    "duration": 319,
    "start_time": "2021-10-27T12:08:48.059Z"
   },
   {
    "duration": 2063,
    "start_time": "2021-10-27T12:10:08.363Z"
   },
   {
    "duration": 9,
    "start_time": "2021-10-27T12:12:37.176Z"
   },
   {
    "duration": 34,
    "start_time": "2021-10-27T12:13:29.676Z"
   },
   {
    "duration": 151110,
    "start_time": "2021-10-27T12:17:33.912Z"
   },
   {
    "duration": 195451,
    "start_time": "2021-10-27T12:21:04.941Z"
   },
   {
    "duration": 132291,
    "start_time": "2021-10-27T12:24:33.487Z"
   },
   {
    "duration": 26646,
    "start_time": "2021-10-27T12:27:04.956Z"
   },
   {
    "duration": 34,
    "start_time": "2021-10-27T12:27:34.957Z"
   },
   {
    "duration": 5,
    "start_time": "2021-10-27T12:27:41.481Z"
   },
   {
    "duration": 364,
    "start_time": "2021-10-27T12:27:41.641Z"
   },
   {
    "duration": 310,
    "start_time": "2021-10-27T12:27:42.944Z"
   },
   {
    "duration": 172534,
    "start_time": "2021-10-27T12:30:56.456Z"
   },
   {
    "duration": 28775,
    "start_time": "2021-10-27T12:34:12.322Z"
   },
   {
    "duration": 34,
    "start_time": "2021-10-27T12:34:58.453Z"
   },
   {
    "duration": 4,
    "start_time": "2021-10-27T12:35:52.091Z"
   },
   {
    "duration": 367,
    "start_time": "2021-10-27T12:35:52.378Z"
   },
   {
    "duration": 308,
    "start_time": "2021-10-27T12:35:55.755Z"
   },
   {
    "duration": 19894,
    "start_time": "2021-10-27T12:45:56.604Z"
   },
   {
    "duration": 16832,
    "start_time": "2021-10-27T12:46:38.596Z"
   },
   {
    "duration": 159003,
    "start_time": "2021-10-27T12:47:24.481Z"
   },
   {
    "duration": 35647,
    "start_time": "2021-10-27T12:50:28.871Z"
   },
   {
    "duration": 35,
    "start_time": "2021-10-27T12:51:07.011Z"
   },
   {
    "duration": 5,
    "start_time": "2021-10-27T12:51:30.360Z"
   },
   {
    "duration": 373,
    "start_time": "2021-10-27T12:51:30.506Z"
   },
   {
    "duration": 315,
    "start_time": "2021-10-27T12:51:31.096Z"
   },
   {
    "duration": 1147,
    "start_time": "2021-10-27T12:54:19.814Z"
   },
   {
    "duration": 94,
    "start_time": "2021-10-27T12:54:20.963Z"
   },
   {
    "duration": 28,
    "start_time": "2021-10-27T12:54:21.059Z"
   },
   {
    "duration": 23,
    "start_time": "2021-10-27T12:54:21.088Z"
   },
   {
    "duration": 13,
    "start_time": "2021-10-27T12:54:21.113Z"
   },
   {
    "duration": 12,
    "start_time": "2021-10-27T12:54:21.128Z"
   },
   {
    "duration": 16,
    "start_time": "2021-10-27T12:54:21.143Z"
   },
   {
    "duration": 35,
    "start_time": "2021-10-27T12:54:21.161Z"
   },
   {
    "duration": 33,
    "start_time": "2021-10-27T12:54:21.199Z"
   },
   {
    "duration": 7,
    "start_time": "2021-10-27T12:54:21.234Z"
   },
   {
    "duration": 3,
    "start_time": "2021-10-27T12:54:21.243Z"
   },
   {
    "duration": 4,
    "start_time": "2021-10-27T12:54:21.248Z"
   },
   {
    "duration": 37,
    "start_time": "2021-10-27T12:54:21.254Z"
   },
   {
    "duration": 271,
    "start_time": "2021-10-27T12:54:21.293Z"
   },
   {
    "duration": 287,
    "start_time": "2021-10-27T12:54:21.565Z"
   },
   {
    "duration": 645,
    "start_time": "2021-10-27T12:54:21.854Z"
   },
   {
    "duration": 3,
    "start_time": "2021-10-27T12:54:22.501Z"
   },
   {
    "duration": 9,
    "start_time": "2021-10-27T12:54:22.505Z"
   },
   {
    "duration": 1218,
    "start_time": "2021-10-27T12:54:22.516Z"
   },
   {
    "duration": 236,
    "start_time": "2021-10-27T12:54:23.736Z"
   },
   {
    "duration": 18,
    "start_time": "2021-10-27T12:54:23.973Z"
   },
   {
    "duration": 298,
    "start_time": "2021-10-27T12:54:23.993Z"
   },
   {
    "duration": 16,
    "start_time": "2021-10-27T12:54:24.293Z"
   },
   {
    "duration": 15,
    "start_time": "2021-10-27T12:54:24.310Z"
   },
   {
    "duration": 2783,
    "start_time": "2021-10-27T12:54:24.326Z"
   },
   {
    "duration": 4,
    "start_time": "2021-10-27T12:54:27.110Z"
   },
   {
    "duration": 12,
    "start_time": "2021-10-27T12:54:27.117Z"
   },
   {
    "duration": 60,
    "start_time": "2021-10-27T12:54:27.131Z"
   },
   {
    "duration": 3,
    "start_time": "2021-10-27T12:54:27.193Z"
   },
   {
    "duration": 9,
    "start_time": "2021-10-27T12:54:27.197Z"
   },
   {
    "duration": 12,
    "start_time": "2021-10-27T12:54:27.207Z"
   },
   {
    "duration": 6,
    "start_time": "2021-10-27T12:54:27.220Z"
   },
   {
    "duration": 1968,
    "start_time": "2021-10-27T12:54:27.227Z"
   },
   {
    "duration": 153591,
    "start_time": "2021-10-27T12:54:29.197Z"
   },
   {
    "duration": 651,
    "start_time": "2021-10-27T12:57:02.790Z"
   },
   {
    "duration": 110916,
    "start_time": "2021-10-27T12:57:03.443Z"
   },
   {
    "duration": 672,
    "start_time": "2021-10-27T12:58:53.689Z"
   },
   {
    "duration": 671,
    "start_time": "2021-10-27T12:58:53.691Z"
   },
   {
    "duration": 670,
    "start_time": "2021-10-27T12:58:53.693Z"
   },
   {
    "duration": 670,
    "start_time": "2021-10-27T12:58:53.694Z"
   },
   {
    "duration": 669,
    "start_time": "2021-10-27T12:58:53.696Z"
   },
   {
    "duration": 668,
    "start_time": "2021-10-27T12:58:53.698Z"
   },
   {
    "duration": 666,
    "start_time": "2021-10-27T12:58:53.701Z"
   },
   {
    "duration": 1179,
    "start_time": "2021-10-27T12:59:03.274Z"
   },
   {
    "duration": 97,
    "start_time": "2021-10-27T12:59:04.455Z"
   },
   {
    "duration": 27,
    "start_time": "2021-10-27T12:59:04.554Z"
   },
   {
    "duration": 25,
    "start_time": "2021-10-27T12:59:04.583Z"
   },
   {
    "duration": 13,
    "start_time": "2021-10-27T12:59:04.610Z"
   },
   {
    "duration": 13,
    "start_time": "2021-10-27T12:59:04.624Z"
   },
   {
    "duration": 17,
    "start_time": "2021-10-27T12:59:04.639Z"
   },
   {
    "duration": 36,
    "start_time": "2021-10-27T12:59:04.658Z"
   },
   {
    "duration": 34,
    "start_time": "2021-10-27T12:59:04.696Z"
   },
   {
    "duration": 7,
    "start_time": "2021-10-27T12:59:04.732Z"
   },
   {
    "duration": 5,
    "start_time": "2021-10-27T12:59:04.740Z"
   },
   {
    "duration": 5,
    "start_time": "2021-10-27T12:59:04.746Z"
   },
   {
    "duration": 13,
    "start_time": "2021-10-27T12:59:04.752Z"
   },
   {
    "duration": 301,
    "start_time": "2021-10-27T12:59:04.766Z"
   },
   {
    "duration": 288,
    "start_time": "2021-10-27T12:59:05.069Z"
   },
   {
    "duration": 652,
    "start_time": "2021-10-27T12:59:05.359Z"
   },
   {
    "duration": 3,
    "start_time": "2021-10-27T12:59:06.013Z"
   },
   {
    "duration": 10,
    "start_time": "2021-10-27T12:59:06.018Z"
   },
   {
    "duration": 765,
    "start_time": "2021-10-27T12:59:06.030Z"
   },
   {
    "duration": 240,
    "start_time": "2021-10-27T12:59:06.797Z"
   },
   {
    "duration": 6,
    "start_time": "2021-10-27T12:59:07.038Z"
   },
   {
    "duration": 148,
    "start_time": "2021-10-27T12:59:07.045Z"
   },
   {
    "duration": 15,
    "start_time": "2021-10-27T12:59:07.197Z"
   },
   {
    "duration": 15,
    "start_time": "2021-10-27T12:59:07.214Z"
   },
   {
    "duration": 2211,
    "start_time": "2021-10-27T12:59:07.231Z"
   },
   {
    "duration": 5,
    "start_time": "2021-10-27T12:59:09.443Z"
   },
   {
    "duration": 13,
    "start_time": "2021-10-27T12:59:09.449Z"
   },
   {
    "duration": 6,
    "start_time": "2021-10-27T12:59:09.463Z"
   },
   {
    "duration": 21,
    "start_time": "2021-10-27T12:59:09.471Z"
   },
   {
    "duration": 6,
    "start_time": "2021-10-27T12:59:09.494Z"
   },
   {
    "duration": 7,
    "start_time": "2021-10-27T12:59:09.502Z"
   },
   {
    "duration": 6,
    "start_time": "2021-10-27T12:59:09.511Z"
   },
   {
    "duration": 1826,
    "start_time": "2021-10-27T12:59:09.518Z"
   },
   {
    "duration": 153346,
    "start_time": "2021-10-27T12:59:11.345Z"
   },
   {
    "duration": 653,
    "start_time": "2021-10-27T13:01:44.693Z"
   },
   {
    "duration": 234685,
    "start_time": "2021-10-27T13:01:45.348Z"
   },
   {
    "duration": 3,
    "start_time": "2021-10-27T13:05:40.035Z"
   },
   {
    "duration": 152324,
    "start_time": "2021-10-27T13:05:40.039Z"
   },
   {
    "duration": 31968,
    "start_time": "2021-10-27T13:08:12.365Z"
   },
   {
    "duration": 69,
    "start_time": "2021-10-27T13:08:44.334Z"
   },
   {
    "duration": 5,
    "start_time": "2021-10-27T13:08:44.405Z"
   },
   {
    "duration": 414,
    "start_time": "2021-10-27T13:08:44.411Z"
   },
   {
    "duration": 359,
    "start_time": "2021-10-27T13:08:44.827Z"
   }
  ],
  "colab": {
   "collapsed_sections": [],
   "name": "Final_2of3.ipynb",
   "provenance": []
  },
  "kernelspec": {
   "display_name": "Python 3",
   "language": "python",
   "name": "python3"
  },
  "language_info": {
   "codemirror_mode": {
    "name": "ipython",
    "version": 3
   },
   "file_extension": ".py",
   "mimetype": "text/x-python",
   "name": "python",
   "nbconvert_exporter": "python",
   "pygments_lexer": "ipython3",
   "version": "3.7.8"
  },
  "toc": {
   "base_numbering": 1,
   "nav_menu": {
    "height": "502px",
    "width": "450px"
   },
   "number_sections": true,
   "sideBar": true,
   "skip_h1_title": true,
   "title_cell": "Table of Contents",
   "title_sidebar": "Contents",
   "toc_cell": false,
   "toc_position": {
    "height": "calc(100% - 180px)",
    "left": "10px",
    "top": "150px",
    "width": "366.391px"
   },
   "toc_section_display": true,
   "toc_window_display": true
  }
 },
 "nbformat": 4,
 "nbformat_minor": 1
}
